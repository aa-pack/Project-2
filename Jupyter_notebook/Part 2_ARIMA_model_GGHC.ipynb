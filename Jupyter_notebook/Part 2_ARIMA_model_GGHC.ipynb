{
 "cells": [
  {
   "cell_type": "code",
   "execution_count": 26,
   "metadata": {},
   "outputs": [],
   "source": [
    "import pandas as pd\n",
    "import numpy as np\n",
    "import matplotlib.pyplot as plt\n",
    "%matplotlib inline"
   ]
  },
  {
   "cell_type": "code",
   "execution_count": 2,
   "metadata": {},
   "outputs": [
    {
     "data": {
      "text/html": [
       "<div>\n",
       "<style scoped>\n",
       "    .dataframe tbody tr th:only-of-type {\n",
       "        vertical-align: middle;\n",
       "    }\n",
       "\n",
       "    .dataframe tbody tr th {\n",
       "        vertical-align: top;\n",
       "    }\n",
       "\n",
       "    .dataframe thead th {\n",
       "        text-align: right;\n",
       "    }\n",
       "</style>\n",
       "<table border=\"1\" class=\"dataframe\">\n",
       "  <thead>\n",
       "    <tr style=\"text-align: right;\">\n",
       "      <th></th>\n",
       "      <th>Market Return</th>\n",
       "      <th>Portfolio Return</th>\n",
       "    </tr>\n",
       "    <tr>\n",
       "      <th>Date</th>\n",
       "      <th></th>\n",
       "      <th></th>\n",
       "    </tr>\n",
       "  </thead>\n",
       "  <tbody>\n",
       "    <tr>\n",
       "      <th>2018-07-02</th>\n",
       "      <td>1.002766</td>\n",
       "      <td>1.004940</td>\n",
       "    </tr>\n",
       "    <tr>\n",
       "      <th>2018-07-03</th>\n",
       "      <td>0.998673</td>\n",
       "      <td>0.998465</td>\n",
       "    </tr>\n",
       "    <tr>\n",
       "      <th>2018-07-05</th>\n",
       "      <td>1.007006</td>\n",
       "      <td>1.008567</td>\n",
       "    </tr>\n",
       "    <tr>\n",
       "      <th>2018-07-06</th>\n",
       "      <td>1.015414</td>\n",
       "      <td>1.019668</td>\n",
       "    </tr>\n",
       "    <tr>\n",
       "      <th>2018-07-09</th>\n",
       "      <td>1.024706</td>\n",
       "      <td>1.028022</td>\n",
       "    </tr>\n",
       "  </tbody>\n",
       "</table>\n",
       "</div>"
      ],
      "text/plain": [
       "            Market Return  Portfolio Return\n",
       "Date                                       \n",
       "2018-07-02       1.002766          1.004940\n",
       "2018-07-03       0.998673          0.998465\n",
       "2018-07-05       1.007006          1.008567\n",
       "2018-07-06       1.015414          1.019668\n",
       "2018-07-09       1.024706          1.028022"
      ]
     },
     "execution_count": 2,
     "metadata": {},
     "output_type": "execute_result"
    }
   ],
   "source": [
    "from pathlib import Path\n",
    "csvpath = Path('./Resources/GGHC_final.csv')\n",
    "df = pd.read_csv(csvpath, index_col='Date', parse_dates=True, infer_datetime_format=True)\n",
    "df.head()"
   ]
  },
  {
   "cell_type": "code",
   "execution_count": 3,
   "metadata": {
    "scrolled": true
   },
   "outputs": [
    {
     "data": {
      "text/plain": [
       "<matplotlib.axes._subplots.AxesSubplot at 0x153c37d7488>"
      ]
     },
     "execution_count": 3,
     "metadata": {},
     "output_type": "execute_result"
    },
    {
     "data": {
      "image/png": "[encoded data removed]",
      "text/plain": [
       "<Figure size 432x288 with 1 Axes>"
      ]
     },
     "metadata": {
      "needs_background": "light"
     },
     "output_type": "display_data"
    }
   ],
   "source": [
    "df.plot()"
   ]
  },
  {
   "cell_type": "code",
   "execution_count": 4,
   "metadata": {},
   "outputs": [
    {
     "data": {
      "text/html": [
       "<div>\n",
       "<style scoped>\n",
       "    .dataframe tbody tr th:only-of-type {\n",
       "        vertical-align: middle;\n",
       "    }\n",
       "\n",
       "    .dataframe tbody tr th {\n",
       "        vertical-align: top;\n",
       "    }\n",
       "\n",
       "    .dataframe thead th {\n",
       "        text-align: right;\n",
       "    }\n",
       "</style>\n",
       "<table border=\"1\" class=\"dataframe\">\n",
       "  <thead>\n",
       "    <tr style=\"text-align: right;\">\n",
       "      <th></th>\n",
       "      <th>Portfolio Return</th>\n",
       "    </tr>\n",
       "    <tr>\n",
       "      <th>Date</th>\n",
       "      <th></th>\n",
       "    </tr>\n",
       "  </thead>\n",
       "  <tbody>\n",
       "    <tr>\n",
       "      <th>2018-07-02</th>\n",
       "      <td>1.004940</td>\n",
       "    </tr>\n",
       "    <tr>\n",
       "      <th>2018-07-03</th>\n",
       "      <td>0.998465</td>\n",
       "    </tr>\n",
       "  </tbody>\n",
       "</table>\n",
       "</div>"
      ],
      "text/plain": [
       "            Portfolio Return\n",
       "Date                        \n",
       "2018-07-02          1.004940\n",
       "2018-07-03          0.998465"
      ]
     },
     "execution_count": 4,
     "metadata": {},
     "output_type": "execute_result"
    }
   ],
   "source": [
    "portfolio = df[\"Portfolio Return\"].to_frame().dropna()\n",
    "portfolio.head(2)"
   ]
  },
  {
   "cell_type": "markdown",
   "metadata": {},
   "source": [
    "### Augmented Dickey-Fuller Test"
   ]
  },
  {
   "cell_type": "code",
   "execution_count": 5,
   "metadata": {
    "scrolled": false
   },
   "outputs": [
    {
     "data": {
      "text/plain": [
       "(-1.3811815191389294,\n",
       " 0.5912639484014315,\n",
       " 9,\n",
       " 528,\n",
       " {'1%': -3.4427957890025533,\n",
       "  '5%': -2.867029512430173,\n",
       "  '10%': -2.5696937122646926},\n",
       " -2868.822172926365)"
      ]
     },
     "execution_count": 5,
     "metadata": {},
     "output_type": "execute_result"
    }
   ],
   "source": [
    "from statsmodels.tsa.stattools import adfuller\n",
    "adfuller(portfolio)"
   ]
  },
  {
   "cell_type": "markdown",
   "metadata": {},
   "source": [
    "P-value is more than 0.05 indicating the data is non-statinary"
   ]
  },
  {
   "cell_type": "code",
   "execution_count": 6,
   "metadata": {},
   "outputs": [
    {
     "data": {
      "image/png": "[encoded data removed]",
      "text/plain": [
       "<Figure size 432x288 with 1 Axes>"
      ]
     },
     "execution_count": 6,
     "metadata": {},
     "output_type": "execute_result"
    },
    {
     "data": {
      "image/png": "[encoded data removed]",
      "text/plain": [
       "<Figure size 432x288 with 1 Axes>"
      ]
     },
     "metadata": {
      "needs_background": "light"
     },
     "output_type": "display_data"
    }
   ],
   "source": [
    "from statsmodels.graphics.tsaplots import plot_acf, plot_pacf\n",
    "# Plot the autocorrelation of the Settle Prices\n",
    "plot_acf(portfolio, zero=False, lags=30)"
   ]
  },
  {
   "cell_type": "code",
   "execution_count": 7,
   "metadata": {},
   "outputs": [
    {
     "data": {
      "image/png": "[encoded data removed]",
      "text/plain": [
       "<Figure size 432x288 with 1 Axes>"
      ]
     },
     "execution_count": 7,
     "metadata": {},
     "output_type": "execute_result"
    },
    {
     "data": {
      "image/png": "[encoded data removed]",
      "text/plain": [
       "<Figure size 432x288 with 1 Axes>"
      ]
     },
     "metadata": {
      "needs_background": "light"
     },
     "output_type": "display_data"
    }
   ],
   "source": [
    "# Plot the partial autocorrelation of the returns\n",
    "plot_pacf(portfolio, zero=False, lags=30)"
   ]
  },
  {
   "cell_type": "code",
   "execution_count": 8,
   "metadata": {},
   "outputs": [
    {
     "name": "stdout",
     "output_type": "stream",
     "text": [
      "Performing stepwise search to minimize aic\n",
      " ARIMA(1,1,1)(0,0,0)[0] intercept   : AIC=-2929.524, Time=0.23 sec\n",
      " ARIMA(0,1,0)(0,0,0)[0] intercept   : AIC=-2890.673, Time=0.10 sec\n",
      " ARIMA(1,1,0)(0,0,0)[0] intercept   : AIC=-2926.896, Time=0.10 sec\n",
      " ARIMA(0,1,1)(0,0,0)[0] intercept   : AIC=-2917.372, Time=0.38 sec\n",
      " ARIMA(0,1,0)(0,0,0)[0]             : AIC=-2891.969, Time=0.05 sec\n",
      " ARIMA(2,1,1)(0,0,0)[0] intercept   : AIC=-2930.861, Time=0.61 sec\n",
      " ARIMA(2,1,0)(0,0,0)[0] intercept   : AIC=-2934.047, Time=0.17 sec\n",
      " ARIMA(3,1,0)(0,0,0)[0] intercept   : AIC=-2935.511, Time=0.41 sec\n",
      " ARIMA(4,1,0)(0,0,0)[0] intercept   : AIC=-2939.663, Time=0.33 sec\n",
      " ARIMA(5,1,0)(0,0,0)[0] intercept   : AIC=-2940.246, Time=0.47 sec\n",
      " ARIMA(6,1,0)(0,0,0)[0] intercept   : AIC=-2946.253, Time=0.46 sec\n",
      " ARIMA(7,1,0)(0,0,0)[0] intercept   : AIC=-2965.833, Time=0.77 sec\n",
      " ARIMA(7,1,1)(0,0,0)[0] intercept   : AIC=-2981.650, Time=1.90 sec\n",
      " ARIMA(6,1,1)(0,0,0)[0] intercept   : AIC=-2975.884, Time=1.49 sec\n",
      " ARIMA(7,1,2)(0,0,0)[0] intercept   : AIC=-2978.730, Time=1.79 sec\n",
      " ARIMA(6,1,2)(0,0,0)[0] intercept   : AIC=-2962.468, Time=1.64 sec\n",
      " ARIMA(7,1,1)(0,0,0)[0]             : AIC=-2982.656, Time=0.92 sec\n",
      " ARIMA(6,1,1)(0,0,0)[0]             : AIC=-2977.132, Time=0.80 sec\n",
      " ARIMA(7,1,0)(0,0,0)[0]             : AIC=-2967.076, Time=0.22 sec\n",
      " ARIMA(7,1,2)(0,0,0)[0]             : AIC=-2980.150, Time=1.05 sec\n",
      " ARIMA(6,1,0)(0,0,0)[0]             : AIC=-2947.196, Time=0.30 sec\n",
      " ARIMA(6,1,2)(0,0,0)[0]             : AIC=-2968.042, Time=0.98 sec\n",
      "\n",
      "Best model:  ARIMA(7,1,1)(0,0,0)[0]          \n",
      "Total fit time: 15.184 seconds\n"
     ]
    }
   ],
   "source": [
    "from pmdarima.arima import auto_arima\n",
    "step_wise=auto_arima(portfolio,\n",
    " start_p=1, start_q=1, \n",
    " max_p=7, max_q=7, \n",
    " d=1, max_d=7,\n",
    " trace=True, \n",
    " error_action='ignore', \n",
    " suppress_warnings=True, \n",
    " stepwise=True)"
   ]
  },
  {
   "cell_type": "code",
   "execution_count": 9,
   "metadata": {},
   "outputs": [
    {
     "data": {
      "text/html": [
       "<table class=\"simpletable\">\n",
       "<caption>SARIMAX Results</caption>\n",
       "<tr>\n",
       "  <th>Dep. Variable:</th>           <td>y</td>        <th>  No. Observations:  </th>    <td>538</td>   \n",
       "</tr>\n",
       "<tr>\n",
       "  <th>Model:</th>           <td>SARIMAX(7, 1, 1)</td> <th>  Log Likelihood     </th> <td>1500.328</td> \n",
       "</tr>\n",
       "<tr>\n",
       "  <th>Date:</th>            <td>Tue, 25 Aug 2020</td> <th>  AIC                </th> <td>-2982.656</td>\n",
       "</tr>\n",
       "<tr>\n",
       "  <th>Time:</th>                <td>16:40:25</td>     <th>  BIC                </th> <td>-2944.082</td>\n",
       "</tr>\n",
       "<tr>\n",
       "  <th>Sample:</th>                  <td>0</td>        <th>  HQIC               </th> <td>-2967.566</td>\n",
       "</tr>\n",
       "<tr>\n",
       "  <th></th>                      <td> - 538</td>      <th>                     </th>     <td> </td>    \n",
       "</tr>\n",
       "<tr>\n",
       "  <th>Covariance Type:</th>        <td>opg</td>       <th>                     </th>     <td> </td>    \n",
       "</tr>\n",
       "</table>\n",
       "<table class=\"simpletable\">\n",
       "<tr>\n",
       "     <td></td>       <th>coef</th>     <th>std err</th>      <th>z</th>      <th>P>|z|</th>  <th>[0.025</th>    <th>0.975]</th>  \n",
       "</tr>\n",
       "<tr>\n",
       "  <th>ar.L1</th>  <td>   -0.7621</td> <td>    0.075</td> <td>  -10.136</td> <td> 0.000</td> <td>   -0.910</td> <td>   -0.615</td>\n",
       "</tr>\n",
       "<tr>\n",
       "  <th>ar.L2</th>  <td>    0.0276</td> <td>    0.035</td> <td>    0.794</td> <td> 0.427</td> <td>   -0.040</td> <td>    0.096</td>\n",
       "</tr>\n",
       "<tr>\n",
       "  <th>ar.L3</th>  <td>    0.1552</td> <td>    0.033</td> <td>    4.716</td> <td> 0.000</td> <td>    0.091</td> <td>    0.220</td>\n",
       "</tr>\n",
       "<tr>\n",
       "  <th>ar.L4</th>  <td>   -0.0575</td> <td>    0.035</td> <td>   -1.657</td> <td> 0.097</td> <td>   -0.126</td> <td>    0.011</td>\n",
       "</tr>\n",
       "<tr>\n",
       "  <th>ar.L5</th>  <td>   -0.0375</td> <td>    0.041</td> <td>   -0.917</td> <td> 0.359</td> <td>   -0.118</td> <td>    0.043</td>\n",
       "</tr>\n",
       "<tr>\n",
       "  <th>ar.L6</th>  <td>   -0.0401</td> <td>    0.038</td> <td>   -1.043</td> <td> 0.297</td> <td>   -0.115</td> <td>    0.035</td>\n",
       "</tr>\n",
       "<tr>\n",
       "  <th>ar.L7</th>  <td>    0.1501</td> <td>    0.037</td> <td>    4.077</td> <td> 0.000</td> <td>    0.078</td> <td>    0.222</td>\n",
       "</tr>\n",
       "<tr>\n",
       "  <th>ma.L1</th>  <td>    0.6280</td> <td>    0.073</td> <td>    8.638</td> <td> 0.000</td> <td>    0.485</td> <td>    0.770</td>\n",
       "</tr>\n",
       "<tr>\n",
       "  <th>sigma2</th> <td>    0.0002</td> <td> 6.95e-06</td> <td>   31.430</td> <td> 0.000</td> <td>    0.000</td> <td>    0.000</td>\n",
       "</tr>\n",
       "</table>\n",
       "<table class=\"simpletable\">\n",
       "<tr>\n",
       "  <th>Ljung-Box (Q):</th>          <td>34.55</td> <th>  Jarque-Bera (JB):  </th> <td>1096.04</td>\n",
       "</tr>\n",
       "<tr>\n",
       "  <th>Prob(Q):</th>                <td>0.71</td>  <th>  Prob(JB):          </th>  <td>0.00</td>  \n",
       "</tr>\n",
       "<tr>\n",
       "  <th>Heteroskedasticity (H):</th> <td>3.58</td>  <th>  Skew:              </th>  <td>-0.95</td> \n",
       "</tr>\n",
       "<tr>\n",
       "  <th>Prob(H) (two-sided):</th>    <td>0.00</td>  <th>  Kurtosis:          </th>  <td>9.74</td>  \n",
       "</tr>\n",
       "</table><br/><br/>Warnings:<br/>[1] Covariance matrix calculated using the outer product of gradients (complex-step)."
      ],
      "text/plain": [
       "<class 'statsmodels.iolib.summary.Summary'>\n",
       "\"\"\"\n",
       "                               SARIMAX Results                                \n",
       "==============================================================================\n",
       "Dep. Variable:                      y   No. Observations:                  538\n",
       "Model:               SARIMAX(7, 1, 1)   Log Likelihood                1500.328\n",
       "Date:                Tue, 25 Aug 2020   AIC                          -2982.656\n",
       "Time:                        16:40:25   BIC                          -2944.082\n",
       "Sample:                             0   HQIC                         -2967.566\n",
       "                                - 538                                         \n",
       "Covariance Type:                  opg                                         \n",
       "==============================================================================\n",
       "                 coef    std err          z      P>|z|      [0.025      0.975]\n",
       "------------------------------------------------------------------------------\n",
       "ar.L1         -0.7621      0.075    -10.136      0.000      -0.910      -0.615\n",
       "ar.L2          0.0276      0.035      0.794      0.427      -0.040       0.096\n",
       "ar.L3          0.1552      0.033      4.716      0.000       0.091       0.220\n",
       "ar.L4         -0.0575      0.035     -1.657      0.097      -0.126       0.011\n",
       "ar.L5         -0.0375      0.041     -0.917      0.359      -0.118       0.043\n",
       "ar.L6         -0.0401      0.038     -1.043      0.297      -0.115       0.035\n",
       "ar.L7          0.1501      0.037      4.077      0.000       0.078       0.222\n",
       "ma.L1          0.6280      0.073      8.638      0.000       0.485       0.770\n",
       "sigma2         0.0002   6.95e-06     31.430      0.000       0.000       0.000\n",
       "===================================================================================\n",
       "Ljung-Box (Q):                       34.55   Jarque-Bera (JB):              1096.04\n",
       "Prob(Q):                              0.71   Prob(JB):                         0.00\n",
       "Heteroskedasticity (H):               3.58   Skew:                            -0.95\n",
       "Prob(H) (two-sided):                  0.00   Kurtosis:                         9.74\n",
       "===================================================================================\n",
       "\n",
       "Warnings:\n",
       "[1] Covariance matrix calculated using the outer product of gradients (complex-step).\n",
       "\"\"\""
      ]
     },
     "execution_count": 9,
     "metadata": {},
     "output_type": "execute_result"
    }
   ],
   "source": [
    "step_wise.summary()"
   ]
  },
  {
   "cell_type": "markdown",
   "metadata": {},
   "source": [
    "## ARIMA Model"
   ]
  },
  {
   "cell_type": "code",
   "execution_count": 10,
   "metadata": {},
   "outputs": [],
   "source": [
    "from statsmodels.tsa.arima_model import ARIMA"
   ]
  },
  {
   "cell_type": "code",
   "execution_count": 11,
   "metadata": {},
   "outputs": [
    {
     "name": "stderr",
     "output_type": "stream",
     "text": [
      "C:\\Users\\Sungwon Kim\\anaconda3\\envs\\dev\\lib\\site-packages\\statsmodels\\tsa\\base\\tsa_model.py:218: ValueWarning: A date index has been provided, but it has no associated frequency information and so will be ignored when e.g. forecasting.\n",
      "  ' ignored when e.g. forecasting.', ValueWarning)\n",
      "C:\\Users\\Sungwon Kim\\anaconda3\\envs\\dev\\lib\\site-packages\\statsmodels\\tsa\\base\\tsa_model.py:218: ValueWarning: A date index has been provided, but it has no associated frequency information and so will be ignored when e.g. forecasting.\n",
      "  ' ignored when e.g. forecasting.', ValueWarning)\n"
     ]
    }
   ],
   "source": [
    "# Create an ARIMA model\n",
    "model = ARIMA(portfolio, order=(7, 1, 1))"
   ]
  },
  {
   "cell_type": "code",
   "execution_count": 12,
   "metadata": {},
   "outputs": [],
   "source": [
    "# Fit the model to the data\n",
    "results = model.fit()"
   ]
  },
  {
   "cell_type": "code",
   "execution_count": 13,
   "metadata": {},
   "outputs": [
    {
     "data": {
      "text/html": [
       "<table class=\"simpletable\">\n",
       "<caption>ARIMA Model Results</caption>\n",
       "<tr>\n",
       "  <th>Dep. Variable:</th> <td>D.Portfolio Return</td> <th>  No. Observations:  </th>    <td>537</td>   \n",
       "</tr>\n",
       "<tr>\n",
       "  <th>Model:</th>           <td>ARIMA(7, 1, 1)</td>   <th>  Log Likelihood     </th> <td>1500.835</td> \n",
       "</tr>\n",
       "<tr>\n",
       "  <th>Method:</th>              <td>css-mle</td>      <th>  S.D. of innovations</th>   <td>0.015</td>  \n",
       "</tr>\n",
       "<tr>\n",
       "  <th>Date:</th>           <td>Tue, 25 Aug 2020</td>  <th>  AIC                </th> <td>-2981.669</td>\n",
       "</tr>\n",
       "<tr>\n",
       "  <th>Time:</th>               <td>16:40:39</td>      <th>  BIC                </th> <td>-2938.809</td>\n",
       "</tr>\n",
       "<tr>\n",
       "  <th>Sample:</th>                 <td>1</td>         <th>  HQIC               </th> <td>-2964.903</td>\n",
       "</tr>\n",
       "<tr>\n",
       "  <th></th>                        <td> </td>         <th>                     </th>     <td> </td>    \n",
       "</tr>\n",
       "</table>\n",
       "<table class=\"simpletable\">\n",
       "<tr>\n",
       "              <td></td>                <th>coef</th>     <th>std err</th>      <th>z</th>      <th>P>|z|</th>  <th>[0.025</th>    <th>0.975]</th>  \n",
       "</tr>\n",
       "<tr>\n",
       "  <th>const</th>                    <td>    0.0006</td> <td>    0.001</td> <td>    0.919</td> <td> 0.358</td> <td>   -0.001</td> <td>    0.002</td>\n",
       "</tr>\n",
       "<tr>\n",
       "  <th>ar.L1.D.Portfolio Return</th> <td>   -0.7629</td> <td>    0.094</td> <td>   -8.120</td> <td> 0.000</td> <td>   -0.947</td> <td>   -0.579</td>\n",
       "</tr>\n",
       "<tr>\n",
       "  <th>ar.L2.D.Portfolio Return</th> <td>    0.0171</td> <td>    0.056</td> <td>    0.304</td> <td> 0.761</td> <td>   -0.093</td> <td>    0.128</td>\n",
       "</tr>\n",
       "<tr>\n",
       "  <th>ar.L3.D.Portfolio Return</th> <td>    0.1498</td> <td>    0.055</td> <td>    2.729</td> <td> 0.006</td> <td>    0.042</td> <td>    0.257</td>\n",
       "</tr>\n",
       "<tr>\n",
       "  <th>ar.L4.D.Portfolio Return</th> <td>   -0.0537</td> <td>    0.054</td> <td>   -0.988</td> <td> 0.323</td> <td>   -0.160</td> <td>    0.053</td>\n",
       "</tr>\n",
       "<tr>\n",
       "  <th>ar.L5.D.Portfolio Return</th> <td>   -0.0312</td> <td>    0.054</td> <td>   -0.579</td> <td> 0.563</td> <td>   -0.137</td> <td>    0.074</td>\n",
       "</tr>\n",
       "<tr>\n",
       "  <th>ar.L6.D.Portfolio Return</th> <td>   -0.0516</td> <td>    0.054</td> <td>   -0.960</td> <td> 0.337</td> <td>   -0.157</td> <td>    0.054</td>\n",
       "</tr>\n",
       "<tr>\n",
       "  <th>ar.L7.D.Portfolio Return</th> <td>    0.1429</td> <td>    0.050</td> <td>    2.845</td> <td> 0.004</td> <td>    0.044</td> <td>    0.241</td>\n",
       "</tr>\n",
       "<tr>\n",
       "  <th>ma.L1.D.Portfolio Return</th> <td>    0.6195</td> <td>    0.088</td> <td>    7.041</td> <td> 0.000</td> <td>    0.447</td> <td>    0.792</td>\n",
       "</tr>\n",
       "</table>\n",
       "<table class=\"simpletable\">\n",
       "<caption>Roots</caption>\n",
       "<tr>\n",
       "    <td></td>   <th>            Real</th>  <th>         Imaginary</th> <th>         Modulus</th>  <th>        Frequency</th>\n",
       "</tr>\n",
       "<tr>\n",
       "  <th>AR.1</th> <td>          -0.9976</td> <td>          -0.4292j</td> <td>           1.0860</td> <td>          -0.4353</td>\n",
       "</tr>\n",
       "<tr>\n",
       "  <th>AR.2</th> <td>          -0.9976</td> <td>          +0.4292j</td> <td>           1.0860</td> <td>           0.4353</td>\n",
       "</tr>\n",
       "<tr>\n",
       "  <th>AR.3</th> <td>          -0.5159</td> <td>          -1.2313j</td> <td>           1.3350</td> <td>          -0.3132</td>\n",
       "</tr>\n",
       "<tr>\n",
       "  <th>AR.4</th> <td>          -0.5159</td> <td>          +1.2313j</td> <td>           1.3350</td> <td>           0.3132</td>\n",
       "</tr>\n",
       "<tr>\n",
       "  <th>AR.5</th> <td>           0.9290</td> <td>          -1.1453j</td> <td>           1.4747</td> <td>          -0.1415</td>\n",
       "</tr>\n",
       "<tr>\n",
       "  <th>AR.6</th> <td>           0.9290</td> <td>          +1.1453j</td> <td>           1.4747</td> <td>           0.1415</td>\n",
       "</tr>\n",
       "<tr>\n",
       "  <th>AR.7</th> <td>           1.5304</td> <td>          -0.0000j</td> <td>           1.5304</td> <td>          -0.0000</td>\n",
       "</tr>\n",
       "<tr>\n",
       "  <th>MA.1</th> <td>          -1.6141</td> <td>          +0.0000j</td> <td>           1.6141</td> <td>           0.5000</td>\n",
       "</tr>\n",
       "</table>"
      ],
      "text/plain": [
       "<class 'statsmodels.iolib.summary.Summary'>\n",
       "\"\"\"\n",
       "                             ARIMA Model Results                              \n",
       "==============================================================================\n",
       "Dep. Variable:     D.Portfolio Return   No. Observations:                  537\n",
       "Model:                 ARIMA(7, 1, 1)   Log Likelihood                1500.835\n",
       "Method:                       css-mle   S.D. of innovations              0.015\n",
       "Date:                Tue, 25 Aug 2020   AIC                          -2981.669\n",
       "Time:                        16:40:39   BIC                          -2938.809\n",
       "Sample:                             1   HQIC                         -2964.903\n",
       "                                                                              \n",
       "============================================================================================\n",
       "                               coef    std err          z      P>|z|      [0.025      0.975]\n",
       "--------------------------------------------------------------------------------------------\n",
       "const                        0.0006      0.001      0.919      0.358      -0.001       0.002\n",
       "ar.L1.D.Portfolio Return    -0.7629      0.094     -8.120      0.000      -0.947      -0.579\n",
       "ar.L2.D.Portfolio Return     0.0171      0.056      0.304      0.761      -0.093       0.128\n",
       "ar.L3.D.Portfolio Return     0.1498      0.055      2.729      0.006       0.042       0.257\n",
       "ar.L4.D.Portfolio Return    -0.0537      0.054     -0.988      0.323      -0.160       0.053\n",
       "ar.L5.D.Portfolio Return    -0.0312      0.054     -0.579      0.563      -0.137       0.074\n",
       "ar.L6.D.Portfolio Return    -0.0516      0.054     -0.960      0.337      -0.157       0.054\n",
       "ar.L7.D.Portfolio Return     0.1429      0.050      2.845      0.004       0.044       0.241\n",
       "ma.L1.D.Portfolio Return     0.6195      0.088      7.041      0.000       0.447       0.792\n",
       "                                    Roots                                    \n",
       "=============================================================================\n",
       "                  Real          Imaginary           Modulus         Frequency\n",
       "-----------------------------------------------------------------------------\n",
       "AR.1           -0.9976           -0.4292j            1.0860           -0.4353\n",
       "AR.2           -0.9976           +0.4292j            1.0860            0.4353\n",
       "AR.3           -0.5159           -1.2313j            1.3350           -0.3132\n",
       "AR.4           -0.5159           +1.2313j            1.3350            0.3132\n",
       "AR.5            0.9290           -1.1453j            1.4747           -0.1415\n",
       "AR.6            0.9290           +1.1453j            1.4747            0.1415\n",
       "AR.7            1.5304           -0.0000j            1.5304           -0.0000\n",
       "MA.1           -1.6141           +0.0000j            1.6141            0.5000\n",
       "-----------------------------------------------------------------------------\n",
       "\"\"\""
      ]
     },
     "execution_count": 13,
     "metadata": {},
     "output_type": "execute_result"
    }
   ],
   "source": [
    "# Print the model summary\n",
    "results.summary()"
   ]
  },
  {
   "cell_type": "code",
   "execution_count": 14,
   "metadata": {},
   "outputs": [
    {
     "data": {
      "text/plain": [
       "<matplotlib.axes._subplots.AxesSubplot at 0x153c78d7148>"
      ]
     },
     "execution_count": 14,
     "metadata": {},
     "output_type": "execute_result"
    },
    {
     "data": {
      "image/png": "[encoded data removed]",
      "text/plain": [
       "<Figure size 432x288 with 1 Axes>"
      ]
     },
     "metadata": {
      "needs_background": "light"
     },
     "output_type": "display_data"
    }
   ],
   "source": [
    "# create a dataframe that holds the forecast values.\n",
    "return_forecast = pd.DataFrame(results.forecast(steps=30)[0])\n",
    "# Visualize the forecast\n",
    "return_forecast.plot(title=\"Return Forecast\")"
   ]
  },
  {
   "cell_type": "markdown",
   "metadata": {},
   "source": [
    "## Forecast Market Return "
   ]
  },
  {
   "cell_type": "code",
   "execution_count": 15,
   "metadata": {},
   "outputs": [
    {
     "data": {
      "text/html": [
       "<div>\n",
       "<style scoped>\n",
       "    .dataframe tbody tr th:only-of-type {\n",
       "        vertical-align: middle;\n",
       "    }\n",
       "\n",
       "    .dataframe tbody tr th {\n",
       "        vertical-align: top;\n",
       "    }\n",
       "\n",
       "    .dataframe thead th {\n",
       "        text-align: right;\n",
       "    }\n",
       "</style>\n",
       "<table border=\"1\" class=\"dataframe\">\n",
       "  <thead>\n",
       "    <tr style=\"text-align: right;\">\n",
       "      <th></th>\n",
       "      <th>Market Return</th>\n",
       "    </tr>\n",
       "    <tr>\n",
       "      <th>Date</th>\n",
       "      <th></th>\n",
       "    </tr>\n",
       "  </thead>\n",
       "  <tbody>\n",
       "    <tr>\n",
       "      <th>2018-07-02</th>\n",
       "      <td>1.002766</td>\n",
       "    </tr>\n",
       "    <tr>\n",
       "      <th>2018-07-03</th>\n",
       "      <td>0.998673</td>\n",
       "    </tr>\n",
       "  </tbody>\n",
       "</table>\n",
       "</div>"
      ],
      "text/plain": [
       "            Market Return\n",
       "Date                     \n",
       "2018-07-02       1.002766\n",
       "2018-07-03       0.998673"
      ]
     },
     "execution_count": 15,
     "metadata": {},
     "output_type": "execute_result"
    }
   ],
   "source": [
    "market = df[\"Market Return\"].to_frame().dropna()\n",
    "market.head(2)"
   ]
  },
  {
   "cell_type": "code",
   "execution_count": 16,
   "metadata": {},
   "outputs": [
    {
     "name": "stdout",
     "output_type": "stream",
     "text": [
      "Performing stepwise search to minimize aic\n",
      " ARIMA(1,1,1)(0,0,0)[0] intercept   : AIC=-2946.308, Time=0.59 sec\n",
      " ARIMA(0,1,0)(0,0,0)[0] intercept   : AIC=-2907.627, Time=0.11 sec\n",
      " ARIMA(1,1,0)(0,0,0)[0] intercept   : AIC=-2942.425, Time=0.25 sec\n",
      " ARIMA(0,1,1)(0,0,0)[0] intercept   : AIC=-2932.675, Time=0.26 sec\n",
      " ARIMA(0,1,0)(0,0,0)[0]             : AIC=-2909.181, Time=0.04 sec\n",
      " ARIMA(2,1,1)(0,0,0)[0] intercept   : AIC=-2951.490, Time=0.78 sec\n",
      " ARIMA(2,1,0)(0,0,0)[0] intercept   : AIC=-2952.185, Time=0.29 sec\n",
      " ARIMA(3,1,0)(0,0,0)[0] intercept   : AIC=-2953.594, Time=0.40 sec\n",
      " ARIMA(4,1,0)(0,0,0)[0] intercept   : AIC=-2960.419, Time=0.34 sec\n",
      " ARIMA(5,1,0)(0,0,0)[0] intercept   : AIC=-2960.733, Time=0.46 sec\n",
      " ARIMA(6,1,0)(0,0,0)[0] intercept   : AIC=-2965.183, Time=0.52 sec\n",
      " ARIMA(7,1,0)(0,0,0)[0] intercept   : AIC=-2989.695, Time=0.82 sec\n",
      " ARIMA(7,1,1)(0,0,0)[0] intercept   : AIC=-2999.727, Time=1.89 sec\n",
      " ARIMA(6,1,1)(0,0,0)[0] intercept   : AIC=-2989.848, Time=1.68 sec\n",
      " ARIMA(7,1,2)(0,0,0)[0] intercept   : AIC=-2999.767, Time=1.96 sec\n",
      " ARIMA(6,1,2)(0,0,0)[0] intercept   : AIC=-2983.937, Time=1.82 sec\n",
      " ARIMA(7,1,3)(0,0,0)[0] intercept   : AIC=-2984.654, Time=2.18 sec\n",
      " ARIMA(6,1,3)(0,0,0)[0] intercept   : AIC=-2984.211, Time=1.83 sec\n",
      " ARIMA(7,1,2)(0,0,0)[0]             : AIC=-3001.533, Time=1.21 sec\n",
      " ARIMA(6,1,2)(0,0,0)[0]             : AIC=-2986.820, Time=0.91 sec\n",
      " ARIMA(7,1,1)(0,0,0)[0]             : AIC=-3002.719, Time=0.94 sec\n",
      " ARIMA(6,1,1)(0,0,0)[0]             : AIC=-2994.589, Time=0.85 sec\n",
      " ARIMA(7,1,0)(0,0,0)[0]             : AIC=-2991.236, Time=0.24 sec\n",
      " ARIMA(6,1,0)(0,0,0)[0]             : AIC=-2966.523, Time=0.23 sec\n",
      "\n",
      "Best model:  ARIMA(7,1,1)(0,0,0)[0]          \n",
      "Total fit time: 20.606 seconds\n"
     ]
    }
   ],
   "source": [
    "from pmdarima.arima import auto_arima\n",
    "step_wise=auto_arima(market,\n",
    " start_p=1, start_q=1, \n",
    " max_p=7, max_q=7, \n",
    " d=1, max_d=7,\n",
    " trace=True, \n",
    " error_action='ignore', \n",
    " suppress_warnings=True, \n",
    " stepwise=True)"
   ]
  },
  {
   "cell_type": "code",
   "execution_count": 17,
   "metadata": {},
   "outputs": [
    {
     "data": {
      "text/html": [
       "<table class=\"simpletable\">\n",
       "<caption>SARIMAX Results</caption>\n",
       "<tr>\n",
       "  <th>Dep. Variable:</th>           <td>y</td>        <th>  No. Observations:  </th>    <td>538</td>   \n",
       "</tr>\n",
       "<tr>\n",
       "  <th>Model:</th>           <td>SARIMAX(7, 1, 1)</td> <th>  Log Likelihood     </th> <td>1510.359</td> \n",
       "</tr>\n",
       "<tr>\n",
       "  <th>Date:</th>            <td>Tue, 25 Aug 2020</td> <th>  AIC                </th> <td>-3002.719</td>\n",
       "</tr>\n",
       "<tr>\n",
       "  <th>Time:</th>                <td>16:41:06</td>     <th>  BIC                </th> <td>-2964.145</td>\n",
       "</tr>\n",
       "<tr>\n",
       "  <th>Sample:</th>                  <td>0</td>        <th>  HQIC               </th> <td>-2987.629</td>\n",
       "</tr>\n",
       "<tr>\n",
       "  <th></th>                      <td> - 538</td>      <th>                     </th>     <td> </td>    \n",
       "</tr>\n",
       "<tr>\n",
       "  <th>Covariance Type:</th>        <td>opg</td>       <th>                     </th>     <td> </td>    \n",
       "</tr>\n",
       "</table>\n",
       "<table class=\"simpletable\">\n",
       "<tr>\n",
       "     <td></td>       <th>coef</th>     <th>std err</th>      <th>z</th>      <th>P>|z|</th>  <th>[0.025</th>    <th>0.975]</th>  \n",
       "</tr>\n",
       "<tr>\n",
       "  <th>ar.L1</th>  <td>   -0.7080</td> <td>    0.081</td> <td>   -8.757</td> <td> 0.000</td> <td>   -0.866</td> <td>   -0.550</td>\n",
       "</tr>\n",
       "<tr>\n",
       "  <th>ar.L2</th>  <td>    0.0545</td> <td>    0.032</td> <td>    1.685</td> <td> 0.092</td> <td>   -0.009</td> <td>    0.118</td>\n",
       "</tr>\n",
       "<tr>\n",
       "  <th>ar.L3</th>  <td>    0.1549</td> <td>    0.031</td> <td>    4.936</td> <td> 0.000</td> <td>    0.093</td> <td>    0.216</td>\n",
       "</tr>\n",
       "<tr>\n",
       "  <th>ar.L4</th>  <td>   -0.0785</td> <td>    0.031</td> <td>   -2.500</td> <td> 0.012</td> <td>   -0.140</td> <td>   -0.017</td>\n",
       "</tr>\n",
       "<tr>\n",
       "  <th>ar.L5</th>  <td>   -0.0439</td> <td>    0.038</td> <td>   -1.152</td> <td> 0.249</td> <td>   -0.119</td> <td>    0.031</td>\n",
       "</tr>\n",
       "<tr>\n",
       "  <th>ar.L6</th>  <td>   -0.0409</td> <td>    0.035</td> <td>   -1.160</td> <td> 0.246</td> <td>   -0.110</td> <td>    0.028</td>\n",
       "</tr>\n",
       "<tr>\n",
       "  <th>ar.L7</th>  <td>    0.1657</td> <td>    0.034</td> <td>    4.824</td> <td> 0.000</td> <td>    0.098</td> <td>    0.233</td>\n",
       "</tr>\n",
       "<tr>\n",
       "  <th>ma.L1</th>  <td>    0.5695</td> <td>    0.082</td> <td>    6.913</td> <td> 0.000</td> <td>    0.408</td> <td>    0.731</td>\n",
       "</tr>\n",
       "<tr>\n",
       "  <th>sigma2</th> <td>    0.0002</td> <td> 6.45e-06</td> <td>   32.684</td> <td> 0.000</td> <td>    0.000</td> <td>    0.000</td>\n",
       "</tr>\n",
       "</table>\n",
       "<table class=\"simpletable\">\n",
       "<tr>\n",
       "  <th>Ljung-Box (Q):</th>          <td>34.98</td> <th>  Jarque-Bera (JB):  </th> <td>1438.93</td>\n",
       "</tr>\n",
       "<tr>\n",
       "  <th>Prob(Q):</th>                <td>0.70</td>  <th>  Prob(JB):          </th>  <td>0.00</td>  \n",
       "</tr>\n",
       "<tr>\n",
       "  <th>Heteroskedasticity (H):</th> <td>4.10</td>  <th>  Skew:              </th>  <td>-1.00</td> \n",
       "</tr>\n",
       "<tr>\n",
       "  <th>Prob(H) (two-sided):</th>    <td>0.00</td>  <th>  Kurtosis:          </th>  <td>10.76</td> \n",
       "</tr>\n",
       "</table><br/><br/>Warnings:<br/>[1] Covariance matrix calculated using the outer product of gradients (complex-step)."
      ],
      "text/plain": [
       "<class 'statsmodels.iolib.summary.Summary'>\n",
       "\"\"\"\n",
       "                               SARIMAX Results                                \n",
       "==============================================================================\n",
       "Dep. Variable:                      y   No. Observations:                  538\n",
       "Model:               SARIMAX(7, 1, 1)   Log Likelihood                1510.359\n",
       "Date:                Tue, 25 Aug 2020   AIC                          -3002.719\n",
       "Time:                        16:41:06   BIC                          -2964.145\n",
       "Sample:                             0   HQIC                         -2987.629\n",
       "                                - 538                                         \n",
       "Covariance Type:                  opg                                         \n",
       "==============================================================================\n",
       "                 coef    std err          z      P>|z|      [0.025      0.975]\n",
       "------------------------------------------------------------------------------\n",
       "ar.L1         -0.7080      0.081     -8.757      0.000      -0.866      -0.550\n",
       "ar.L2          0.0545      0.032      1.685      0.092      -0.009       0.118\n",
       "ar.L3          0.1549      0.031      4.936      0.000       0.093       0.216\n",
       "ar.L4         -0.0785      0.031     -2.500      0.012      -0.140      -0.017\n",
       "ar.L5         -0.0439      0.038     -1.152      0.249      -0.119       0.031\n",
       "ar.L6         -0.0409      0.035     -1.160      0.246      -0.110       0.028\n",
       "ar.L7          0.1657      0.034      4.824      0.000       0.098       0.233\n",
       "ma.L1          0.5695      0.082      6.913      0.000       0.408       0.731\n",
       "sigma2         0.0002   6.45e-06     32.684      0.000       0.000       0.000\n",
       "===================================================================================\n",
       "Ljung-Box (Q):                       34.98   Jarque-Bera (JB):              1438.93\n",
       "Prob(Q):                              0.70   Prob(JB):                         0.00\n",
       "Heteroskedasticity (H):               4.10   Skew:                            -1.00\n",
       "Prob(H) (two-sided):                  0.00   Kurtosis:                        10.76\n",
       "===================================================================================\n",
       "\n",
       "Warnings:\n",
       "[1] Covariance matrix calculated using the outer product of gradients (complex-step).\n",
       "\"\"\""
      ]
     },
     "execution_count": 17,
     "metadata": {},
     "output_type": "execute_result"
    }
   ],
   "source": [
    "step_wise.summary()"
   ]
  },
  {
   "cell_type": "code",
   "execution_count": 18,
   "metadata": {},
   "outputs": [
    {
     "name": "stderr",
     "output_type": "stream",
     "text": [
      "C:\\Users\\Sungwon Kim\\anaconda3\\envs\\dev\\lib\\site-packages\\statsmodels\\tsa\\base\\tsa_model.py:218: ValueWarning: A date index has been provided, but it has no associated frequency information and so will be ignored when e.g. forecasting.\n",
      "  ' ignored when e.g. forecasting.', ValueWarning)\n",
      "C:\\Users\\Sungwon Kim\\anaconda3\\envs\\dev\\lib\\site-packages\\statsmodels\\tsa\\base\\tsa_model.py:218: ValueWarning: A date index has been provided, but it has no associated frequency information and so will be ignored when e.g. forecasting.\n",
      "  ' ignored when e.g. forecasting.', ValueWarning)\n"
     ]
    }
   ],
   "source": [
    "# Create an ARIMA model\n",
    "model_1 = ARIMA(market, order=(7, 1, 1))"
   ]
  },
  {
   "cell_type": "code",
   "execution_count": 19,
   "metadata": {},
   "outputs": [],
   "source": [
    "# Fit the model to the data\n",
    "results_1 = model_1.fit()"
   ]
  },
  {
   "cell_type": "code",
   "execution_count": 20,
   "metadata": {},
   "outputs": [
    {
     "data": {
      "text/html": [
       "<table class=\"simpletable\">\n",
       "<caption>ARIMA Model Results</caption>\n",
       "<tr>\n",
       "  <th>Dep. Variable:</th>  <td>D.Market Return</td> <th>  No. Observations:  </th>    <td>537</td>   \n",
       "</tr>\n",
       "<tr>\n",
       "  <th>Model:</th>          <td>ARIMA(7, 1, 1)</td>  <th>  Log Likelihood     </th> <td>1510.616</td> \n",
       "</tr>\n",
       "<tr>\n",
       "  <th>Method:</th>             <td>css-mle</td>     <th>  S.D. of innovations</th>   <td>0.015</td>  \n",
       "</tr>\n",
       "<tr>\n",
       "  <th>Date:</th>          <td>Tue, 25 Aug 2020</td> <th>  AIC                </th> <td>-3001.232</td>\n",
       "</tr>\n",
       "<tr>\n",
       "  <th>Time:</th>              <td>16:41:27</td>     <th>  BIC                </th> <td>-2958.372</td>\n",
       "</tr>\n",
       "<tr>\n",
       "  <th>Sample:</th>                <td>1</td>        <th>  HQIC               </th> <td>-2984.465</td>\n",
       "</tr>\n",
       "<tr>\n",
       "  <th></th>                       <td> </td>        <th>                     </th>     <td> </td>    \n",
       "</tr>\n",
       "</table>\n",
       "<table class=\"simpletable\">\n",
       "<tr>\n",
       "            <td></td>               <th>coef</th>     <th>std err</th>      <th>z</th>      <th>P>|z|</th>  <th>[0.025</th>    <th>0.975]</th>  \n",
       "</tr>\n",
       "<tr>\n",
       "  <th>const</th>                 <td>    0.0005</td> <td>    0.001</td> <td>    0.717</td> <td> 0.474</td> <td>   -0.001</td> <td>    0.002</td>\n",
       "</tr>\n",
       "<tr>\n",
       "  <th>ar.L1.D.Market Return</th> <td>   -0.7104</td> <td>    0.102</td> <td>   -6.942</td> <td> 0.000</td> <td>   -0.911</td> <td>   -0.510</td>\n",
       "</tr>\n",
       "<tr>\n",
       "  <th>ar.L2.D.Market Return</th> <td>    0.0516</td> <td>    0.055</td> <td>    0.932</td> <td> 0.351</td> <td>   -0.057</td> <td>    0.160</td>\n",
       "</tr>\n",
       "<tr>\n",
       "  <th>ar.L3.D.Market Return</th> <td>    0.1529</td> <td>    0.054</td> <td>    2.824</td> <td> 0.005</td> <td>    0.047</td> <td>    0.259</td>\n",
       "</tr>\n",
       "<tr>\n",
       "  <th>ar.L4.D.Market Return</th> <td>   -0.0803</td> <td>    0.053</td> <td>   -1.521</td> <td> 0.128</td> <td>   -0.184</td> <td>    0.023</td>\n",
       "</tr>\n",
       "<tr>\n",
       "  <th>ar.L5.D.Market Return</th> <td>   -0.0454</td> <td>    0.053</td> <td>   -0.863</td> <td> 0.388</td> <td>   -0.149</td> <td>    0.058</td>\n",
       "</tr>\n",
       "<tr>\n",
       "  <th>ar.L6.D.Market Return</th> <td>   -0.0408</td> <td>    0.052</td> <td>   -0.780</td> <td> 0.435</td> <td>   -0.143</td> <td>    0.062</td>\n",
       "</tr>\n",
       "<tr>\n",
       "  <th>ar.L7.D.Market Return</th> <td>    0.1652</td> <td>    0.050</td> <td>    3.300</td> <td> 0.001</td> <td>    0.067</td> <td>    0.263</td>\n",
       "</tr>\n",
       "<tr>\n",
       "  <th>ma.L1.D.Market Return</th> <td>    0.5714</td> <td>    0.098</td> <td>    5.805</td> <td> 0.000</td> <td>    0.378</td> <td>    0.764</td>\n",
       "</tr>\n",
       "</table>\n",
       "<table class=\"simpletable\">\n",
       "<caption>Roots</caption>\n",
       "<tr>\n",
       "    <td></td>   <th>            Real</th>  <th>         Imaginary</th> <th>         Modulus</th>  <th>        Frequency</th>\n",
       "</tr>\n",
       "<tr>\n",
       "  <th>AR.1</th> <td>          -0.9961</td> <td>          -0.4352j</td> <td>           1.0870</td> <td>          -0.4344</td>\n",
       "</tr>\n",
       "<tr>\n",
       "  <th>AR.2</th> <td>          -0.9961</td> <td>          +0.4352j</td> <td>           1.0870</td> <td>           0.4344</td>\n",
       "</tr>\n",
       "<tr>\n",
       "  <th>AR.3</th> <td>          -0.5160</td> <td>          -1.2106j</td> <td>           1.3159</td> <td>          -0.3141</td>\n",
       "</tr>\n",
       "<tr>\n",
       "  <th>AR.4</th> <td>          -0.5160</td> <td>          +1.2106j</td> <td>           1.3159</td> <td>           0.3141</td>\n",
       "</tr>\n",
       "<tr>\n",
       "  <th>AR.5</th> <td>           0.8950</td> <td>          -1.0937j</td> <td>           1.4132</td> <td>          -0.1408</td>\n",
       "</tr>\n",
       "<tr>\n",
       "  <th>AR.6</th> <td>           0.8950</td> <td>          +1.0937j</td> <td>           1.4132</td> <td>           0.1408</td>\n",
       "</tr>\n",
       "<tr>\n",
       "  <th>AR.7</th> <td>           1.4811</td> <td>          -0.0000j</td> <td>           1.4811</td> <td>          -0.0000</td>\n",
       "</tr>\n",
       "<tr>\n",
       "  <th>MA.1</th> <td>          -1.7500</td> <td>          +0.0000j</td> <td>           1.7500</td> <td>           0.5000</td>\n",
       "</tr>\n",
       "</table>"
      ],
      "text/plain": [
       "<class 'statsmodels.iolib.summary.Summary'>\n",
       "\"\"\"\n",
       "                             ARIMA Model Results                              \n",
       "==============================================================================\n",
       "Dep. Variable:        D.Market Return   No. Observations:                  537\n",
       "Model:                 ARIMA(7, 1, 1)   Log Likelihood                1510.616\n",
       "Method:                       css-mle   S.D. of innovations              0.015\n",
       "Date:                Tue, 25 Aug 2020   AIC                          -3001.232\n",
       "Time:                        16:41:27   BIC                          -2958.372\n",
       "Sample:                             1   HQIC                         -2984.465\n",
       "                                                                              \n",
       "=========================================================================================\n",
       "                            coef    std err          z      P>|z|      [0.025      0.975]\n",
       "-----------------------------------------------------------------------------------------\n",
       "const                     0.0005      0.001      0.717      0.474      -0.001       0.002\n",
       "ar.L1.D.Market Return    -0.7104      0.102     -6.942      0.000      -0.911      -0.510\n",
       "ar.L2.D.Market Return     0.0516      0.055      0.932      0.351      -0.057       0.160\n",
       "ar.L3.D.Market Return     0.1529      0.054      2.824      0.005       0.047       0.259\n",
       "ar.L4.D.Market Return    -0.0803      0.053     -1.521      0.128      -0.184       0.023\n",
       "ar.L5.D.Market Return    -0.0454      0.053     -0.863      0.388      -0.149       0.058\n",
       "ar.L6.D.Market Return    -0.0408      0.052     -0.780      0.435      -0.143       0.062\n",
       "ar.L7.D.Market Return     0.1652      0.050      3.300      0.001       0.067       0.263\n",
       "ma.L1.D.Market Return     0.5714      0.098      5.805      0.000       0.378       0.764\n",
       "                                    Roots                                    \n",
       "=============================================================================\n",
       "                  Real          Imaginary           Modulus         Frequency\n",
       "-----------------------------------------------------------------------------\n",
       "AR.1           -0.9961           -0.4352j            1.0870           -0.4344\n",
       "AR.2           -0.9961           +0.4352j            1.0870            0.4344\n",
       "AR.3           -0.5160           -1.2106j            1.3159           -0.3141\n",
       "AR.4           -0.5160           +1.2106j            1.3159            0.3141\n",
       "AR.5            0.8950           -1.0937j            1.4132           -0.1408\n",
       "AR.6            0.8950           +1.0937j            1.4132            0.1408\n",
       "AR.7            1.4811           -0.0000j            1.4811           -0.0000\n",
       "MA.1           -1.7500           +0.0000j            1.7500            0.5000\n",
       "-----------------------------------------------------------------------------\n",
       "\"\"\""
      ]
     },
     "execution_count": 20,
     "metadata": {},
     "output_type": "execute_result"
    }
   ],
   "source": [
    "# Print the model summary\n",
    "results_1.summary()"
   ]
  },
  {
   "cell_type": "code",
   "execution_count": 21,
   "metadata": {
    "scrolled": true
   },
   "outputs": [
    {
     "data": {
      "text/plain": [
       "<matplotlib.axes._subplots.AxesSubplot at 0x153c7131048>"
      ]
     },
     "execution_count": 21,
     "metadata": {},
     "output_type": "execute_result"
    },
    {
     "data": {
      "image/png": "[encoded data removed]",
      "text/plain": [
       "<Figure size 432x288 with 1 Axes>"
      ]
     },
     "metadata": {
      "needs_background": "light"
     },
     "output_type": "display_data"
    }
   ],
   "source": [
    "# create a dataframe that holds the forecast values.\n",
    "market_return_forecast = pd.DataFrame(results_1.forecast(steps=30)[0])\n",
    "\n",
    "# Visualize the forecast\n",
    "market_return_forecast.plot(title=\"Market Return Forecast\")"
   ]
  },
  {
   "cell_type": "code",
   "execution_count": 22,
   "metadata": {
    "scrolled": true
   },
   "outputs": [
    {
     "data": {
      "text/html": [
       "<div>\n",
       "<style scoped>\n",
       "    .dataframe tbody tr th:only-of-type {\n",
       "        vertical-align: middle;\n",
       "    }\n",
       "\n",
       "    .dataframe tbody tr th {\n",
       "        vertical-align: top;\n",
       "    }\n",
       "\n",
       "    .dataframe thead th {\n",
       "        text-align: right;\n",
       "    }\n",
       "</style>\n",
       "<table border=\"1\" class=\"dataframe\">\n",
       "  <thead>\n",
       "    <tr style=\"text-align: right;\">\n",
       "      <th></th>\n",
       "      <th>Market Return Forecast</th>\n",
       "      <th>Portfolio Return Forecast</th>\n",
       "    </tr>\n",
       "  </thead>\n",
       "  <tbody>\n",
       "    <tr>\n",
       "      <th>2020-09-28</th>\n",
       "      <td>1.263524</td>\n",
       "      <td>1.337831</td>\n",
       "    </tr>\n",
       "    <tr>\n",
       "      <th>2020-09-29</th>\n",
       "      <td>1.264530</td>\n",
       "      <td>1.339034</td>\n",
       "    </tr>\n",
       "    <tr>\n",
       "      <th>2020-09-30</th>\n",
       "      <td>1.264674</td>\n",
       "      <td>1.339232</td>\n",
       "    </tr>\n",
       "    <tr>\n",
       "      <th>2020-10-01</th>\n",
       "      <td>1.265232</td>\n",
       "      <td>1.339991</td>\n",
       "    </tr>\n",
       "    <tr>\n",
       "      <th>2020-10-02</th>\n",
       "      <td>1.265821</td>\n",
       "      <td>1.340652</td>\n",
       "    </tr>\n",
       "  </tbody>\n",
       "</table>\n",
       "</div>"
      ],
      "text/plain": [
       "            Market Return Forecast  Portfolio Return Forecast\n",
       "2020-09-28                1.263524                   1.337831\n",
       "2020-09-29                1.264530                   1.339034\n",
       "2020-09-30                1.264674                   1.339232\n",
       "2020-10-01                1.265232                   1.339991\n",
       "2020-10-02                1.265821                   1.340652"
      ]
     },
     "execution_count": 22,
     "metadata": {},
     "output_type": "execute_result"
    }
   ],
   "source": [
    "# concatenate the dataframes\n",
    "forecast_df = pd.concat([market_return_forecast, return_forecast], axis=1)\n",
    "forecast_df.columns = [ \"Market Return Forecast\", \"Portfolio Return Forecast\"]\n",
    "forecast_df.index = pd.bdate_range(start='8/24/2020', periods = 30)\n",
    "forecast_df.tail()"
   ]
  },
  {
   "cell_type": "code",
   "execution_count": 23,
   "metadata": {},
   "outputs": [
    {
     "data": {
      "text/plain": [
       "<matplotlib.axes._subplots.AxesSubplot at 0x153cb5b3248>"
      ]
     },
     "execution_count": 23,
     "metadata": {},
     "output_type": "execute_result"
    },
    {
     "data": {
      "image/png": "[encoded data removed]",
      "text/plain": [
       "<Figure size 432x288 with 1 Axes>"
      ]
     },
     "metadata": {
      "needs_background": "light"
     },
     "output_type": "display_data"
    }
   ],
   "source": [
    "forecast_df.plot()"
   ]
  },
  {
   "cell_type": "code",
   "execution_count": 24,
   "metadata": {},
   "outputs": [],
   "source": [
    "final_df = pd.concat([df, forecast_df], axis=0, sort=False)"
   ]
  },
  {
   "cell_type": "code",
   "execution_count": 27,
   "metadata": {},
   "outputs": [
    {
     "data": {
      "text/plain": [
       "<matplotlib.lines.Line2D at 0x153c7984548>"
      ]
     },
     "execution_count": 27,
     "metadata": {},
     "output_type": "execute_result"
    },
    {
     "data": {
      "text/plain": [
       "<Figure size 432x288 with 0 Axes>"
      ]
     },
     "metadata": {},
     "output_type": "display_data"
    },
    {
     "data": {
      "image/png": "[encoded data removed]",
      "text/plain": [
       "<Figure size 432x288 with 1 Axes>"
      ]
     },
     "metadata": {
      "needs_background": "light"
     },
     "output_type": "display_data"
    }
   ],
   "source": [
    "plt.figure();\n",
    "final_df.plot()\n",
    "plt.title('GGHC Actual and Prediction')\n",
    "plt.axvline(forecast_df.index[0], color='r', linestyle='--')"
   ]
  },
  {
   "cell_type": "code",
   "execution_count": null,
   "metadata": {},
   "outputs": [],
   "source": []
  }
 ],
 "metadata": {
  "kernelspec": {
   "display_name": "Python 3",
   "language": "python",
   "name": "python3"
  },
  "language_info": {
   "codemirror_mode": {
    "name": "ipython",
    "version": 3
   },
   "file_extension": ".py",
   "mimetype": "text/x-python",
   "name": "python",
   "nbconvert_exporter": "python",
   "pygments_lexer": "ipython3",
   "version": "3.7.7"
  }
 },
 "nbformat": 4,
 "nbformat_minor": 4
}
