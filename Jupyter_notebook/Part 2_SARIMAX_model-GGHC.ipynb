{
 "cells": [
  {
   "cell_type": "code",
   "execution_count": 1,
   "metadata": {},
   "outputs": [],
   "source": [
    "import pandas as pd\n",
    "import numpy as np\n",
    "import matplotlib.pyplot as plt\n",
    "import seaborn as sns\n",
    "from pandas.plotting import register_matplotlib_converters\n",
    "register_matplotlib_converters()\n",
    "%matplotlib inline"
   ]
  },
  {
   "cell_type": "code",
   "execution_count": 25,
   "metadata": {},
   "outputs": [
    {
     "data": {
      "text/html": [
       "<div>\n",
       "<style scoped>\n",
       "    .dataframe tbody tr th:only-of-type {\n",
       "        vertical-align: middle;\n",
       "    }\n",
       "\n",
       "    .dataframe tbody tr th {\n",
       "        vertical-align: top;\n",
       "    }\n",
       "\n",
       "    .dataframe thead th {\n",
       "        text-align: right;\n",
       "    }\n",
       "</style>\n",
       "<table border=\"1\" class=\"dataframe\">\n",
       "  <thead>\n",
       "    <tr style=\"text-align: right;\">\n",
       "      <th></th>\n",
       "      <th>Market Return</th>\n",
       "      <th>Portfolio Return</th>\n",
       "    </tr>\n",
       "    <tr>\n",
       "      <th>Date</th>\n",
       "      <th></th>\n",
       "      <th></th>\n",
       "    </tr>\n",
       "  </thead>\n",
       "  <tbody>\n",
       "    <tr>\n",
       "      <th>2020-08-17</th>\n",
       "      <td>1.245916</td>\n",
       "      <td>1.312923</td>\n",
       "    </tr>\n",
       "    <tr>\n",
       "      <th>2020-08-18</th>\n",
       "      <td>1.248645</td>\n",
       "      <td>1.316739</td>\n",
       "    </tr>\n",
       "    <tr>\n",
       "      <th>2020-08-19</th>\n",
       "      <td>1.243482</td>\n",
       "      <td>1.312691</td>\n",
       "    </tr>\n",
       "    <tr>\n",
       "      <th>2020-08-20</th>\n",
       "      <td>1.247281</td>\n",
       "      <td>1.317734</td>\n",
       "    </tr>\n",
       "    <tr>\n",
       "      <th>2020-08-21</th>\n",
       "      <td>1.251669</td>\n",
       "      <td>1.322819</td>\n",
       "    </tr>\n",
       "  </tbody>\n",
       "</table>\n",
       "</div>"
      ],
      "text/plain": [
       "            Market Return  Portfolio Return\n",
       "Date                                       \n",
       "2020-08-17       1.245916          1.312923\n",
       "2020-08-18       1.248645          1.316739\n",
       "2020-08-19       1.243482          1.312691\n",
       "2020-08-20       1.247281          1.317734\n",
       "2020-08-21       1.251669          1.322819"
      ]
     },
     "execution_count": 25,
     "metadata": {},
     "output_type": "execute_result"
    }
   ],
   "source": [
    "from pathlib import Path\n",
    "csvpath = Path('./Resources/GGHC_final.csv')\n",
    "df = pd.read_csv(csvpath, index_col='Date', parse_dates=True, infer_datetime_format=True)\n",
    "df.tail()"
   ]
  },
  {
   "cell_type": "code",
   "execution_count": 4,
   "metadata": {
    "scrolled": true
   },
   "outputs": [
    {
     "data": {
      "text/plain": [
       "<matplotlib.axes._subplots.AxesSubplot at 0x20c7f016cc8>"
      ]
     },
     "execution_count": 4,
     "metadata": {},
     "output_type": "execute_result"
    },
    {
     "data": {
      "image/png": "[encoded data removed]",
      "text/plain": [
       "<Figure size 432x288 with 1 Axes>"
      ]
     },
     "metadata": {
      "needs_background": "light"
     },
     "output_type": "display_data"
    }
   ],
   "source": [
    "df.plot()"
   ]
  },
  {
   "cell_type": "code",
   "execution_count": 5,
   "metadata": {},
   "outputs": [
    {
     "data": {
      "text/html": [
       "<div>\n",
       "<style scoped>\n",
       "    .dataframe tbody tr th:only-of-type {\n",
       "        vertical-align: middle;\n",
       "    }\n",
       "\n",
       "    .dataframe tbody tr th {\n",
       "        vertical-align: top;\n",
       "    }\n",
       "\n",
       "    .dataframe thead th {\n",
       "        text-align: right;\n",
       "    }\n",
       "</style>\n",
       "<table border=\"1\" class=\"dataframe\">\n",
       "  <thead>\n",
       "    <tr style=\"text-align: right;\">\n",
       "      <th></th>\n",
       "      <th>Portfolio Return</th>\n",
       "    </tr>\n",
       "    <tr>\n",
       "      <th>Date</th>\n",
       "      <th></th>\n",
       "    </tr>\n",
       "  </thead>\n",
       "  <tbody>\n",
       "    <tr>\n",
       "      <th>2018-07-02</th>\n",
       "      <td>1.004940</td>\n",
       "    </tr>\n",
       "    <tr>\n",
       "      <th>2018-07-03</th>\n",
       "      <td>0.998465</td>\n",
       "    </tr>\n",
       "  </tbody>\n",
       "</table>\n",
       "</div>"
      ],
      "text/plain": [
       "            Portfolio Return\n",
       "Date                        \n",
       "2018-07-02          1.004940\n",
       "2018-07-03          0.998465"
      ]
     },
     "execution_count": 5,
     "metadata": {},
     "output_type": "execute_result"
    }
   ],
   "source": [
    "portfolio = df[\"Portfolio Return\"].to_frame().dropna()\n",
    "portfolio.head(2)"
   ]
  },
  {
   "cell_type": "code",
   "execution_count": 6,
   "metadata": {},
   "outputs": [
    {
     "name": "stdout",
     "output_type": "stream",
     "text": [
      "Performing stepwise search to minimize aic\n",
      " ARIMA(1,1,1)(0,0,0)[0] intercept   : AIC=-2929.524, Time=0.34 sec\n",
      " ARIMA(0,1,0)(0,0,0)[0] intercept   : AIC=-2890.673, Time=0.11 sec\n",
      " ARIMA(1,1,0)(0,0,0)[0] intercept   : AIC=-2926.896, Time=0.11 sec\n",
      " ARIMA(0,1,1)(0,0,0)[0] intercept   : AIC=-2917.372, Time=0.41 sec\n",
      " ARIMA(0,1,0)(0,0,0)[0]             : AIC=-2891.969, Time=0.05 sec\n",
      " ARIMA(2,1,1)(0,0,0)[0] intercept   : AIC=-2930.861, Time=0.73 sec\n",
      " ARIMA(2,1,0)(0,0,0)[0] intercept   : AIC=-2934.047, Time=0.21 sec\n",
      " ARIMA(3,1,0)(0,0,0)[0] intercept   : AIC=-2935.511, Time=0.48 sec\n",
      " ARIMA(4,1,0)(0,0,0)[0] intercept   : AIC=-2939.663, Time=0.37 sec\n",
      " ARIMA(5,1,0)(0,0,0)[0] intercept   : AIC=-2940.246, Time=0.55 sec\n",
      " ARIMA(6,1,0)(0,0,0)[0] intercept   : AIC=-2946.253, Time=0.56 sec\n",
      " ARIMA(7,1,0)(0,0,0)[0] intercept   : AIC=-2965.833, Time=0.95 sec\n",
      " ARIMA(7,1,1)(0,0,0)[0] intercept   : AIC=-2981.650, Time=2.10 sec\n",
      " ARIMA(6,1,1)(0,0,0)[0] intercept   : AIC=-2975.884, Time=1.85 sec\n",
      " ARIMA(7,1,2)(0,0,0)[0] intercept   : AIC=-2978.730, Time=2.41 sec\n",
      " ARIMA(6,1,2)(0,0,0)[0] intercept   : AIC=-2962.468, Time=2.00 sec\n",
      " ARIMA(7,1,1)(0,0,0)[0]             : AIC=-2982.656, Time=1.15 sec\n",
      " ARIMA(6,1,1)(0,0,0)[0]             : AIC=-2977.132, Time=1.09 sec\n",
      " ARIMA(7,1,0)(0,0,0)[0]             : AIC=-2967.076, Time=0.27 sec\n",
      " ARIMA(7,1,2)(0,0,0)[0]             : AIC=-2980.150, Time=1.27 sec\n",
      " ARIMA(6,1,0)(0,0,0)[0]             : AIC=-2947.196, Time=0.35 sec\n",
      " ARIMA(6,1,2)(0,0,0)[0]             : AIC=-2968.042, Time=1.15 sec\n",
      "\n",
      "Best model:  ARIMA(7,1,1)(0,0,0)[0]          \n",
      "Total fit time: 18.563 seconds\n"
     ]
    }
   ],
   "source": [
    "from pmdarima.arima import auto_arima\n",
    "step_wise=auto_arima(portfolio,\n",
    " start_p=1, start_q=1, \n",
    " max_p=7, max_q=7, \n",
    " d=1, max_d=7,\n",
    " trace=True, \n",
    " error_action='ignore', \n",
    " suppress_warnings=True, \n",
    " stepwise=True)"
   ]
  },
  {
   "cell_type": "code",
   "execution_count": 7,
   "metadata": {},
   "outputs": [
    {
     "data": {
      "text/html": [
       "<table class=\"simpletable\">\n",
       "<caption>SARIMAX Results</caption>\n",
       "<tr>\n",
       "  <th>Dep. Variable:</th>           <td>y</td>        <th>  No. Observations:  </th>    <td>538</td>   \n",
       "</tr>\n",
       "<tr>\n",
       "  <th>Model:</th>           <td>SARIMAX(7, 1, 1)</td> <th>  Log Likelihood     </th> <td>1500.328</td> \n",
       "</tr>\n",
       "<tr>\n",
       "  <th>Date:</th>            <td>Tue, 25 Aug 2020</td> <th>  AIC                </th> <td>-2982.656</td>\n",
       "</tr>\n",
       "<tr>\n",
       "  <th>Time:</th>                <td>14:27:08</td>     <th>  BIC                </th> <td>-2944.082</td>\n",
       "</tr>\n",
       "<tr>\n",
       "  <th>Sample:</th>                  <td>0</td>        <th>  HQIC               </th> <td>-2967.566</td>\n",
       "</tr>\n",
       "<tr>\n",
       "  <th></th>                      <td> - 538</td>      <th>                     </th>     <td> </td>    \n",
       "</tr>\n",
       "<tr>\n",
       "  <th>Covariance Type:</th>        <td>opg</td>       <th>                     </th>     <td> </td>    \n",
       "</tr>\n",
       "</table>\n",
       "<table class=\"simpletable\">\n",
       "<tr>\n",
       "     <td></td>       <th>coef</th>     <th>std err</th>      <th>z</th>      <th>P>|z|</th>  <th>[0.025</th>    <th>0.975]</th>  \n",
       "</tr>\n",
       "<tr>\n",
       "  <th>ar.L1</th>  <td>   -0.7621</td> <td>    0.075</td> <td>  -10.136</td> <td> 0.000</td> <td>   -0.910</td> <td>   -0.615</td>\n",
       "</tr>\n",
       "<tr>\n",
       "  <th>ar.L2</th>  <td>    0.0276</td> <td>    0.035</td> <td>    0.794</td> <td> 0.427</td> <td>   -0.040</td> <td>    0.096</td>\n",
       "</tr>\n",
       "<tr>\n",
       "  <th>ar.L3</th>  <td>    0.1552</td> <td>    0.033</td> <td>    4.716</td> <td> 0.000</td> <td>    0.091</td> <td>    0.220</td>\n",
       "</tr>\n",
       "<tr>\n",
       "  <th>ar.L4</th>  <td>   -0.0575</td> <td>    0.035</td> <td>   -1.657</td> <td> 0.097</td> <td>   -0.126</td> <td>    0.011</td>\n",
       "</tr>\n",
       "<tr>\n",
       "  <th>ar.L5</th>  <td>   -0.0375</td> <td>    0.041</td> <td>   -0.917</td> <td> 0.359</td> <td>   -0.118</td> <td>    0.043</td>\n",
       "</tr>\n",
       "<tr>\n",
       "  <th>ar.L6</th>  <td>   -0.0401</td> <td>    0.038</td> <td>   -1.043</td> <td> 0.297</td> <td>   -0.115</td> <td>    0.035</td>\n",
       "</tr>\n",
       "<tr>\n",
       "  <th>ar.L7</th>  <td>    0.1501</td> <td>    0.037</td> <td>    4.077</td> <td> 0.000</td> <td>    0.078</td> <td>    0.222</td>\n",
       "</tr>\n",
       "<tr>\n",
       "  <th>ma.L1</th>  <td>    0.6280</td> <td>    0.073</td> <td>    8.638</td> <td> 0.000</td> <td>    0.485</td> <td>    0.770</td>\n",
       "</tr>\n",
       "<tr>\n",
       "  <th>sigma2</th> <td>    0.0002</td> <td> 6.95e-06</td> <td>   31.430</td> <td> 0.000</td> <td>    0.000</td> <td>    0.000</td>\n",
       "</tr>\n",
       "</table>\n",
       "<table class=\"simpletable\">\n",
       "<tr>\n",
       "  <th>Ljung-Box (Q):</th>          <td>34.55</td> <th>  Jarque-Bera (JB):  </th> <td>1096.04</td>\n",
       "</tr>\n",
       "<tr>\n",
       "  <th>Prob(Q):</th>                <td>0.71</td>  <th>  Prob(JB):          </th>  <td>0.00</td>  \n",
       "</tr>\n",
       "<tr>\n",
       "  <th>Heteroskedasticity (H):</th> <td>3.58</td>  <th>  Skew:              </th>  <td>-0.95</td> \n",
       "</tr>\n",
       "<tr>\n",
       "  <th>Prob(H) (two-sided):</th>    <td>0.00</td>  <th>  Kurtosis:          </th>  <td>9.74</td>  \n",
       "</tr>\n",
       "</table><br/><br/>Warnings:<br/>[1] Covariance matrix calculated using the outer product of gradients (complex-step)."
      ],
      "text/plain": [
       "<class 'statsmodels.iolib.summary.Summary'>\n",
       "\"\"\"\n",
       "                               SARIMAX Results                                \n",
       "==============================================================================\n",
       "Dep. Variable:                      y   No. Observations:                  538\n",
       "Model:               SARIMAX(7, 1, 1)   Log Likelihood                1500.328\n",
       "Date:                Tue, 25 Aug 2020   AIC                          -2982.656\n",
       "Time:                        14:27:08   BIC                          -2944.082\n",
       "Sample:                             0   HQIC                         -2967.566\n",
       "                                - 538                                         \n",
       "Covariance Type:                  opg                                         \n",
       "==============================================================================\n",
       "                 coef    std err          z      P>|z|      [0.025      0.975]\n",
       "------------------------------------------------------------------------------\n",
       "ar.L1         -0.7621      0.075    -10.136      0.000      -0.910      -0.615\n",
       "ar.L2          0.0276      0.035      0.794      0.427      -0.040       0.096\n",
       "ar.L3          0.1552      0.033      4.716      0.000       0.091       0.220\n",
       "ar.L4         -0.0575      0.035     -1.657      0.097      -0.126       0.011\n",
       "ar.L5         -0.0375      0.041     -0.917      0.359      -0.118       0.043\n",
       "ar.L6         -0.0401      0.038     -1.043      0.297      -0.115       0.035\n",
       "ar.L7          0.1501      0.037      4.077      0.000       0.078       0.222\n",
       "ma.L1          0.6280      0.073      8.638      0.000       0.485       0.770\n",
       "sigma2         0.0002   6.95e-06     31.430      0.000       0.000       0.000\n",
       "===================================================================================\n",
       "Ljung-Box (Q):                       34.55   Jarque-Bera (JB):              1096.04\n",
       "Prob(Q):                              0.71   Prob(JB):                         0.00\n",
       "Heteroskedasticity (H):               3.58   Skew:                            -0.95\n",
       "Prob(H) (two-sided):                  0.00   Kurtosis:                         9.74\n",
       "===================================================================================\n",
       "\n",
       "Warnings:\n",
       "[1] Covariance matrix calculated using the outer product of gradients (complex-step).\n",
       "\"\"\""
      ]
     },
     "execution_count": 7,
     "metadata": {},
     "output_type": "execute_result"
    }
   ],
   "source": [
    "step_wise.summary()"
   ]
  },
  {
   "cell_type": "markdown",
   "metadata": {},
   "source": [
    "## SARIMAX Model"
   ]
  },
  {
   "cell_type": "code",
   "execution_count": 8,
   "metadata": {},
   "outputs": [],
   "source": [
    "from statsmodels.tsa.statespace.sarimax import SARIMAX"
   ]
  },
  {
   "cell_type": "code",
   "execution_count": 9,
   "metadata": {},
   "outputs": [
    {
     "name": "stderr",
     "output_type": "stream",
     "text": [
      "C:\\Users\\Sungwon Kim\\anaconda3\\envs\\dev\\lib\\site-packages\\statsmodels\\tsa\\base\\tsa_model.py:218: ValueWarning: A date index has been provided, but it has no associated frequency information and so will be ignored when e.g. forecasting.\n",
      "  ' ignored when e.g. forecasting.', ValueWarning)\n",
      "C:\\Users\\Sungwon Kim\\anaconda3\\envs\\dev\\lib\\site-packages\\statsmodels\\tsa\\base\\tsa_model.py:218: ValueWarning: A date index has been provided, but it has no associated frequency information and so will be ignored when e.g. forecasting.\n",
      "  ' ignored when e.g. forecasting.', ValueWarning)\n"
     ]
    }
   ],
   "source": [
    "# Create a SARIMAX model\n",
    "model = SARIMAX(portfolio, order=(7, 1, 1))"
   ]
  },
  {
   "cell_type": "code",
   "execution_count": 10,
   "metadata": {},
   "outputs": [
    {
     "name": "stderr",
     "output_type": "stream",
     "text": [
      "C:\\Users\\Sungwon Kim\\anaconda3\\envs\\dev\\lib\\site-packages\\statsmodels\\base\\model.py:568: ConvergenceWarning: Maximum Likelihood optimization failed to converge. Check mle_retvals\n",
      "  \"Check mle_retvals\", ConvergenceWarning)\n"
     ]
    }
   ],
   "source": [
    "# Fit the model to the data\n",
    "results = model.fit()"
   ]
  },
  {
   "cell_type": "code",
   "execution_count": 11,
   "metadata": {},
   "outputs": [
    {
     "data": {
      "text/html": [
       "<table class=\"simpletable\">\n",
       "<caption>SARIMAX Results</caption>\n",
       "<tr>\n",
       "  <th>Dep. Variable:</th>   <td>Portfolio Return</td> <th>  No. Observations:  </th>    <td>538</td>   \n",
       "</tr>\n",
       "<tr>\n",
       "  <th>Model:</th>           <td>SARIMAX(7, 1, 1)</td> <th>  Log Likelihood     </th> <td>1500.328</td> \n",
       "</tr>\n",
       "<tr>\n",
       "  <th>Date:</th>            <td>Tue, 25 Aug 2020</td> <th>  AIC                </th> <td>-2982.656</td>\n",
       "</tr>\n",
       "<tr>\n",
       "  <th>Time:</th>                <td>14:27:32</td>     <th>  BIC                </th> <td>-2944.082</td>\n",
       "</tr>\n",
       "<tr>\n",
       "  <th>Sample:</th>                  <td>0</td>        <th>  HQIC               </th> <td>-2967.566</td>\n",
       "</tr>\n",
       "<tr>\n",
       "  <th></th>                      <td> - 538</td>      <th>                     </th>     <td> </td>    \n",
       "</tr>\n",
       "<tr>\n",
       "  <th>Covariance Type:</th>        <td>opg</td>       <th>                     </th>     <td> </td>    \n",
       "</tr>\n",
       "</table>\n",
       "<table class=\"simpletable\">\n",
       "<tr>\n",
       "     <td></td>       <th>coef</th>     <th>std err</th>      <th>z</th>      <th>P>|z|</th>  <th>[0.025</th>    <th>0.975]</th>  \n",
       "</tr>\n",
       "<tr>\n",
       "  <th>ar.L1</th>  <td>   -0.7621</td> <td>    0.075</td> <td>  -10.136</td> <td> 0.000</td> <td>   -0.910</td> <td>   -0.615</td>\n",
       "</tr>\n",
       "<tr>\n",
       "  <th>ar.L2</th>  <td>    0.0276</td> <td>    0.035</td> <td>    0.794</td> <td> 0.427</td> <td>   -0.040</td> <td>    0.096</td>\n",
       "</tr>\n",
       "<tr>\n",
       "  <th>ar.L3</th>  <td>    0.1552</td> <td>    0.033</td> <td>    4.716</td> <td> 0.000</td> <td>    0.091</td> <td>    0.220</td>\n",
       "</tr>\n",
       "<tr>\n",
       "  <th>ar.L4</th>  <td>   -0.0575</td> <td>    0.035</td> <td>   -1.657</td> <td> 0.097</td> <td>   -0.126</td> <td>    0.011</td>\n",
       "</tr>\n",
       "<tr>\n",
       "  <th>ar.L5</th>  <td>   -0.0375</td> <td>    0.041</td> <td>   -0.917</td> <td> 0.359</td> <td>   -0.118</td> <td>    0.043</td>\n",
       "</tr>\n",
       "<tr>\n",
       "  <th>ar.L6</th>  <td>   -0.0401</td> <td>    0.038</td> <td>   -1.043</td> <td> 0.297</td> <td>   -0.115</td> <td>    0.035</td>\n",
       "</tr>\n",
       "<tr>\n",
       "  <th>ar.L7</th>  <td>    0.1501</td> <td>    0.037</td> <td>    4.077</td> <td> 0.000</td> <td>    0.078</td> <td>    0.222</td>\n",
       "</tr>\n",
       "<tr>\n",
       "  <th>ma.L1</th>  <td>    0.6280</td> <td>    0.073</td> <td>    8.638</td> <td> 0.000</td> <td>    0.485</td> <td>    0.770</td>\n",
       "</tr>\n",
       "<tr>\n",
       "  <th>sigma2</th> <td>    0.0002</td> <td> 6.95e-06</td> <td>   31.430</td> <td> 0.000</td> <td>    0.000</td> <td>    0.000</td>\n",
       "</tr>\n",
       "</table>\n",
       "<table class=\"simpletable\">\n",
       "<tr>\n",
       "  <th>Ljung-Box (Q):</th>          <td>34.55</td> <th>  Jarque-Bera (JB):  </th> <td>1096.04</td>\n",
       "</tr>\n",
       "<tr>\n",
       "  <th>Prob(Q):</th>                <td>0.71</td>  <th>  Prob(JB):          </th>  <td>0.00</td>  \n",
       "</tr>\n",
       "<tr>\n",
       "  <th>Heteroskedasticity (H):</th> <td>3.58</td>  <th>  Skew:              </th>  <td>-0.95</td> \n",
       "</tr>\n",
       "<tr>\n",
       "  <th>Prob(H) (two-sided):</th>    <td>0.00</td>  <th>  Kurtosis:          </th>  <td>9.74</td>  \n",
       "</tr>\n",
       "</table><br/><br/>Warnings:<br/>[1] Covariance matrix calculated using the outer product of gradients (complex-step)."
      ],
      "text/plain": [
       "<class 'statsmodels.iolib.summary.Summary'>\n",
       "\"\"\"\n",
       "                               SARIMAX Results                                \n",
       "==============================================================================\n",
       "Dep. Variable:       Portfolio Return   No. Observations:                  538\n",
       "Model:               SARIMAX(7, 1, 1)   Log Likelihood                1500.328\n",
       "Date:                Tue, 25 Aug 2020   AIC                          -2982.656\n",
       "Time:                        14:27:32   BIC                          -2944.082\n",
       "Sample:                             0   HQIC                         -2967.566\n",
       "                                - 538                                         \n",
       "Covariance Type:                  opg                                         \n",
       "==============================================================================\n",
       "                 coef    std err          z      P>|z|      [0.025      0.975]\n",
       "------------------------------------------------------------------------------\n",
       "ar.L1         -0.7621      0.075    -10.136      0.000      -0.910      -0.615\n",
       "ar.L2          0.0276      0.035      0.794      0.427      -0.040       0.096\n",
       "ar.L3          0.1552      0.033      4.716      0.000       0.091       0.220\n",
       "ar.L4         -0.0575      0.035     -1.657      0.097      -0.126       0.011\n",
       "ar.L5         -0.0375      0.041     -0.917      0.359      -0.118       0.043\n",
       "ar.L6         -0.0401      0.038     -1.043      0.297      -0.115       0.035\n",
       "ar.L7          0.1501      0.037      4.077      0.000       0.078       0.222\n",
       "ma.L1          0.6280      0.073      8.638      0.000       0.485       0.770\n",
       "sigma2         0.0002   6.95e-06     31.430      0.000       0.000       0.000\n",
       "===================================================================================\n",
       "Ljung-Box (Q):                       34.55   Jarque-Bera (JB):              1096.04\n",
       "Prob(Q):                              0.71   Prob(JB):                         0.00\n",
       "Heteroskedasticity (H):               3.58   Skew:                            -0.95\n",
       "Prob(H) (two-sided):                  0.00   Kurtosis:                         9.74\n",
       "===================================================================================\n",
       "\n",
       "Warnings:\n",
       "[1] Covariance matrix calculated using the outer product of gradients (complex-step).\n",
       "\"\"\""
      ]
     },
     "execution_count": 11,
     "metadata": {},
     "output_type": "execute_result"
    }
   ],
   "source": [
    "# Print the model summary\n",
    "results.summary()"
   ]
  },
  {
   "cell_type": "code",
   "execution_count": 12,
   "metadata": {},
   "outputs": [
    {
     "name": "stderr",
     "output_type": "stream",
     "text": [
      "C:\\Users\\Sungwon Kim\\anaconda3\\envs\\dev\\lib\\site-packages\\statsmodels\\tsa\\base\\tsa_model.py:583: ValueWarning: No supported index is available. Prediction results will be given with an integer index beginning at `start`.\n",
      "  ValueWarning)\n"
     ]
    },
    {
     "data": {
      "text/plain": [
       "538    1.318042\n",
       "539    1.325347\n",
       "540    1.321044\n",
       "541    1.324037\n",
       "542    1.322046\n",
       "543    1.323289\n",
       "544    1.323680\n",
       "545    1.322086\n",
       "546    1.324776\n",
       "547    1.321980\n",
       "548    1.324398\n",
       "549    1.322624\n",
       "550    1.323684\n",
       "551    1.323385\n",
       "552    1.322986\n",
       "553    1.323974\n",
       "554    1.322652\n",
       "555    1.324036\n",
       "556    1.322824\n",
       "557    1.323710\n",
       "558    1.323226\n",
       "559    1.323301\n",
       "560    1.323587\n",
       "561    1.323037\n",
       "562    1.323727\n",
       "563    1.323027\n",
       "564    1.323627\n",
       "565    1.323203\n",
       "566    1.323415\n",
       "567    1.323414\n",
       "dtype: float64"
      ]
     },
     "execution_count": 12,
     "metadata": {},
     "output_type": "execute_result"
    }
   ],
   "source": [
    "results.forecast(steps=30)"
   ]
  },
  {
   "cell_type": "code",
   "execution_count": 13,
   "metadata": {},
   "outputs": [
    {
     "name": "stderr",
     "output_type": "stream",
     "text": [
      "C:\\Users\\Sungwon Kim\\anaconda3\\envs\\dev\\lib\\site-packages\\statsmodels\\tsa\\base\\tsa_model.py:583: ValueWarning: No supported index is available. Prediction results will be given with an integer index beginning at `start`.\n",
      "  ValueWarning)\n"
     ]
    },
    {
     "data": {
      "text/plain": [
       "<matplotlib.axes._subplots.AxesSubplot at 0x20c01b8d848>"
      ]
     },
     "execution_count": 13,
     "metadata": {},
     "output_type": "execute_result"
    },
    {
     "data": {
      "image/png": "[encoded data removed]",
      "text/plain": [
       "<Figure size 432x288 with 1 Axes>"
      ]
     },
     "metadata": {
      "needs_background": "light"
     },
     "output_type": "display_data"
    }
   ],
   "source": [
    "# create a dataframe that holds the forecast values.\n",
    "return_forecast = pd.DataFrame(results.forecast(steps=30))\n",
    "# Visualize the forecast\n",
    "return_forecast.plot(title=\"Return Forecast\")"
   ]
  },
  {
   "cell_type": "markdown",
   "metadata": {},
   "source": [
    "## Forecast Market Return"
   ]
  },
  {
   "cell_type": "code",
   "execution_count": 14,
   "metadata": {},
   "outputs": [
    {
     "data": {
      "text/html": [
       "<div>\n",
       "<style scoped>\n",
       "    .dataframe tbody tr th:only-of-type {\n",
       "        vertical-align: middle;\n",
       "    }\n",
       "\n",
       "    .dataframe tbody tr th {\n",
       "        vertical-align: top;\n",
       "    }\n",
       "\n",
       "    .dataframe thead th {\n",
       "        text-align: right;\n",
       "    }\n",
       "</style>\n",
       "<table border=\"1\" class=\"dataframe\">\n",
       "  <thead>\n",
       "    <tr style=\"text-align: right;\">\n",
       "      <th></th>\n",
       "      <th>Market Return</th>\n",
       "    </tr>\n",
       "    <tr>\n",
       "      <th>Date</th>\n",
       "      <th></th>\n",
       "    </tr>\n",
       "  </thead>\n",
       "  <tbody>\n",
       "    <tr>\n",
       "      <th>2018-07-02</th>\n",
       "      <td>1.002766</td>\n",
       "    </tr>\n",
       "    <tr>\n",
       "      <th>2018-07-03</th>\n",
       "      <td>0.998673</td>\n",
       "    </tr>\n",
       "  </tbody>\n",
       "</table>\n",
       "</div>"
      ],
      "text/plain": [
       "            Market Return\n",
       "Date                     \n",
       "2018-07-02       1.002766\n",
       "2018-07-03       0.998673"
      ]
     },
     "execution_count": 14,
     "metadata": {},
     "output_type": "execute_result"
    }
   ],
   "source": [
    "market = df[\"Market Return\"].to_frame().dropna()\n",
    "market.head(2)"
   ]
  },
  {
   "cell_type": "code",
   "execution_count": 15,
   "metadata": {},
   "outputs": [
    {
     "name": "stdout",
     "output_type": "stream",
     "text": [
      "Performing stepwise search to minimize aic\n",
      " ARIMA(1,1,1)(0,0,0)[0] intercept   : AIC=-2946.308, Time=0.74 sec\n",
      " ARIMA(0,1,0)(0,0,0)[0] intercept   : AIC=-2907.627, Time=0.13 sec\n",
      " ARIMA(1,1,0)(0,0,0)[0] intercept   : AIC=-2942.425, Time=0.31 sec\n",
      " ARIMA(0,1,1)(0,0,0)[0] intercept   : AIC=-2932.675, Time=0.28 sec\n",
      " ARIMA(0,1,0)(0,0,0)[0]             : AIC=-2909.181, Time=0.04 sec\n",
      " ARIMA(2,1,1)(0,0,0)[0] intercept   : AIC=-2951.490, Time=0.87 sec\n",
      " ARIMA(2,1,0)(0,0,0)[0] intercept   : AIC=-2952.185, Time=0.36 sec\n",
      " ARIMA(3,1,0)(0,0,0)[0] intercept   : AIC=-2953.594, Time=0.51 sec\n",
      " ARIMA(4,1,0)(0,0,0)[0] intercept   : AIC=-2960.419, Time=0.44 sec\n",
      " ARIMA(5,1,0)(0,0,0)[0] intercept   : AIC=-2960.733, Time=0.57 sec\n",
      " ARIMA(6,1,0)(0,0,0)[0] intercept   : AIC=-2965.183, Time=0.61 sec\n",
      " ARIMA(7,1,0)(0,0,0)[0] intercept   : AIC=-2989.695, Time=1.02 sec\n",
      " ARIMA(7,1,1)(0,0,0)[0] intercept   : AIC=-2999.727, Time=2.07 sec\n",
      " ARIMA(6,1,1)(0,0,0)[0] intercept   : AIC=-2989.848, Time=1.79 sec\n",
      " ARIMA(7,1,2)(0,0,0)[0] intercept   : AIC=-2999.767, Time=2.30 sec\n",
      " ARIMA(6,1,2)(0,0,0)[0] intercept   : AIC=-2983.937, Time=2.15 sec\n",
      " ARIMA(7,1,3)(0,0,0)[0] intercept   : AIC=-2984.654, Time=2.60 sec\n",
      " ARIMA(6,1,3)(0,0,0)[0] intercept   : AIC=-2984.211, Time=2.16 sec\n",
      " ARIMA(7,1,2)(0,0,0)[0]             : AIC=-3001.533, Time=1.40 sec\n",
      " ARIMA(6,1,2)(0,0,0)[0]             : AIC=-2986.820, Time=1.01 sec\n",
      " ARIMA(7,1,1)(0,0,0)[0]             : AIC=-3002.719, Time=1.18 sec\n",
      " ARIMA(6,1,1)(0,0,0)[0]             : AIC=-2994.589, Time=0.99 sec\n",
      " ARIMA(7,1,0)(0,0,0)[0]             : AIC=-2991.236, Time=0.25 sec\n",
      " ARIMA(6,1,0)(0,0,0)[0]             : AIC=-2966.523, Time=0.30 sec\n",
      "\n",
      "Best model:  ARIMA(7,1,1)(0,0,0)[0]          \n",
      "Total fit time: 24.090 seconds\n"
     ]
    }
   ],
   "source": [
    "from pmdarima.arima import auto_arima\n",
    "step_wise=auto_arima(market,\n",
    " start_p=1, start_q=1, \n",
    " max_p=7, max_q=7, \n",
    " d=1, max_d=7,\n",
    " trace=True, \n",
    " error_action='ignore', \n",
    " suppress_warnings=True, \n",
    " stepwise=True)"
   ]
  },
  {
   "cell_type": "code",
   "execution_count": 16,
   "metadata": {},
   "outputs": [
    {
     "data": {
      "text/html": [
       "<table class=\"simpletable\">\n",
       "<caption>SARIMAX Results</caption>\n",
       "<tr>\n",
       "  <th>Dep. Variable:</th>           <td>y</td>        <th>  No. Observations:  </th>    <td>538</td>   \n",
       "</tr>\n",
       "<tr>\n",
       "  <th>Model:</th>           <td>SARIMAX(7, 1, 1)</td> <th>  Log Likelihood     </th> <td>1510.359</td> \n",
       "</tr>\n",
       "<tr>\n",
       "  <th>Date:</th>            <td>Tue, 25 Aug 2020</td> <th>  AIC                </th> <td>-3002.719</td>\n",
       "</tr>\n",
       "<tr>\n",
       "  <th>Time:</th>                <td>14:28:24</td>     <th>  BIC                </th> <td>-2964.145</td>\n",
       "</tr>\n",
       "<tr>\n",
       "  <th>Sample:</th>                  <td>0</td>        <th>  HQIC               </th> <td>-2987.629</td>\n",
       "</tr>\n",
       "<tr>\n",
       "  <th></th>                      <td> - 538</td>      <th>                     </th>     <td> </td>    \n",
       "</tr>\n",
       "<tr>\n",
       "  <th>Covariance Type:</th>        <td>opg</td>       <th>                     </th>     <td> </td>    \n",
       "</tr>\n",
       "</table>\n",
       "<table class=\"simpletable\">\n",
       "<tr>\n",
       "     <td></td>       <th>coef</th>     <th>std err</th>      <th>z</th>      <th>P>|z|</th>  <th>[0.025</th>    <th>0.975]</th>  \n",
       "</tr>\n",
       "<tr>\n",
       "  <th>ar.L1</th>  <td>   -0.7080</td> <td>    0.081</td> <td>   -8.757</td> <td> 0.000</td> <td>   -0.866</td> <td>   -0.550</td>\n",
       "</tr>\n",
       "<tr>\n",
       "  <th>ar.L2</th>  <td>    0.0545</td> <td>    0.032</td> <td>    1.685</td> <td> 0.092</td> <td>   -0.009</td> <td>    0.118</td>\n",
       "</tr>\n",
       "<tr>\n",
       "  <th>ar.L3</th>  <td>    0.1549</td> <td>    0.031</td> <td>    4.936</td> <td> 0.000</td> <td>    0.093</td> <td>    0.216</td>\n",
       "</tr>\n",
       "<tr>\n",
       "  <th>ar.L4</th>  <td>   -0.0785</td> <td>    0.031</td> <td>   -2.500</td> <td> 0.012</td> <td>   -0.140</td> <td>   -0.017</td>\n",
       "</tr>\n",
       "<tr>\n",
       "  <th>ar.L5</th>  <td>   -0.0439</td> <td>    0.038</td> <td>   -1.152</td> <td> 0.249</td> <td>   -0.119</td> <td>    0.031</td>\n",
       "</tr>\n",
       "<tr>\n",
       "  <th>ar.L6</th>  <td>   -0.0409</td> <td>    0.035</td> <td>   -1.160</td> <td> 0.246</td> <td>   -0.110</td> <td>    0.028</td>\n",
       "</tr>\n",
       "<tr>\n",
       "  <th>ar.L7</th>  <td>    0.1657</td> <td>    0.034</td> <td>    4.824</td> <td> 0.000</td> <td>    0.098</td> <td>    0.233</td>\n",
       "</tr>\n",
       "<tr>\n",
       "  <th>ma.L1</th>  <td>    0.5695</td> <td>    0.082</td> <td>    6.913</td> <td> 0.000</td> <td>    0.408</td> <td>    0.731</td>\n",
       "</tr>\n",
       "<tr>\n",
       "  <th>sigma2</th> <td>    0.0002</td> <td> 6.45e-06</td> <td>   32.684</td> <td> 0.000</td> <td>    0.000</td> <td>    0.000</td>\n",
       "</tr>\n",
       "</table>\n",
       "<table class=\"simpletable\">\n",
       "<tr>\n",
       "  <th>Ljung-Box (Q):</th>          <td>34.98</td> <th>  Jarque-Bera (JB):  </th> <td>1438.93</td>\n",
       "</tr>\n",
       "<tr>\n",
       "  <th>Prob(Q):</th>                <td>0.70</td>  <th>  Prob(JB):          </th>  <td>0.00</td>  \n",
       "</tr>\n",
       "<tr>\n",
       "  <th>Heteroskedasticity (H):</th> <td>4.10</td>  <th>  Skew:              </th>  <td>-1.00</td> \n",
       "</tr>\n",
       "<tr>\n",
       "  <th>Prob(H) (two-sided):</th>    <td>0.00</td>  <th>  Kurtosis:          </th>  <td>10.76</td> \n",
       "</tr>\n",
       "</table><br/><br/>Warnings:<br/>[1] Covariance matrix calculated using the outer product of gradients (complex-step)."
      ],
      "text/plain": [
       "<class 'statsmodels.iolib.summary.Summary'>\n",
       "\"\"\"\n",
       "                               SARIMAX Results                                \n",
       "==============================================================================\n",
       "Dep. Variable:                      y   No. Observations:                  538\n",
       "Model:               SARIMAX(7, 1, 1)   Log Likelihood                1510.359\n",
       "Date:                Tue, 25 Aug 2020   AIC                          -3002.719\n",
       "Time:                        14:28:24   BIC                          -2964.145\n",
       "Sample:                             0   HQIC                         -2987.629\n",
       "                                - 538                                         \n",
       "Covariance Type:                  opg                                         \n",
       "==============================================================================\n",
       "                 coef    std err          z      P>|z|      [0.025      0.975]\n",
       "------------------------------------------------------------------------------\n",
       "ar.L1         -0.7080      0.081     -8.757      0.000      -0.866      -0.550\n",
       "ar.L2          0.0545      0.032      1.685      0.092      -0.009       0.118\n",
       "ar.L3          0.1549      0.031      4.936      0.000       0.093       0.216\n",
       "ar.L4         -0.0785      0.031     -2.500      0.012      -0.140      -0.017\n",
       "ar.L5         -0.0439      0.038     -1.152      0.249      -0.119       0.031\n",
       "ar.L6         -0.0409      0.035     -1.160      0.246      -0.110       0.028\n",
       "ar.L7          0.1657      0.034      4.824      0.000       0.098       0.233\n",
       "ma.L1          0.5695      0.082      6.913      0.000       0.408       0.731\n",
       "sigma2         0.0002   6.45e-06     32.684      0.000       0.000       0.000\n",
       "===================================================================================\n",
       "Ljung-Box (Q):                       34.98   Jarque-Bera (JB):              1438.93\n",
       "Prob(Q):                              0.70   Prob(JB):                         0.00\n",
       "Heteroskedasticity (H):               4.10   Skew:                            -1.00\n",
       "Prob(H) (two-sided):                  0.00   Kurtosis:                        10.76\n",
       "===================================================================================\n",
       "\n",
       "Warnings:\n",
       "[1] Covariance matrix calculated using the outer product of gradients (complex-step).\n",
       "\"\"\""
      ]
     },
     "execution_count": 16,
     "metadata": {},
     "output_type": "execute_result"
    }
   ],
   "source": [
    "step_wise.summary()"
   ]
  },
  {
   "cell_type": "code",
   "execution_count": 17,
   "metadata": {},
   "outputs": [
    {
     "name": "stderr",
     "output_type": "stream",
     "text": [
      "C:\\Users\\Sungwon Kim\\anaconda3\\envs\\dev\\lib\\site-packages\\statsmodels\\tsa\\base\\tsa_model.py:218: ValueWarning: A date index has been provided, but it has no associated frequency information and so will be ignored when e.g. forecasting.\n",
      "  ' ignored when e.g. forecasting.', ValueWarning)\n",
      "C:\\Users\\Sungwon Kim\\anaconda3\\envs\\dev\\lib\\site-packages\\statsmodels\\tsa\\base\\tsa_model.py:218: ValueWarning: A date index has been provided, but it has no associated frequency information and so will be ignored when e.g. forecasting.\n",
      "  ' ignored when e.g. forecasting.', ValueWarning)\n"
     ]
    }
   ],
   "source": [
    "# Create an SARIMAX model\n",
    "model_1 = SARIMAX(market, order=(7, 1, 1))"
   ]
  },
  {
   "cell_type": "code",
   "execution_count": 18,
   "metadata": {},
   "outputs": [
    {
     "name": "stderr",
     "output_type": "stream",
     "text": [
      "C:\\Users\\Sungwon Kim\\anaconda3\\envs\\dev\\lib\\site-packages\\statsmodels\\base\\model.py:568: ConvergenceWarning: Maximum Likelihood optimization failed to converge. Check mle_retvals\n",
      "  \"Check mle_retvals\", ConvergenceWarning)\n"
     ]
    }
   ],
   "source": [
    "# Fit the model to the data\n",
    "results_1 = model_1.fit()"
   ]
  },
  {
   "cell_type": "code",
   "execution_count": 19,
   "metadata": {},
   "outputs": [
    {
     "data": {
      "text/html": [
       "<table class=\"simpletable\">\n",
       "<caption>SARIMAX Results</caption>\n",
       "<tr>\n",
       "  <th>Dep. Variable:</th>     <td>Market Return</td>  <th>  No. Observations:  </th>    <td>538</td>   \n",
       "</tr>\n",
       "<tr>\n",
       "  <th>Model:</th>           <td>SARIMAX(7, 1, 1)</td> <th>  Log Likelihood     </th> <td>1510.359</td> \n",
       "</tr>\n",
       "<tr>\n",
       "  <th>Date:</th>            <td>Tue, 25 Aug 2020</td> <th>  AIC                </th> <td>-3002.719</td>\n",
       "</tr>\n",
       "<tr>\n",
       "  <th>Time:</th>                <td>14:28:27</td>     <th>  BIC                </th> <td>-2964.145</td>\n",
       "</tr>\n",
       "<tr>\n",
       "  <th>Sample:</th>                  <td>0</td>        <th>  HQIC               </th> <td>-2987.629</td>\n",
       "</tr>\n",
       "<tr>\n",
       "  <th></th>                      <td> - 538</td>      <th>                     </th>     <td> </td>    \n",
       "</tr>\n",
       "<tr>\n",
       "  <th>Covariance Type:</th>        <td>opg</td>       <th>                     </th>     <td> </td>    \n",
       "</tr>\n",
       "</table>\n",
       "<table class=\"simpletable\">\n",
       "<tr>\n",
       "     <td></td>       <th>coef</th>     <th>std err</th>      <th>z</th>      <th>P>|z|</th>  <th>[0.025</th>    <th>0.975]</th>  \n",
       "</tr>\n",
       "<tr>\n",
       "  <th>ar.L1</th>  <td>   -0.7080</td> <td>    0.081</td> <td>   -8.757</td> <td> 0.000</td> <td>   -0.866</td> <td>   -0.550</td>\n",
       "</tr>\n",
       "<tr>\n",
       "  <th>ar.L2</th>  <td>    0.0545</td> <td>    0.032</td> <td>    1.685</td> <td> 0.092</td> <td>   -0.009</td> <td>    0.118</td>\n",
       "</tr>\n",
       "<tr>\n",
       "  <th>ar.L3</th>  <td>    0.1549</td> <td>    0.031</td> <td>    4.936</td> <td> 0.000</td> <td>    0.093</td> <td>    0.216</td>\n",
       "</tr>\n",
       "<tr>\n",
       "  <th>ar.L4</th>  <td>   -0.0785</td> <td>    0.031</td> <td>   -2.500</td> <td> 0.012</td> <td>   -0.140</td> <td>   -0.017</td>\n",
       "</tr>\n",
       "<tr>\n",
       "  <th>ar.L5</th>  <td>   -0.0439</td> <td>    0.038</td> <td>   -1.152</td> <td> 0.249</td> <td>   -0.119</td> <td>    0.031</td>\n",
       "</tr>\n",
       "<tr>\n",
       "  <th>ar.L6</th>  <td>   -0.0409</td> <td>    0.035</td> <td>   -1.160</td> <td> 0.246</td> <td>   -0.110</td> <td>    0.028</td>\n",
       "</tr>\n",
       "<tr>\n",
       "  <th>ar.L7</th>  <td>    0.1657</td> <td>    0.034</td> <td>    4.824</td> <td> 0.000</td> <td>    0.098</td> <td>    0.233</td>\n",
       "</tr>\n",
       "<tr>\n",
       "  <th>ma.L1</th>  <td>    0.5695</td> <td>    0.082</td> <td>    6.913</td> <td> 0.000</td> <td>    0.408</td> <td>    0.731</td>\n",
       "</tr>\n",
       "<tr>\n",
       "  <th>sigma2</th> <td>    0.0002</td> <td> 6.45e-06</td> <td>   32.684</td> <td> 0.000</td> <td>    0.000</td> <td>    0.000</td>\n",
       "</tr>\n",
       "</table>\n",
       "<table class=\"simpletable\">\n",
       "<tr>\n",
       "  <th>Ljung-Box (Q):</th>          <td>34.98</td> <th>  Jarque-Bera (JB):  </th> <td>1438.93</td>\n",
       "</tr>\n",
       "<tr>\n",
       "  <th>Prob(Q):</th>                <td>0.70</td>  <th>  Prob(JB):          </th>  <td>0.00</td>  \n",
       "</tr>\n",
       "<tr>\n",
       "  <th>Heteroskedasticity (H):</th> <td>4.10</td>  <th>  Skew:              </th>  <td>-1.00</td> \n",
       "</tr>\n",
       "<tr>\n",
       "  <th>Prob(H) (two-sided):</th>    <td>0.00</td>  <th>  Kurtosis:          </th>  <td>10.76</td> \n",
       "</tr>\n",
       "</table><br/><br/>Warnings:<br/>[1] Covariance matrix calculated using the outer product of gradients (complex-step)."
      ],
      "text/plain": [
       "<class 'statsmodels.iolib.summary.Summary'>\n",
       "\"\"\"\n",
       "                               SARIMAX Results                                \n",
       "==============================================================================\n",
       "Dep. Variable:          Market Return   No. Observations:                  538\n",
       "Model:               SARIMAX(7, 1, 1)   Log Likelihood                1510.359\n",
       "Date:                Tue, 25 Aug 2020   AIC                          -3002.719\n",
       "Time:                        14:28:27   BIC                          -2964.145\n",
       "Sample:                             0   HQIC                         -2987.629\n",
       "                                - 538                                         \n",
       "Covariance Type:                  opg                                         \n",
       "==============================================================================\n",
       "                 coef    std err          z      P>|z|      [0.025      0.975]\n",
       "------------------------------------------------------------------------------\n",
       "ar.L1         -0.7080      0.081     -8.757      0.000      -0.866      -0.550\n",
       "ar.L2          0.0545      0.032      1.685      0.092      -0.009       0.118\n",
       "ar.L3          0.1549      0.031      4.936      0.000       0.093       0.216\n",
       "ar.L4         -0.0785      0.031     -2.500      0.012      -0.140      -0.017\n",
       "ar.L5         -0.0439      0.038     -1.152      0.249      -0.119       0.031\n",
       "ar.L6         -0.0409      0.035     -1.160      0.246      -0.110       0.028\n",
       "ar.L7          0.1657      0.034      4.824      0.000       0.098       0.233\n",
       "ma.L1          0.5695      0.082      6.913      0.000       0.408       0.731\n",
       "sigma2         0.0002   6.45e-06     32.684      0.000       0.000       0.000\n",
       "===================================================================================\n",
       "Ljung-Box (Q):                       34.98   Jarque-Bera (JB):              1438.93\n",
       "Prob(Q):                              0.70   Prob(JB):                         0.00\n",
       "Heteroskedasticity (H):               4.10   Skew:                            -1.00\n",
       "Prob(H) (two-sided):                  0.00   Kurtosis:                        10.76\n",
       "===================================================================================\n",
       "\n",
       "Warnings:\n",
       "[1] Covariance matrix calculated using the outer product of gradients (complex-step).\n",
       "\"\"\""
      ]
     },
     "execution_count": 19,
     "metadata": {},
     "output_type": "execute_result"
    }
   ],
   "source": [
    "# Print the model summary\n",
    "results_1.summary()"
   ]
  },
  {
   "cell_type": "code",
   "execution_count": 20,
   "metadata": {},
   "outputs": [
    {
     "name": "stderr",
     "output_type": "stream",
     "text": [
      "C:\\Users\\Sungwon Kim\\anaconda3\\envs\\dev\\lib\\site-packages\\statsmodels\\tsa\\base\\tsa_model.py:583: ValueWarning: No supported index is available. Prediction results will be given with an integer index beginning at `start`.\n",
      "  ValueWarning)\n"
     ]
    },
    {
     "data": {
      "text/plain": [
       "<matplotlib.axes._subplots.AxesSubplot at 0x20c01d558c8>"
      ]
     },
     "execution_count": 20,
     "metadata": {},
     "output_type": "execute_result"
    },
    {
     "data": {
      "image/png": "[encoded data removed]",
      "text/plain": [
       "<Figure size 432x288 with 1 Axes>"
      ]
     },
     "metadata": {
      "needs_background": "light"
     },
     "output_type": "display_data"
    }
   ],
   "source": [
    "# create a dataframe that holds the forecast values.\n",
    "market_return_forecast = pd.DataFrame(results_1.forecast(steps=30))\n",
    "\n",
    "# Visualize the forecast\n",
    "market_return_forecast.plot(title=\"Market Return Forecast\")"
   ]
  },
  {
   "cell_type": "code",
   "execution_count": 30,
   "metadata": {},
   "outputs": [
    {
     "data": {
      "text/html": [
       "<div>\n",
       "<style scoped>\n",
       "    .dataframe tbody tr th:only-of-type {\n",
       "        vertical-align: middle;\n",
       "    }\n",
       "\n",
       "    .dataframe tbody tr th {\n",
       "        vertical-align: top;\n",
       "    }\n",
       "\n",
       "    .dataframe thead th {\n",
       "        text-align: right;\n",
       "    }\n",
       "</style>\n",
       "<table border=\"1\" class=\"dataframe\">\n",
       "  <thead>\n",
       "    <tr style=\"text-align: right;\">\n",
       "      <th></th>\n",
       "      <th>Market Return Forecast</th>\n",
       "      <th>Portfolio Return Forecast</th>\n",
       "    </tr>\n",
       "  </thead>\n",
       "  <tbody>\n",
       "    <tr>\n",
       "      <th>2020-09-28</th>\n",
       "      <td>1.251641</td>\n",
       "      <td>1.323027</td>\n",
       "    </tr>\n",
       "    <tr>\n",
       "      <th>2020-09-29</th>\n",
       "      <td>1.252185</td>\n",
       "      <td>1.323627</td>\n",
       "    </tr>\n",
       "    <tr>\n",
       "      <th>2020-09-30</th>\n",
       "      <td>1.251863</td>\n",
       "      <td>1.323203</td>\n",
       "    </tr>\n",
       "    <tr>\n",
       "      <th>2020-10-01</th>\n",
       "      <td>1.251947</td>\n",
       "      <td>1.323415</td>\n",
       "    </tr>\n",
       "    <tr>\n",
       "      <th>2020-10-02</th>\n",
       "      <td>1.252078</td>\n",
       "      <td>1.323414</td>\n",
       "    </tr>\n",
       "  </tbody>\n",
       "</table>\n",
       "</div>"
      ],
      "text/plain": [
       "            Market Return Forecast  Portfolio Return Forecast\n",
       "2020-09-28                1.251641                   1.323027\n",
       "2020-09-29                1.252185                   1.323627\n",
       "2020-09-30                1.251863                   1.323203\n",
       "2020-10-01                1.251947                   1.323415\n",
       "2020-10-02                1.252078                   1.323414"
      ]
     },
     "execution_count": 30,
     "metadata": {},
     "output_type": "execute_result"
    }
   ],
   "source": [
    "# concatenate the dataframes\n",
    "forecast_df = pd.concat([market_return_forecast, return_forecast], axis=1)\n",
    "forecast_df.columns = [ \"Market Return Forecast\", \"Portfolio Return Forecast\"]\n",
    "forecast_df.index = pd.bdate_range(start='8/24/2020', periods = 30)\n",
    "forecast_df.tail()"
   ]
  },
  {
   "cell_type": "code",
   "execution_count": 31,
   "metadata": {
    "scrolled": true
   },
   "outputs": [
    {
     "data": {
      "text/plain": [
       "<matplotlib.axes._subplots.AxesSubplot at 0x20c01d17688>"
      ]
     },
     "execution_count": 31,
     "metadata": {},
     "output_type": "execute_result"
    },
    {
     "data": {
      "image/png": "[encoded data removed]",
      "text/plain": [
       "<Figure size 432x288 with 1 Axes>"
      ]
     },
     "metadata": {
      "needs_background": "light"
     },
     "output_type": "display_data"
    }
   ],
   "source": [
    "forecast_df.plot()"
   ]
  },
  {
   "cell_type": "code",
   "execution_count": null,
   "metadata": {},
   "outputs": [],
   "source": [
    "final_df = pd.concat([df, forecast_df], axis=0, sort=False)"
   ]
  },
  {
   "cell_type": "code",
   "execution_count": 41,
   "metadata": {},
   "outputs": [
    {
     "data": {
      "text/plain": [
       "<matplotlib.lines.Line2D at 0x20c09db6848>"
      ]
     },
     "execution_count": 41,
     "metadata": {},
     "output_type": "execute_result"
    },
    {
     "data": {
      "text/plain": [
       "<Figure size 432x288 with 0 Axes>"
      ]
     },
     "metadata": {},
     "output_type": "display_data"
    },
    {
     "data": {
      "image/png": "[encoded data removed]",
      "text/plain": [
       "<Figure size 432x288 with 1 Axes>"
      ]
     },
     "metadata": {
      "needs_background": "light"
     },
     "output_type": "display_data"
    }
   ],
   "source": [
    "plt.figure();\n",
    "final_df.plot()\n",
    "plt.title('GGHC Actual and Prediction')\n",
    "plt.axvline(forecast_df.index[0], color='r', linestyle='--')"
   ]
  },
  {
   "cell_type": "code",
   "execution_count": null,
   "metadata": {},
   "outputs": [],
   "source": []
  }
 ],
 "metadata": {
  "kernelspec": {
   "display_name": "Python 3",
   "language": "python",
   "name": "python3"
  },
  "language_info": {
   "codemirror_mode": {
    "name": "ipython",
    "version": 3
   },
   "file_extension": ".py",
   "mimetype": "text/x-python",
   "name": "python",
   "nbconvert_exporter": "python",
   "pygments_lexer": "ipython3",
   "version": "3.7.7"
  }
 },
 "nbformat": 4,
 "nbformat_minor": 4
}
