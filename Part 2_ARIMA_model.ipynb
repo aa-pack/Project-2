{
 "cells": [
  {
   "cell_type": "code",
   "execution_count": 1,
   "metadata": {},
   "outputs": [],
   "source": [
    "import pandas as pd\n",
    "%matplotlib inline"
   ]
  },
  {
   "cell_type": "code",
   "execution_count": 39,
   "metadata": {},
   "outputs": [
    {
     "data": {
      "text/html": [
       "<div>\n",
       "<style scoped>\n",
       "    .dataframe tbody tr th:only-of-type {\n",
       "        vertical-align: middle;\n",
       "    }\n",
       "\n",
       "    .dataframe tbody tr th {\n",
       "        vertical-align: top;\n",
       "    }\n",
       "\n",
       "    .dataframe thead th {\n",
       "        text-align: right;\n",
       "    }\n",
       "</style>\n",
       "<table border=\"1\" class=\"dataframe\">\n",
       "  <thead>\n",
       "    <tr style=\"text-align: right;\">\n",
       "      <th></th>\n",
       "      <th>Unnamed: 0</th>\n",
       "      <th>XLB</th>\n",
       "      <th>XLC</th>\n",
       "      <th>XLE</th>\n",
       "      <th>XLF</th>\n",
       "      <th>XLI</th>\n",
       "      <th>XLK</th>\n",
       "      <th>XLP</th>\n",
       "      <th>XLRE</th>\n",
       "      <th>XLU</th>\n",
       "      <th>XLV</th>\n",
       "      <th>XLY</th>\n",
       "      <th>Daily Portfolio Return</th>\n",
       "      <th>cumulative portfolio return</th>\n",
       "    </tr>\n",
       "  </thead>\n",
       "  <tbody>\n",
       "    <tr>\n",
       "      <th>0</th>\n",
       "      <td>2018-12-31</td>\n",
       "      <td>NaN</td>\n",
       "      <td>NaN</td>\n",
       "      <td>NaN</td>\n",
       "      <td>NaN</td>\n",
       "      <td>NaN</td>\n",
       "      <td>NaN</td>\n",
       "      <td>NaN</td>\n",
       "      <td>NaN</td>\n",
       "      <td>NaN</td>\n",
       "      <td>NaN</td>\n",
       "      <td>NaN</td>\n",
       "      <td>0.000000</td>\n",
       "      <td>1.000000</td>\n",
       "    </tr>\n",
       "    <tr>\n",
       "      <th>1</th>\n",
       "      <td>2019-01-02</td>\n",
       "      <td>0.000029</td>\n",
       "      <td>0.000697</td>\n",
       "      <td>0.000181</td>\n",
       "      <td>0.005111</td>\n",
       "      <td>0.000426</td>\n",
       "      <td>0.001189</td>\n",
       "      <td>-0.000291</td>\n",
       "      <td>-0.000060</td>\n",
       "      <td>-3.303973e-06</td>\n",
       "      <td>-0.000128</td>\n",
       "      <td>0.000297</td>\n",
       "      <td>0.007447</td>\n",
       "      <td>1.007447</td>\n",
       "    </tr>\n",
       "    <tr>\n",
       "      <th>2</th>\n",
       "      <td>2019-01-03</td>\n",
       "      <td>-0.000078</td>\n",
       "      <td>-0.000569</td>\n",
       "      <td>-0.000062</td>\n",
       "      <td>-0.008362</td>\n",
       "      <td>-0.001340</td>\n",
       "      <td>-0.010178</td>\n",
       "      <td>-0.000814</td>\n",
       "      <td>0.000017</td>\n",
       "      <td>8.305420e-07</td>\n",
       "      <td>-0.000271</td>\n",
       "      <td>-0.000477</td>\n",
       "      <td>-0.022134</td>\n",
       "      <td>0.985148</td>\n",
       "    </tr>\n",
       "    <tr>\n",
       "      <th>3</th>\n",
       "      <td>2019-01-04</td>\n",
       "      <td>0.000118</td>\n",
       "      <td>0.001643</td>\n",
       "      <td>0.000252</td>\n",
       "      <td>0.014264</td>\n",
       "      <td>0.001830</td>\n",
       "      <td>0.009026</td>\n",
       "      <td>0.003432</td>\n",
       "      <td>0.000028</td>\n",
       "      <td>2.494949e-06</td>\n",
       "      <td>0.000405</td>\n",
       "      <td>0.000795</td>\n",
       "      <td>0.031796</td>\n",
       "      <td>1.016472</td>\n",
       "    </tr>\n",
       "    <tr>\n",
       "      <th>4</th>\n",
       "      <td>2019-01-07</td>\n",
       "      <td>0.000011</td>\n",
       "      <td>0.000480</td>\n",
       "      <td>0.000109</td>\n",
       "      <td>0.001132</td>\n",
       "      <td>0.000393</td>\n",
       "      <td>0.002163</td>\n",
       "      <td>-0.000018</td>\n",
       "      <td>0.000024</td>\n",
       "      <td>-1.249300e-06</td>\n",
       "      <td>0.000069</td>\n",
       "      <td>0.000595</td>\n",
       "      <td>0.004957</td>\n",
       "      <td>1.021510</td>\n",
       "    </tr>\n",
       "  </tbody>\n",
       "</table>\n",
       "</div>"
      ],
      "text/plain": [
       "   Unnamed: 0       XLB       XLC       XLE       XLF       XLI       XLK  \\\n",
       "0  2018-12-31       NaN       NaN       NaN       NaN       NaN       NaN   \n",
       "1  2019-01-02  0.000029  0.000697  0.000181  0.005111  0.000426  0.001189   \n",
       "2  2019-01-03 -0.000078 -0.000569 -0.000062 -0.008362 -0.001340 -0.010178   \n",
       "3  2019-01-04  0.000118  0.001643  0.000252  0.014264  0.001830  0.009026   \n",
       "4  2019-01-07  0.000011  0.000480  0.000109  0.001132  0.000393  0.002163   \n",
       "\n",
       "        XLP      XLRE           XLU       XLV       XLY  \\\n",
       "0       NaN       NaN           NaN       NaN       NaN   \n",
       "1 -0.000291 -0.000060 -3.303973e-06 -0.000128  0.000297   \n",
       "2 -0.000814  0.000017  8.305420e-07 -0.000271 -0.000477   \n",
       "3  0.003432  0.000028  2.494949e-06  0.000405  0.000795   \n",
       "4 -0.000018  0.000024 -1.249300e-06  0.000069  0.000595   \n",
       "\n",
       "   Daily Portfolio Return  cumulative portfolio return  \n",
       "0                0.000000                     1.000000  \n",
       "1                0.007447                     1.007447  \n",
       "2               -0.022134                     0.985148  \n",
       "3                0.031796                     1.016472  \n",
       "4                0.004957                     1.021510  "
      ]
     },
     "execution_count": 39,
     "metadata": {},
     "output_type": "execute_result"
    }
   ],
   "source": [
    "from pathlib import Path\n",
    "csvpath = Path('berkshire_data_df.csv')\n",
    "df = pd.read_csv(csvpath, parse_dates=True)\n",
    "df.head()"
   ]
  },
  {
   "cell_type": "code",
   "execution_count": 40,
   "metadata": {},
   "outputs": [
    {
     "data": {
      "text/html": [
       "<div>\n",
       "<style scoped>\n",
       "    .dataframe tbody tr th:only-of-type {\n",
       "        vertical-align: middle;\n",
       "    }\n",
       "\n",
       "    .dataframe tbody tr th {\n",
       "        vertical-align: top;\n",
       "    }\n",
       "\n",
       "    .dataframe thead th {\n",
       "        text-align: right;\n",
       "    }\n",
       "</style>\n",
       "<table border=\"1\" class=\"dataframe\">\n",
       "  <thead>\n",
       "    <tr style=\"text-align: right;\">\n",
       "      <th></th>\n",
       "      <th>date</th>\n",
       "      <th>XLB</th>\n",
       "      <th>XLC</th>\n",
       "      <th>XLE</th>\n",
       "      <th>XLF</th>\n",
       "      <th>XLI</th>\n",
       "      <th>XLK</th>\n",
       "      <th>XLP</th>\n",
       "      <th>XLRE</th>\n",
       "      <th>XLU</th>\n",
       "      <th>XLV</th>\n",
       "      <th>XLY</th>\n",
       "      <th>Daily Portfolio Return</th>\n",
       "      <th>cumulative portfolio return</th>\n",
       "    </tr>\n",
       "  </thead>\n",
       "  <tbody>\n",
       "    <tr>\n",
       "      <th>0</th>\n",
       "      <td>2018-12-31</td>\n",
       "      <td>NaN</td>\n",
       "      <td>NaN</td>\n",
       "      <td>NaN</td>\n",
       "      <td>NaN</td>\n",
       "      <td>NaN</td>\n",
       "      <td>NaN</td>\n",
       "      <td>NaN</td>\n",
       "      <td>NaN</td>\n",
       "      <td>NaN</td>\n",
       "      <td>NaN</td>\n",
       "      <td>NaN</td>\n",
       "      <td>0.000000</td>\n",
       "      <td>1.000000</td>\n",
       "    </tr>\n",
       "    <tr>\n",
       "      <th>1</th>\n",
       "      <td>2019-01-02</td>\n",
       "      <td>0.000029</td>\n",
       "      <td>0.000697</td>\n",
       "      <td>0.000181</td>\n",
       "      <td>0.005111</td>\n",
       "      <td>0.000426</td>\n",
       "      <td>0.001189</td>\n",
       "      <td>-0.000291</td>\n",
       "      <td>-0.000060</td>\n",
       "      <td>-3.303973e-06</td>\n",
       "      <td>-0.000128</td>\n",
       "      <td>0.000297</td>\n",
       "      <td>0.007447</td>\n",
       "      <td>1.007447</td>\n",
       "    </tr>\n",
       "    <tr>\n",
       "      <th>2</th>\n",
       "      <td>2019-01-03</td>\n",
       "      <td>-0.000078</td>\n",
       "      <td>-0.000569</td>\n",
       "      <td>-0.000062</td>\n",
       "      <td>-0.008362</td>\n",
       "      <td>-0.001340</td>\n",
       "      <td>-0.010178</td>\n",
       "      <td>-0.000814</td>\n",
       "      <td>0.000017</td>\n",
       "      <td>8.305420e-07</td>\n",
       "      <td>-0.000271</td>\n",
       "      <td>-0.000477</td>\n",
       "      <td>-0.022134</td>\n",
       "      <td>0.985148</td>\n",
       "    </tr>\n",
       "    <tr>\n",
       "      <th>3</th>\n",
       "      <td>2019-01-04</td>\n",
       "      <td>0.000118</td>\n",
       "      <td>0.001643</td>\n",
       "      <td>0.000252</td>\n",
       "      <td>0.014264</td>\n",
       "      <td>0.001830</td>\n",
       "      <td>0.009026</td>\n",
       "      <td>0.003432</td>\n",
       "      <td>0.000028</td>\n",
       "      <td>2.494949e-06</td>\n",
       "      <td>0.000405</td>\n",
       "      <td>0.000795</td>\n",
       "      <td>0.031796</td>\n",
       "      <td>1.016472</td>\n",
       "    </tr>\n",
       "    <tr>\n",
       "      <th>4</th>\n",
       "      <td>2019-01-07</td>\n",
       "      <td>0.000011</td>\n",
       "      <td>0.000480</td>\n",
       "      <td>0.000109</td>\n",
       "      <td>0.001132</td>\n",
       "      <td>0.000393</td>\n",
       "      <td>0.002163</td>\n",
       "      <td>-0.000018</td>\n",
       "      <td>0.000024</td>\n",
       "      <td>-1.249300e-06</td>\n",
       "      <td>0.000069</td>\n",
       "      <td>0.000595</td>\n",
       "      <td>0.004957</td>\n",
       "      <td>1.021510</td>\n",
       "    </tr>\n",
       "  </tbody>\n",
       "</table>\n",
       "</div>"
      ],
      "text/plain": [
       "         date       XLB       XLC       XLE       XLF       XLI       XLK  \\\n",
       "0  2018-12-31       NaN       NaN       NaN       NaN       NaN       NaN   \n",
       "1  2019-01-02  0.000029  0.000697  0.000181  0.005111  0.000426  0.001189   \n",
       "2  2019-01-03 -0.000078 -0.000569 -0.000062 -0.008362 -0.001340 -0.010178   \n",
       "3  2019-01-04  0.000118  0.001643  0.000252  0.014264  0.001830  0.009026   \n",
       "4  2019-01-07  0.000011  0.000480  0.000109  0.001132  0.000393  0.002163   \n",
       "\n",
       "        XLP      XLRE           XLU       XLV       XLY  \\\n",
       "0       NaN       NaN           NaN       NaN       NaN   \n",
       "1 -0.000291 -0.000060 -3.303973e-06 -0.000128  0.000297   \n",
       "2 -0.000814  0.000017  8.305420e-07 -0.000271 -0.000477   \n",
       "3  0.003432  0.000028  2.494949e-06  0.000405  0.000795   \n",
       "4 -0.000018  0.000024 -1.249300e-06  0.000069  0.000595   \n",
       "\n",
       "   Daily Portfolio Return  cumulative portfolio return  \n",
       "0                0.000000                     1.000000  \n",
       "1                0.007447                     1.007447  \n",
       "2               -0.022134                     0.985148  \n",
       "3                0.031796                     1.016472  \n",
       "4                0.004957                     1.021510  "
      ]
     },
     "execution_count": 40,
     "metadata": {},
     "output_type": "execute_result"
    }
   ],
   "source": [
    "df = df.rename(columns={'Unnamed: 0':'date'})\n",
    "df.head()"
   ]
  },
  {
   "cell_type": "code",
   "execution_count": 41,
   "metadata": {},
   "outputs": [],
   "source": [
    "df.set_index('date', inplace=True, drop=True)"
   ]
  },
  {
   "cell_type": "code",
   "execution_count": 42,
   "metadata": {},
   "outputs": [
    {
     "data": {
      "text/html": [
       "<div>\n",
       "<style scoped>\n",
       "    .dataframe tbody tr th:only-of-type {\n",
       "        vertical-align: middle;\n",
       "    }\n",
       "\n",
       "    .dataframe tbody tr th {\n",
       "        vertical-align: top;\n",
       "    }\n",
       "\n",
       "    .dataframe thead th {\n",
       "        text-align: right;\n",
       "    }\n",
       "</style>\n",
       "<table border=\"1\" class=\"dataframe\">\n",
       "  <thead>\n",
       "    <tr style=\"text-align: right;\">\n",
       "      <th></th>\n",
       "      <th>XLB</th>\n",
       "      <th>XLC</th>\n",
       "      <th>XLE</th>\n",
       "      <th>XLF</th>\n",
       "      <th>XLI</th>\n",
       "      <th>XLK</th>\n",
       "      <th>XLP</th>\n",
       "      <th>XLRE</th>\n",
       "      <th>XLU</th>\n",
       "      <th>XLV</th>\n",
       "      <th>XLY</th>\n",
       "      <th>Daily Portfolio Return</th>\n",
       "      <th>cumulative portfolio return</th>\n",
       "    </tr>\n",
       "    <tr>\n",
       "      <th>date</th>\n",
       "      <th></th>\n",
       "      <th></th>\n",
       "      <th></th>\n",
       "      <th></th>\n",
       "      <th></th>\n",
       "      <th></th>\n",
       "      <th></th>\n",
       "      <th></th>\n",
       "      <th></th>\n",
       "      <th></th>\n",
       "      <th></th>\n",
       "      <th></th>\n",
       "      <th></th>\n",
       "    </tr>\n",
       "  </thead>\n",
       "  <tbody>\n",
       "    <tr>\n",
       "      <th>2018-12-31</th>\n",
       "      <td>NaN</td>\n",
       "      <td>NaN</td>\n",
       "      <td>NaN</td>\n",
       "      <td>NaN</td>\n",
       "      <td>NaN</td>\n",
       "      <td>NaN</td>\n",
       "      <td>NaN</td>\n",
       "      <td>NaN</td>\n",
       "      <td>NaN</td>\n",
       "      <td>NaN</td>\n",
       "      <td>NaN</td>\n",
       "      <td>0.000000</td>\n",
       "      <td>1.000000</td>\n",
       "    </tr>\n",
       "    <tr>\n",
       "      <th>2019-01-02</th>\n",
       "      <td>0.000029</td>\n",
       "      <td>0.000697</td>\n",
       "      <td>0.000181</td>\n",
       "      <td>0.005111</td>\n",
       "      <td>0.000426</td>\n",
       "      <td>0.001189</td>\n",
       "      <td>-0.000291</td>\n",
       "      <td>-0.000060</td>\n",
       "      <td>-3.303973e-06</td>\n",
       "      <td>-0.000128</td>\n",
       "      <td>0.000297</td>\n",
       "      <td>0.007447</td>\n",
       "      <td>1.007447</td>\n",
       "    </tr>\n",
       "    <tr>\n",
       "      <th>2019-01-03</th>\n",
       "      <td>-0.000078</td>\n",
       "      <td>-0.000569</td>\n",
       "      <td>-0.000062</td>\n",
       "      <td>-0.008362</td>\n",
       "      <td>-0.001340</td>\n",
       "      <td>-0.010178</td>\n",
       "      <td>-0.000814</td>\n",
       "      <td>0.000017</td>\n",
       "      <td>8.305420e-07</td>\n",
       "      <td>-0.000271</td>\n",
       "      <td>-0.000477</td>\n",
       "      <td>-0.022134</td>\n",
       "      <td>0.985148</td>\n",
       "    </tr>\n",
       "    <tr>\n",
       "      <th>2019-01-04</th>\n",
       "      <td>0.000118</td>\n",
       "      <td>0.001643</td>\n",
       "      <td>0.000252</td>\n",
       "      <td>0.014264</td>\n",
       "      <td>0.001830</td>\n",
       "      <td>0.009026</td>\n",
       "      <td>0.003432</td>\n",
       "      <td>0.000028</td>\n",
       "      <td>2.494949e-06</td>\n",
       "      <td>0.000405</td>\n",
       "      <td>0.000795</td>\n",
       "      <td>0.031796</td>\n",
       "      <td>1.016472</td>\n",
       "    </tr>\n",
       "    <tr>\n",
       "      <th>2019-01-07</th>\n",
       "      <td>0.000011</td>\n",
       "      <td>0.000480</td>\n",
       "      <td>0.000109</td>\n",
       "      <td>0.001132</td>\n",
       "      <td>0.000393</td>\n",
       "      <td>0.002163</td>\n",
       "      <td>-0.000018</td>\n",
       "      <td>0.000024</td>\n",
       "      <td>-1.249300e-06</td>\n",
       "      <td>0.000069</td>\n",
       "      <td>0.000595</td>\n",
       "      <td>0.004957</td>\n",
       "      <td>1.021510</td>\n",
       "    </tr>\n",
       "  </tbody>\n",
       "</table>\n",
       "</div>"
      ],
      "text/plain": [
       "                 XLB       XLC       XLE       XLF       XLI       XLK  \\\n",
       "date                                                                     \n",
       "2018-12-31       NaN       NaN       NaN       NaN       NaN       NaN   \n",
       "2019-01-02  0.000029  0.000697  0.000181  0.005111  0.000426  0.001189   \n",
       "2019-01-03 -0.000078 -0.000569 -0.000062 -0.008362 -0.001340 -0.010178   \n",
       "2019-01-04  0.000118  0.001643  0.000252  0.014264  0.001830  0.009026   \n",
       "2019-01-07  0.000011  0.000480  0.000109  0.001132  0.000393  0.002163   \n",
       "\n",
       "                 XLP      XLRE           XLU       XLV       XLY  \\\n",
       "date                                                               \n",
       "2018-12-31       NaN       NaN           NaN       NaN       NaN   \n",
       "2019-01-02 -0.000291 -0.000060 -3.303973e-06 -0.000128  0.000297   \n",
       "2019-01-03 -0.000814  0.000017  8.305420e-07 -0.000271 -0.000477   \n",
       "2019-01-04  0.003432  0.000028  2.494949e-06  0.000405  0.000795   \n",
       "2019-01-07 -0.000018  0.000024 -1.249300e-06  0.000069  0.000595   \n",
       "\n",
       "            Daily Portfolio Return  cumulative portfolio return  \n",
       "date                                                             \n",
       "2018-12-31                0.000000                     1.000000  \n",
       "2019-01-02                0.007447                     1.007447  \n",
       "2019-01-03               -0.022134                     0.985148  \n",
       "2019-01-04                0.031796                     1.016472  \n",
       "2019-01-07                0.004957                     1.021510  "
      ]
     },
     "execution_count": 42,
     "metadata": {},
     "output_type": "execute_result"
    }
   ],
   "source": [
    "df.head()"
   ]
  },
  {
   "cell_type": "code",
   "execution_count": 43,
   "metadata": {},
   "outputs": [
    {
     "data": {
      "text/html": [
       "<div>\n",
       "<style scoped>\n",
       "    .dataframe tbody tr th:only-of-type {\n",
       "        vertical-align: middle;\n",
       "    }\n",
       "\n",
       "    .dataframe tbody tr th {\n",
       "        vertical-align: top;\n",
       "    }\n",
       "\n",
       "    .dataframe thead th {\n",
       "        text-align: right;\n",
       "    }\n",
       "</style>\n",
       "<table border=\"1\" class=\"dataframe\">\n",
       "  <thead>\n",
       "    <tr style=\"text-align: right;\">\n",
       "      <th></th>\n",
       "      <th>XLB</th>\n",
       "      <th>XLC</th>\n",
       "      <th>XLE</th>\n",
       "      <th>XLF</th>\n",
       "      <th>XLI</th>\n",
       "      <th>XLK</th>\n",
       "      <th>XLP</th>\n",
       "      <th>XLRE</th>\n",
       "      <th>XLU</th>\n",
       "      <th>XLV</th>\n",
       "      <th>XLY</th>\n",
       "      <th>Daily Portfolio Return</th>\n",
       "      <th>cumulative portfolio return</th>\n",
       "    </tr>\n",
       "    <tr>\n",
       "      <th>date</th>\n",
       "      <th></th>\n",
       "      <th></th>\n",
       "      <th></th>\n",
       "      <th></th>\n",
       "      <th></th>\n",
       "      <th></th>\n",
       "      <th></th>\n",
       "      <th></th>\n",
       "      <th></th>\n",
       "      <th></th>\n",
       "      <th></th>\n",
       "      <th></th>\n",
       "      <th></th>\n",
       "    </tr>\n",
       "  </thead>\n",
       "  <tbody>\n",
       "    <tr>\n",
       "      <th>2019-01-02</th>\n",
       "      <td>0.000029</td>\n",
       "      <td>0.000697</td>\n",
       "      <td>0.000181</td>\n",
       "      <td>0.005111</td>\n",
       "      <td>0.000426</td>\n",
       "      <td>0.001189</td>\n",
       "      <td>-0.000291</td>\n",
       "      <td>-0.000060</td>\n",
       "      <td>-3.303973e-06</td>\n",
       "      <td>-0.000128</td>\n",
       "      <td>0.000297</td>\n",
       "      <td>0.007447</td>\n",
       "      <td>1.007447</td>\n",
       "    </tr>\n",
       "    <tr>\n",
       "      <th>2019-01-03</th>\n",
       "      <td>-0.000078</td>\n",
       "      <td>-0.000569</td>\n",
       "      <td>-0.000062</td>\n",
       "      <td>-0.008362</td>\n",
       "      <td>-0.001340</td>\n",
       "      <td>-0.010178</td>\n",
       "      <td>-0.000814</td>\n",
       "      <td>0.000017</td>\n",
       "      <td>8.305420e-07</td>\n",
       "      <td>-0.000271</td>\n",
       "      <td>-0.000477</td>\n",
       "      <td>-0.022134</td>\n",
       "      <td>0.985148</td>\n",
       "    </tr>\n",
       "    <tr>\n",
       "      <th>2019-01-04</th>\n",
       "      <td>0.000118</td>\n",
       "      <td>0.001643</td>\n",
       "      <td>0.000252</td>\n",
       "      <td>0.014264</td>\n",
       "      <td>0.001830</td>\n",
       "      <td>0.009026</td>\n",
       "      <td>0.003432</td>\n",
       "      <td>0.000028</td>\n",
       "      <td>2.494949e-06</td>\n",
       "      <td>0.000405</td>\n",
       "      <td>0.000795</td>\n",
       "      <td>0.031796</td>\n",
       "      <td>1.016472</td>\n",
       "    </tr>\n",
       "    <tr>\n",
       "      <th>2019-01-07</th>\n",
       "      <td>0.000011</td>\n",
       "      <td>0.000480</td>\n",
       "      <td>0.000109</td>\n",
       "      <td>0.001132</td>\n",
       "      <td>0.000393</td>\n",
       "      <td>0.002163</td>\n",
       "      <td>-0.000018</td>\n",
       "      <td>0.000024</td>\n",
       "      <td>-1.249300e-06</td>\n",
       "      <td>0.000069</td>\n",
       "      <td>0.000595</td>\n",
       "      <td>0.004957</td>\n",
       "      <td>1.021510</td>\n",
       "    </tr>\n",
       "    <tr>\n",
       "      <th>2019-01-08</th>\n",
       "      <td>0.000029</td>\n",
       "      <td>0.000660</td>\n",
       "      <td>0.000060</td>\n",
       "      <td>-0.000281</td>\n",
       "      <td>0.000687</td>\n",
       "      <td>0.001694</td>\n",
       "      <td>0.001765</td>\n",
       "      <td>0.000050</td>\n",
       "      <td>2.653177e-06</td>\n",
       "      <td>0.000115</td>\n",
       "      <td>0.000249</td>\n",
       "      <td>0.005032</td>\n",
       "      <td>1.026650</td>\n",
       "    </tr>\n",
       "  </tbody>\n",
       "</table>\n",
       "</div>"
      ],
      "text/plain": [
       "                 XLB       XLC       XLE       XLF       XLI       XLK  \\\n",
       "date                                                                     \n",
       "2019-01-02  0.000029  0.000697  0.000181  0.005111  0.000426  0.001189   \n",
       "2019-01-03 -0.000078 -0.000569 -0.000062 -0.008362 -0.001340 -0.010178   \n",
       "2019-01-04  0.000118  0.001643  0.000252  0.014264  0.001830  0.009026   \n",
       "2019-01-07  0.000011  0.000480  0.000109  0.001132  0.000393  0.002163   \n",
       "2019-01-08  0.000029  0.000660  0.000060 -0.000281  0.000687  0.001694   \n",
       "\n",
       "                 XLP      XLRE           XLU       XLV       XLY  \\\n",
       "date                                                               \n",
       "2019-01-02 -0.000291 -0.000060 -3.303973e-06 -0.000128  0.000297   \n",
       "2019-01-03 -0.000814  0.000017  8.305420e-07 -0.000271 -0.000477   \n",
       "2019-01-04  0.003432  0.000028  2.494949e-06  0.000405  0.000795   \n",
       "2019-01-07 -0.000018  0.000024 -1.249300e-06  0.000069  0.000595   \n",
       "2019-01-08  0.001765  0.000050  2.653177e-06  0.000115  0.000249   \n",
       "\n",
       "            Daily Portfolio Return  cumulative portfolio return  \n",
       "date                                                             \n",
       "2019-01-02                0.007447                     1.007447  \n",
       "2019-01-03               -0.022134                     0.985148  \n",
       "2019-01-04                0.031796                     1.016472  \n",
       "2019-01-07                0.004957                     1.021510  \n",
       "2019-01-08                0.005032                     1.026650  "
      ]
     },
     "execution_count": 43,
     "metadata": {},
     "output_type": "execute_result"
    }
   ],
   "source": [
    "df = df.iloc[1:]\n",
    "df.head()"
   ]
  },
  {
   "cell_type": "code",
   "execution_count": 44,
   "metadata": {
    "scrolled": true
   },
   "outputs": [
    {
     "data": {
      "text/plain": [
       "<matplotlib.axes._subplots.AxesSubplot at 0x1e6af487b48>"
      ]
     },
     "execution_count": 44,
     "metadata": {},
     "output_type": "execute_result"
    },
    {
     "data": {
      "image/png": "[encoded data removed]",
      "text/plain": [
       "<Figure size 432x288 with 1 Axes>"
      ]
     },
     "metadata": {
      "needs_background": "light"
     },
     "output_type": "display_data"
    }
   ],
   "source": [
    "df[\"cumulative portfolio return\"].plot()"
   ]
  },
  {
   "cell_type": "code",
   "execution_count": 46,
   "metadata": {},
   "outputs": [
    {
     "data": {
      "text/plain": [
       "<matplotlib.axes._subplots.AxesSubplot at 0x1e6af4cad48>"
      ]
     },
     "execution_count": 46,
     "metadata": {},
     "output_type": "execute_result"
    },
    {
     "data": {
      "image/png": "[encoded data removed]",
      "text/plain": [
       "<Figure size 432x288 with 1 Axes>"
      ]
     },
     "metadata": {
      "needs_background": "light"
     },
     "output_type": "display_data"
    }
   ],
   "source": [
    "df[\"cumulative portfolio return\"].diff().plot()"
   ]
  },
  {
   "cell_type": "code",
   "execution_count": 50,
   "metadata": {},
   "outputs": [
    {
     "data": {
      "image/png": "[encoded data removed]",
      "text/plain": [
       "<Figure size 432x288 with 1 Axes>"
      ]
     },
     "execution_count": 50,
     "metadata": {},
     "output_type": "execute_result"
    },
    {
     "data": {
      "image/png": "[encoded data removed]",
      "text/plain": [
       "<Figure size 432x288 with 1 Axes>"
      ]
     },
     "metadata": {
      "needs_background": "light"
     },
     "output_type": "display_data"
    }
   ],
   "source": [
    "from statsmodels.graphics.tsaplots import plot_acf, plot_pacf\n",
    "# Plot the autocorrelation of the Settle Prices\n",
    "plot_acf(df[\"cumulative portfolio return\"], zero=False, lags=30)"
   ]
  },
  {
   "cell_type": "code",
   "execution_count": 51,
   "metadata": {},
   "outputs": [
    {
     "data": {
      "image/png": "[encoded data removed]",
      "text/plain": [
       "<Figure size 432x288 with 1 Axes>"
      ]
     },
     "execution_count": 51,
     "metadata": {},
     "output_type": "execute_result"
    },
    {
     "data": {
      "image/png": "[encoded data removed]",
      "text/plain": [
       "<Figure size 432x288 with 1 Axes>"
      ]
     },
     "metadata": {
      "needs_background": "light"
     },
     "output_type": "display_data"
    }
   ],
   "source": [
    "# Plot the partial autocorrelation of the returns\n",
    "plot_pacf(df[\"cumulative portfolio return\"], zero=False, lags=30)"
   ]
  },
  {
   "cell_type": "markdown",
   "metadata": {},
   "source": [
    "## ARIMA Model"
   ]
  },
  {
   "cell_type": "code",
   "execution_count": 53,
   "metadata": {},
   "outputs": [],
   "source": [
    "from statsmodels.tsa.arima_model import ARIMA"
   ]
  },
  {
   "cell_type": "code",
   "execution_count": 54,
   "metadata": {},
   "outputs": [],
   "source": [
    "# Create an ARIMA model\n",
    "model = ARIMA(df[\"cumulative portfolio return\"].values, order=(1, 1, 1))"
   ]
  },
  {
   "cell_type": "code",
   "execution_count": 55,
   "metadata": {},
   "outputs": [],
   "source": [
    "# Fit the model to the data\n",
    "results = model.fit()"
   ]
  },
  {
   "cell_type": "code",
   "execution_count": 56,
   "metadata": {},
   "outputs": [
    {
     "data": {
      "text/html": [
       "<table class=\"simpletable\">\n",
       "<caption>ARIMA Model Results</caption>\n",
       "<tr>\n",
       "  <th>Dep. Variable:</th>        <td>D.y</td>       <th>  No. Observations:  </th>    <td>411</td>   \n",
       "</tr>\n",
       "<tr>\n",
       "  <th>Model:</th>          <td>ARIMA(1, 1, 1)</td>  <th>  Log Likelihood     </th> <td>1037.504</td> \n",
       "</tr>\n",
       "<tr>\n",
       "  <th>Method:</th>             <td>css-mle</td>     <th>  S.D. of innovations</th>   <td>0.019</td>  \n",
       "</tr>\n",
       "<tr>\n",
       "  <th>Date:</th>          <td>Wed, 19 Aug 2020</td> <th>  AIC                </th> <td>-2067.008</td>\n",
       "</tr>\n",
       "<tr>\n",
       "  <th>Time:</th>              <td>11:38:46</td>     <th>  BIC                </th> <td>-2050.933</td>\n",
       "</tr>\n",
       "<tr>\n",
       "  <th>Sample:</th>                <td>1</td>        <th>  HQIC               </th> <td>-2060.649</td>\n",
       "</tr>\n",
       "<tr>\n",
       "  <th></th>                       <td> </td>        <th>                     </th>     <td> </td>    \n",
       "</tr>\n",
       "</table>\n",
       "<table class=\"simpletable\">\n",
       "<tr>\n",
       "      <td></td>         <th>coef</th>     <th>std err</th>      <th>z</th>      <th>P>|z|</th>  <th>[0.025</th>    <th>0.975]</th>  \n",
       "</tr>\n",
       "<tr>\n",
       "  <th>const</th>     <td>    0.0008</td> <td>    0.001</td> <td>    1.063</td> <td> 0.288</td> <td>   -0.001</td> <td>    0.002</td>\n",
       "</tr>\n",
       "<tr>\n",
       "  <th>ar.L1.D.y</th> <td>   -0.5008</td> <td>    0.092</td> <td>   -5.452</td> <td> 0.000</td> <td>   -0.681</td> <td>   -0.321</td>\n",
       "</tr>\n",
       "<tr>\n",
       "  <th>ma.L1.D.y</th> <td>    0.2105</td> <td>    0.097</td> <td>    2.170</td> <td> 0.030</td> <td>    0.020</td> <td>    0.401</td>\n",
       "</tr>\n",
       "</table>\n",
       "<table class=\"simpletable\">\n",
       "<caption>Roots</caption>\n",
       "<tr>\n",
       "    <td></td>   <th>            Real</th>  <th>         Imaginary</th> <th>         Modulus</th>  <th>        Frequency</th>\n",
       "</tr>\n",
       "<tr>\n",
       "  <th>AR.1</th> <td>          -1.9966</td> <td>          +0.0000j</td> <td>           1.9966</td> <td>           0.5000</td>\n",
       "</tr>\n",
       "<tr>\n",
       "  <th>MA.1</th> <td>          -4.7496</td> <td>          +0.0000j</td> <td>           4.7496</td> <td>           0.5000</td>\n",
       "</tr>\n",
       "</table>"
      ],
      "text/plain": [
       "<class 'statsmodels.iolib.summary.Summary'>\n",
       "\"\"\"\n",
       "                             ARIMA Model Results                              \n",
       "==============================================================================\n",
       "Dep. Variable:                    D.y   No. Observations:                  411\n",
       "Model:                 ARIMA(1, 1, 1)   Log Likelihood                1037.504\n",
       "Method:                       css-mle   S.D. of innovations              0.019\n",
       "Date:                Wed, 19 Aug 2020   AIC                          -2067.008\n",
       "Time:                        11:38:46   BIC                          -2050.933\n",
       "Sample:                             1   HQIC                         -2060.649\n",
       "                                                                              \n",
       "==============================================================================\n",
       "                 coef    std err          z      P>|z|      [0.025      0.975]\n",
       "------------------------------------------------------------------------------\n",
       "const          0.0008      0.001      1.063      0.288      -0.001       0.002\n",
       "ar.L1.D.y     -0.5008      0.092     -5.452      0.000      -0.681      -0.321\n",
       "ma.L1.D.y      0.2105      0.097      2.170      0.030       0.020       0.401\n",
       "                                    Roots                                    \n",
       "=============================================================================\n",
       "                  Real          Imaginary           Modulus         Frequency\n",
       "-----------------------------------------------------------------------------\n",
       "AR.1           -1.9966           +0.0000j            1.9966            0.5000\n",
       "MA.1           -4.7496           +0.0000j            4.7496            0.5000\n",
       "-----------------------------------------------------------------------------\n",
       "\"\"\""
      ]
     },
     "execution_count": 56,
     "metadata": {},
     "output_type": "execute_result"
    }
   ],
   "source": [
    "# Print the model summary\n",
    "results.summary()"
   ]
  },
  {
   "cell_type": "code",
   "execution_count": 58,
   "metadata": {},
   "outputs": [
    {
     "data": {
      "text/plain": [
       "<matplotlib.axes._subplots.AxesSubplot at 0x1e6b07eb308>"
      ]
     },
     "execution_count": 58,
     "metadata": {},
     "output_type": "execute_result"
    },
    {
     "data": {
      "image/png": "[encoded data removed]",
      "text/plain": [
       "<Figure size 432x288 with 1 Axes>"
      ]
     },
     "metadata": {
      "needs_background": "light"
     },
     "output_type": "display_data"
    }
   ],
   "source": [
    "# Plot the future cum.return Forecast\n",
    "pd.DataFrame(results.forecast(steps=90)[0]).plot(title=\"Forecast\")"
   ]
  },
  {
   "cell_type": "markdown",
   "metadata": {},
   "source": [
    "## ARIMA Model using a Lag of 2"
   ]
  },
  {
   "cell_type": "code",
   "execution_count": 64,
   "metadata": {},
   "outputs": [],
   "source": [
    "# Create an ARIMA Model and fit it to the data\n",
    "model2 = ARIMA(df[\"cumulative portfolio return\"].values, order=(2, 1, 2))\n",
    "results2 = model2.fit()"
   ]
  },
  {
   "cell_type": "code",
   "execution_count": 65,
   "metadata": {},
   "outputs": [
    {
     "data": {
      "text/html": [
       "<table class=\"simpletable\">\n",
       "<caption>ARIMA Model Results</caption>\n",
       "<tr>\n",
       "  <th>Dep. Variable:</th>        <td>D.y</td>       <th>  No. Observations:  </th>    <td>411</td>   \n",
       "</tr>\n",
       "<tr>\n",
       "  <th>Model:</th>          <td>ARIMA(2, 1, 2)</td>  <th>  Log Likelihood     </th> <td>1043.260</td> \n",
       "</tr>\n",
       "<tr>\n",
       "  <th>Method:</th>             <td>css-mle</td>     <th>  S.D. of innovations</th>   <td>0.019</td>  \n",
       "</tr>\n",
       "<tr>\n",
       "  <th>Date:</th>          <td>Wed, 19 Aug 2020</td> <th>  AIC                </th> <td>-2074.520</td>\n",
       "</tr>\n",
       "<tr>\n",
       "  <th>Time:</th>              <td>13:01:30</td>     <th>  BIC                </th> <td>-2050.409</td>\n",
       "</tr>\n",
       "<tr>\n",
       "  <th>Sample:</th>                <td>1</td>        <th>  HQIC               </th> <td>-2064.982</td>\n",
       "</tr>\n",
       "<tr>\n",
       "  <th></th>                       <td> </td>        <th>                     </th>     <td> </td>    \n",
       "</tr>\n",
       "</table>\n",
       "<table class=\"simpletable\">\n",
       "<tr>\n",
       "      <td></td>         <th>coef</th>     <th>std err</th>      <th>z</th>      <th>P>|z|</th>  <th>[0.025</th>    <th>0.975]</th>  \n",
       "</tr>\n",
       "<tr>\n",
       "  <th>const</th>     <td>    0.0008</td> <td>    0.001</td> <td>    0.915</td> <td> 0.360</td> <td>   -0.001</td> <td>    0.003</td>\n",
       "</tr>\n",
       "<tr>\n",
       "  <th>ar.L1.D.y</th> <td>   -0.2081</td> <td>    0.223</td> <td>   -0.935</td> <td> 0.350</td> <td>   -0.644</td> <td>    0.228</td>\n",
       "</tr>\n",
       "<tr>\n",
       "  <th>ar.L2.D.y</th> <td>   -0.1448</td> <td>    0.142</td> <td>   -1.020</td> <td> 0.308</td> <td>   -0.423</td> <td>    0.133</td>\n",
       "</tr>\n",
       "<tr>\n",
       "  <th>ma.L1.D.y</th> <td>   -0.0605</td> <td>    0.211</td> <td>   -0.286</td> <td> 0.775</td> <td>   -0.475</td> <td>    0.354</td>\n",
       "</tr>\n",
       "<tr>\n",
       "  <th>ma.L2.D.y</th> <td>    0.3549</td> <td>    0.124</td> <td>    2.865</td> <td> 0.004</td> <td>    0.112</td> <td>    0.598</td>\n",
       "</tr>\n",
       "</table>\n",
       "<table class=\"simpletable\">\n",
       "<caption>Roots</caption>\n",
       "<tr>\n",
       "    <td></td>   <th>            Real</th>  <th>         Imaginary</th> <th>         Modulus</th>  <th>        Frequency</th>\n",
       "</tr>\n",
       "<tr>\n",
       "  <th>AR.1</th> <td>          -0.7186</td> <td>          -2.5277j</td> <td>           2.6278</td> <td>          -0.2941</td>\n",
       "</tr>\n",
       "<tr>\n",
       "  <th>AR.2</th> <td>          -0.7186</td> <td>          +2.5277j</td> <td>           2.6278</td> <td>           0.2941</td>\n",
       "</tr>\n",
       "<tr>\n",
       "  <th>MA.1</th> <td>           0.0852</td> <td>          -1.6763j</td> <td>           1.6785</td> <td>          -0.2419</td>\n",
       "</tr>\n",
       "<tr>\n",
       "  <th>MA.2</th> <td>           0.0852</td> <td>          +1.6763j</td> <td>           1.6785</td> <td>           0.2419</td>\n",
       "</tr>\n",
       "</table>"
      ],
      "text/plain": [
       "<class 'statsmodels.iolib.summary.Summary'>\n",
       "\"\"\"\n",
       "                             ARIMA Model Results                              \n",
       "==============================================================================\n",
       "Dep. Variable:                    D.y   No. Observations:                  411\n",
       "Model:                 ARIMA(2, 1, 2)   Log Likelihood                1043.260\n",
       "Method:                       css-mle   S.D. of innovations              0.019\n",
       "Date:                Wed, 19 Aug 2020   AIC                          -2074.520\n",
       "Time:                        13:01:30   BIC                          -2050.409\n",
       "Sample:                             1   HQIC                         -2064.982\n",
       "                                                                              \n",
       "==============================================================================\n",
       "                 coef    std err          z      P>|z|      [0.025      0.975]\n",
       "------------------------------------------------------------------------------\n",
       "const          0.0008      0.001      0.915      0.360      -0.001       0.003\n",
       "ar.L1.D.y     -0.2081      0.223     -0.935      0.350      -0.644       0.228\n",
       "ar.L2.D.y     -0.1448      0.142     -1.020      0.308      -0.423       0.133\n",
       "ma.L1.D.y     -0.0605      0.211     -0.286      0.775      -0.475       0.354\n",
       "ma.L2.D.y      0.3549      0.124      2.865      0.004       0.112       0.598\n",
       "                                    Roots                                    \n",
       "=============================================================================\n",
       "                  Real          Imaginary           Modulus         Frequency\n",
       "-----------------------------------------------------------------------------\n",
       "AR.1           -0.7186           -2.5277j            2.6278           -0.2941\n",
       "AR.2           -0.7186           +2.5277j            2.6278            0.2941\n",
       "MA.1            0.0852           -1.6763j            1.6785           -0.2419\n",
       "MA.2            0.0852           +1.6763j            1.6785            0.2419\n",
       "-----------------------------------------------------------------------------\n",
       "\"\"\""
      ]
     },
     "execution_count": 65,
     "metadata": {},
     "output_type": "execute_result"
    }
   ],
   "source": [
    "# print the model summary\n",
    "results2.summary()"
   ]
  },
  {
   "cell_type": "code",
   "execution_count": 66,
   "metadata": {},
   "outputs": [
    {
     "data": {
      "text/plain": [
       "<matplotlib.axes._subplots.AxesSubplot at 0x1e6b2ad69c8>"
      ]
     },
     "execution_count": 66,
     "metadata": {},
     "output_type": "execute_result"
    },
    {
     "data": {
      "image/png": "[encoded data removed]",
      "text/plain": [
       "<Figure size 432x288 with 1 Axes>"
      ]
     },
     "metadata": {
      "needs_background": "light"
     },
     "output_type": "display_data"
    }
   ],
   "source": [
    "# Plot the future cum.return Forecast\n",
    "pd.DataFrame(results2.forecast(steps=90)[0]).plot(title=\"Forecast\")"
   ]
  },
  {
   "cell_type": "code",
   "execution_count": null,
   "metadata": {},
   "outputs": [],
   "source": []
  },
  {
   "cell_type": "code",
   "execution_count": null,
   "metadata": {},
   "outputs": [],
   "source": []
  },
  {
   "cell_type": "code",
   "execution_count": null,
   "metadata": {},
   "outputs": [],
   "source": []
  },
  {
   "cell_type": "code",
   "execution_count": null,
   "metadata": {},
   "outputs": [],
   "source": []
  }
 ],
 "metadata": {
  "kernelspec": {
   "display_name": "Python 3",
   "language": "python",
   "name": "python3"
  },
  "language_info": {
   "codemirror_mode": {
    "name": "ipython",
    "version": 3
   },
   "file_extension": ".py",
   "mimetype": "text/x-python",
   "name": "python",
   "nbconvert_exporter": "python",
   "pygments_lexer": "ipython3",
   "version": "3.7.7"
  }
 },
 "nbformat": 4,
 "nbformat_minor": 4
}
