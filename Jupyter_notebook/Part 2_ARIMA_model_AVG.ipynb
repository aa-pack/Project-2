{
 "cells": [
  {
   "cell_type": "code",
   "execution_count": 1,
   "metadata": {},
   "outputs": [],
   "source": [
    "import pandas as pd\n",
    "import numpy as np\n",
    "import matplotlib.pyplot as plt\n",
    "%matplotlib inline"
   ]
  },
  {
   "cell_type": "code",
   "execution_count": 2,
   "metadata": {},
   "outputs": [
    {
     "data": {
      "text/html": [
       "<div>\n",
       "<style scoped>\n",
       "    .dataframe tbody tr th:only-of-type {\n",
       "        vertical-align: middle;\n",
       "    }\n",
       "\n",
       "    .dataframe tbody tr th {\n",
       "        vertical-align: top;\n",
       "    }\n",
       "\n",
       "    .dataframe thead th {\n",
       "        text-align: right;\n",
       "    }\n",
       "</style>\n",
       "<table border=\"1\" class=\"dataframe\">\n",
       "  <thead>\n",
       "    <tr style=\"text-align: right;\">\n",
       "      <th></th>\n",
       "      <th>Market Return</th>\n",
       "      <th>Portfolio Return</th>\n",
       "    </tr>\n",
       "    <tr>\n",
       "      <th>Date</th>\n",
       "      <th></th>\n",
       "      <th></th>\n",
       "    </tr>\n",
       "  </thead>\n",
       "  <tbody>\n",
       "    <tr>\n",
       "      <th>2018-07-02</th>\n",
       "      <td>1.002766</td>\n",
       "      <td>1.003605</td>\n",
       "    </tr>\n",
       "    <tr>\n",
       "      <th>2018-07-03</th>\n",
       "      <td>0.998673</td>\n",
       "      <td>0.997506</td>\n",
       "    </tr>\n",
       "    <tr>\n",
       "      <th>2018-07-05</th>\n",
       "      <td>1.007006</td>\n",
       "      <td>1.005681</td>\n",
       "    </tr>\n",
       "    <tr>\n",
       "      <th>2018-07-06</th>\n",
       "      <td>1.015414</td>\n",
       "      <td>1.013786</td>\n",
       "    </tr>\n",
       "    <tr>\n",
       "      <th>2018-07-09</th>\n",
       "      <td>1.024706</td>\n",
       "      <td>1.025926</td>\n",
       "    </tr>\n",
       "  </tbody>\n",
       "</table>\n",
       "</div>"
      ],
      "text/plain": [
       "            Market Return  Portfolio Return\n",
       "Date                                       \n",
       "2018-07-02       1.002766          1.003605\n",
       "2018-07-03       0.998673          0.997506\n",
       "2018-07-05       1.007006          1.005681\n",
       "2018-07-06       1.015414          1.013786\n",
       "2018-07-09       1.024706          1.025926"
      ]
     },
     "execution_count": 2,
     "metadata": {},
     "output_type": "execute_result"
    }
   ],
   "source": [
    "from pathlib import Path\n",
    "csvpath = Path('./Resources/AVG_final.csv')\n",
    "df = pd.read_csv(csvpath, index_col='Date', parse_dates=True, infer_datetime_format=True)\n",
    "df.head()"
   ]
  },
  {
   "cell_type": "code",
   "execution_count": 3,
   "metadata": {
    "scrolled": true
   },
   "outputs": [
    {
     "data": {
      "text/plain": [
       "<matplotlib.axes._subplots.AxesSubplot at 0x27a84d16208>"
      ]
     },
     "execution_count": 3,
     "metadata": {},
     "output_type": "execute_result"
    },
    {
     "data": {
      "image/png": "[encoded data removed]",
      "text/plain": [
       "<Figure size 432x288 with 1 Axes>"
      ]
     },
     "metadata": {
      "needs_background": "light"
     },
     "output_type": "display_data"
    }
   ],
   "source": [
    "df.plot()"
   ]
  },
  {
   "cell_type": "code",
   "execution_count": 4,
   "metadata": {},
   "outputs": [
    {
     "data": {
      "text/html": [
       "<div>\n",
       "<style scoped>\n",
       "    .dataframe tbody tr th:only-of-type {\n",
       "        vertical-align: middle;\n",
       "    }\n",
       "\n",
       "    .dataframe tbody tr th {\n",
       "        vertical-align: top;\n",
       "    }\n",
       "\n",
       "    .dataframe thead th {\n",
       "        text-align: right;\n",
       "    }\n",
       "</style>\n",
       "<table border=\"1\" class=\"dataframe\">\n",
       "  <thead>\n",
       "    <tr style=\"text-align: right;\">\n",
       "      <th></th>\n",
       "      <th>Portfolio Return</th>\n",
       "    </tr>\n",
       "    <tr>\n",
       "      <th>Date</th>\n",
       "      <th></th>\n",
       "    </tr>\n",
       "  </thead>\n",
       "  <tbody>\n",
       "    <tr>\n",
       "      <th>2018-07-02</th>\n",
       "      <td>1.003605</td>\n",
       "    </tr>\n",
       "    <tr>\n",
       "      <th>2018-07-03</th>\n",
       "      <td>0.997506</td>\n",
       "    </tr>\n",
       "  </tbody>\n",
       "</table>\n",
       "</div>"
      ],
      "text/plain": [
       "            Portfolio Return\n",
       "Date                        \n",
       "2018-07-02          1.003605\n",
       "2018-07-03          0.997506"
      ]
     },
     "execution_count": 4,
     "metadata": {},
     "output_type": "execute_result"
    }
   ],
   "source": [
    "portfolio = df[\"Portfolio Return\"].to_frame().dropna()\n",
    "portfolio.head(2)"
   ]
  },
  {
   "cell_type": "markdown",
   "metadata": {},
   "source": [
    "### Augmented Dickey-Fuller Test"
   ]
  },
  {
   "cell_type": "code",
   "execution_count": 5,
   "metadata": {
    "scrolled": false
   },
   "outputs": [
    {
     "data": {
      "text/plain": [
       "(-1.8090621132150262,\n",
       " 0.37597197803315296,\n",
       " 9,\n",
       " 528,\n",
       " {'1%': -3.4427957890025533,\n",
       "  '5%': -2.867029512430173,\n",
       "  '10%': -2.5696937122646926},\n",
       " -2831.2285289527854)"
      ]
     },
     "execution_count": 5,
     "metadata": {},
     "output_type": "execute_result"
    }
   ],
   "source": [
    "from statsmodels.tsa.stattools import adfuller\n",
    "adfuller(portfolio)"
   ]
  },
  {
   "cell_type": "markdown",
   "metadata": {},
   "source": [
    "P-value is more than 0.05 indicating the data is non-statinary"
   ]
  },
  {
   "cell_type": "code",
   "execution_count": 6,
   "metadata": {},
   "outputs": [
    {
     "data": {
      "image/png": "[encoded data removed]",
      "text/plain": [
       "<Figure size 432x288 with 1 Axes>"
      ]
     },
     "execution_count": 6,
     "metadata": {},
     "output_type": "execute_result"
    },
    {
     "data": {
      "image/png": "[encoded data removed]",
      "text/plain": [
       "<Figure size 432x288 with 1 Axes>"
      ]
     },
     "metadata": {
      "needs_background": "light"
     },
     "output_type": "display_data"
    }
   ],
   "source": [
    "from statsmodels.graphics.tsaplots import plot_acf, plot_pacf\n",
    "# Plot the autocorrelation of the Settle Prices\n",
    "plot_acf(portfolio, zero=False, lags=30)"
   ]
  },
  {
   "cell_type": "code",
   "execution_count": 7,
   "metadata": {},
   "outputs": [
    {
     "data": {
      "image/png": "[encoded data removed]",
      "text/plain": [
       "<Figure size 432x288 with 1 Axes>"
      ]
     },
     "execution_count": 7,
     "metadata": {},
     "output_type": "execute_result"
    },
    {
     "data": {
      "image/png": "[encoded data removed]",
      "text/plain": [
       "<Figure size 432x288 with 1 Axes>"
      ]
     },
     "metadata": {
      "needs_background": "light"
     },
     "output_type": "display_data"
    }
   ],
   "source": [
    "# Plot the partial autocorrelation of the returns\n",
    "plot_pacf(portfolio, zero=False, lags=30)"
   ]
  },
  {
   "cell_type": "code",
   "execution_count": 8,
   "metadata": {},
   "outputs": [
    {
     "name": "stdout",
     "output_type": "stream",
     "text": [
      "Performing stepwise search to minimize aic\n",
      " ARIMA(1,1,1)(0,0,0)[0] intercept   : AIC=-2892.386, Time=0.43 sec\n",
      " ARIMA(0,1,0)(0,0,0)[0] intercept   : AIC=-2855.565, Time=0.09 sec\n",
      " ARIMA(1,1,0)(0,0,0)[0] intercept   : AIC=-2889.249, Time=0.20 sec\n",
      " ARIMA(0,1,1)(0,0,0)[0] intercept   : AIC=-2880.063, Time=0.29 sec\n",
      " ARIMA(0,1,0)(0,0,0)[0]             : AIC=-2857.001, Time=0.04 sec\n",
      " ARIMA(2,1,1)(0,0,0)[0] intercept   : AIC=-2894.577, Time=0.67 sec\n",
      " ARIMA(2,1,0)(0,0,0)[0] intercept   : AIC=-2897.600, Time=0.14 sec\n",
      " ARIMA(3,1,0)(0,0,0)[0] intercept   : AIC=-2899.829, Time=0.35 sec\n",
      " ARIMA(4,1,0)(0,0,0)[0] intercept   : AIC=-2903.832, Time=0.27 sec\n",
      " ARIMA(5,1,0)(0,0,0)[0] intercept   : AIC=-2903.985, Time=0.34 sec\n",
      " ARIMA(6,1,0)(0,0,0)[0] intercept   : AIC=-2910.135, Time=0.49 sec\n",
      " ARIMA(7,1,0)(0,0,0)[0] intercept   : AIC=-2932.401, Time=0.84 sec\n",
      " ARIMA(7,1,1)(0,0,0)[0] intercept   : AIC=-2942.017, Time=1.63 sec\n",
      " ARIMA(6,1,1)(0,0,0)[0] intercept   : AIC=-2937.546, Time=1.55 sec\n",
      " ARIMA(7,1,2)(0,0,0)[0] intercept   : AIC=-2942.288, Time=1.63 sec\n",
      " ARIMA(6,1,2)(0,0,0)[0] intercept   : AIC=-2927.932, Time=1.65 sec\n",
      " ARIMA(7,1,3)(0,0,0)[0] intercept   : AIC=-2928.427, Time=2.03 sec\n",
      " ARIMA(6,1,3)(0,0,0)[0] intercept   : AIC=-2922.232, Time=1.75 sec\n",
      " ARIMA(7,1,2)(0,0,0)[0]             : AIC=-2943.959, Time=0.91 sec\n",
      " ARIMA(6,1,2)(0,0,0)[0]             : AIC=-2929.971, Time=0.85 sec\n",
      " ARIMA(7,1,1)(0,0,0)[0]             : AIC=-2944.490, Time=0.98 sec\n",
      " ARIMA(6,1,1)(0,0,0)[0]             : AIC=-2938.775, Time=0.80 sec\n",
      " ARIMA(7,1,0)(0,0,0)[0]             : AIC=-2933.829, Time=0.24 sec\n",
      " ARIMA(6,1,0)(0,0,0)[0]             : AIC=-2911.320, Time=0.35 sec\n",
      "\n",
      "Best model:  ARIMA(7,1,1)(0,0,0)[0]          \n",
      "Total fit time: 18.539 seconds\n"
     ]
    }
   ],
   "source": [
    "from pmdarima.arima import auto_arima\n",
    "step_wise=auto_arima(portfolio,\n",
    " start_p=1, start_q=1, \n",
    " max_p=7, max_q=7, \n",
    " d=1, max_d=7,\n",
    " trace=True, \n",
    " error_action='ignore', \n",
    " suppress_warnings=True, \n",
    " stepwise=True)"
   ]
  },
  {
   "cell_type": "code",
   "execution_count": 9,
   "metadata": {},
   "outputs": [
    {
     "data": {
      "text/html": [
       "<table class=\"simpletable\">\n",
       "<caption>SARIMAX Results</caption>\n",
       "<tr>\n",
       "  <th>Dep. Variable:</th>           <td>y</td>        <th>  No. Observations:  </th>    <td>538</td>   \n",
       "</tr>\n",
       "<tr>\n",
       "  <th>Model:</th>           <td>SARIMAX(7, 1, 1)</td> <th>  Log Likelihood     </th> <td>1481.245</td> \n",
       "</tr>\n",
       "<tr>\n",
       "  <th>Date:</th>            <td>Wed, 26 Aug 2020</td> <th>  AIC                </th> <td>-2944.490</td>\n",
       "</tr>\n",
       "<tr>\n",
       "  <th>Time:</th>                <td>12:37:46</td>     <th>  BIC                </th> <td>-2905.916</td>\n",
       "</tr>\n",
       "<tr>\n",
       "  <th>Sample:</th>                  <td>0</td>        <th>  HQIC               </th> <td>-2929.400</td>\n",
       "</tr>\n",
       "<tr>\n",
       "  <th></th>                      <td> - 538</td>      <th>                     </th>     <td> </td>    \n",
       "</tr>\n",
       "<tr>\n",
       "  <th>Covariance Type:</th>        <td>opg</td>       <th>                     </th>     <td> </td>    \n",
       "</tr>\n",
       "</table>\n",
       "<table class=\"simpletable\">\n",
       "<tr>\n",
       "     <td></td>       <th>coef</th>     <th>std err</th>      <th>z</th>      <th>P>|z|</th>  <th>[0.025</th>    <th>0.975]</th>  \n",
       "</tr>\n",
       "<tr>\n",
       "  <th>ar.L1</th>  <td>   -0.7129</td> <td>    0.089</td> <td>   -7.979</td> <td> 0.000</td> <td>   -0.888</td> <td>   -0.538</td>\n",
       "</tr>\n",
       "<tr>\n",
       "  <th>ar.L2</th>  <td>    0.0405</td> <td>    0.033</td> <td>    1.234</td> <td> 0.217</td> <td>   -0.024</td> <td>    0.105</td>\n",
       "</tr>\n",
       "<tr>\n",
       "  <th>ar.L3</th>  <td>    0.1628</td> <td>    0.033</td> <td>    4.943</td> <td> 0.000</td> <td>    0.098</td> <td>    0.227</td>\n",
       "</tr>\n",
       "<tr>\n",
       "  <th>ar.L4</th>  <td>   -0.0469</td> <td>    0.033</td> <td>   -1.421</td> <td> 0.155</td> <td>   -0.112</td> <td>    0.018</td>\n",
       "</tr>\n",
       "<tr>\n",
       "  <th>ar.L5</th>  <td>   -0.0340</td> <td>    0.039</td> <td>   -0.873</td> <td> 0.383</td> <td>   -0.110</td> <td>    0.042</td>\n",
       "</tr>\n",
       "<tr>\n",
       "  <th>ar.L6</th>  <td>   -0.0599</td> <td>    0.037</td> <td>   -1.633</td> <td> 0.103</td> <td>   -0.132</td> <td>    0.012</td>\n",
       "</tr>\n",
       "<tr>\n",
       "  <th>ar.L7</th>  <td>    0.1512</td> <td>    0.038</td> <td>    3.999</td> <td> 0.000</td> <td>    0.077</td> <td>    0.225</td>\n",
       "</tr>\n",
       "<tr>\n",
       "  <th>ma.L1</th>  <td>    0.5696</td> <td>    0.090</td> <td>    6.305</td> <td> 0.000</td> <td>    0.393</td> <td>    0.747</td>\n",
       "</tr>\n",
       "<tr>\n",
       "  <th>sigma2</th> <td>    0.0002</td> <td>  7.3e-06</td> <td>   32.164</td> <td> 0.000</td> <td>    0.000</td> <td>    0.000</td>\n",
       "</tr>\n",
       "</table>\n",
       "<table class=\"simpletable\">\n",
       "<tr>\n",
       "  <th>Ljung-Box (Q):</th>          <td>36.61</td> <th>  Jarque-Bera (JB):  </th> <td>1251.63</td>\n",
       "</tr>\n",
       "<tr>\n",
       "  <th>Prob(Q):</th>                <td>0.62</td>  <th>  Prob(JB):          </th>  <td>0.00</td>  \n",
       "</tr>\n",
       "<tr>\n",
       "  <th>Heteroskedasticity (H):</th> <td>4.31</td>  <th>  Skew:              </th>  <td>-0.95</td> \n",
       "</tr>\n",
       "<tr>\n",
       "  <th>Prob(H) (two-sided):</th>    <td>0.00</td>  <th>  Kurtosis:          </th>  <td>10.23</td> \n",
       "</tr>\n",
       "</table><br/><br/>Warnings:<br/>[1] Covariance matrix calculated using the outer product of gradients (complex-step)."
      ],
      "text/plain": [
       "<class 'statsmodels.iolib.summary.Summary'>\n",
       "\"\"\"\n",
       "                               SARIMAX Results                                \n",
       "==============================================================================\n",
       "Dep. Variable:                      y   No. Observations:                  538\n",
       "Model:               SARIMAX(7, 1, 1)   Log Likelihood                1481.245\n",
       "Date:                Wed, 26 Aug 2020   AIC                          -2944.490\n",
       "Time:                        12:37:46   BIC                          -2905.916\n",
       "Sample:                             0   HQIC                         -2929.400\n",
       "                                - 538                                         \n",
       "Covariance Type:                  opg                                         \n",
       "==============================================================================\n",
       "                 coef    std err          z      P>|z|      [0.025      0.975]\n",
       "------------------------------------------------------------------------------\n",
       "ar.L1         -0.7129      0.089     -7.979      0.000      -0.888      -0.538\n",
       "ar.L2          0.0405      0.033      1.234      0.217      -0.024       0.105\n",
       "ar.L3          0.1628      0.033      4.943      0.000       0.098       0.227\n",
       "ar.L4         -0.0469      0.033     -1.421      0.155      -0.112       0.018\n",
       "ar.L5         -0.0340      0.039     -0.873      0.383      -0.110       0.042\n",
       "ar.L6         -0.0599      0.037     -1.633      0.103      -0.132       0.012\n",
       "ar.L7          0.1512      0.038      3.999      0.000       0.077       0.225\n",
       "ma.L1          0.5696      0.090      6.305      0.000       0.393       0.747\n",
       "sigma2         0.0002    7.3e-06     32.164      0.000       0.000       0.000\n",
       "===================================================================================\n",
       "Ljung-Box (Q):                       36.61   Jarque-Bera (JB):              1251.63\n",
       "Prob(Q):                              0.62   Prob(JB):                         0.00\n",
       "Heteroskedasticity (H):               4.31   Skew:                            -0.95\n",
       "Prob(H) (two-sided):                  0.00   Kurtosis:                        10.23\n",
       "===================================================================================\n",
       "\n",
       "Warnings:\n",
       "[1] Covariance matrix calculated using the outer product of gradients (complex-step).\n",
       "\"\"\""
      ]
     },
     "execution_count": 9,
     "metadata": {},
     "output_type": "execute_result"
    }
   ],
   "source": [
    "step_wise.summary()"
   ]
  },
  {
   "cell_type": "markdown",
   "metadata": {},
   "source": [
    "## ARIMA Model"
   ]
  },
  {
   "cell_type": "code",
   "execution_count": 10,
   "metadata": {},
   "outputs": [],
   "source": [
    "from statsmodels.tsa.arima_model import ARIMA"
   ]
  },
  {
   "cell_type": "code",
   "execution_count": 11,
   "metadata": {},
   "outputs": [
    {
     "name": "stderr",
     "output_type": "stream",
     "text": [
      "C:\\Users\\Sungwon Kim\\anaconda3\\envs\\dev\\lib\\site-packages\\statsmodels\\tsa\\base\\tsa_model.py:218: ValueWarning: A date index has been provided, but it has no associated frequency information and so will be ignored when e.g. forecasting.\n",
      "  ' ignored when e.g. forecasting.', ValueWarning)\n",
      "C:\\Users\\Sungwon Kim\\anaconda3\\envs\\dev\\lib\\site-packages\\statsmodels\\tsa\\base\\tsa_model.py:218: ValueWarning: A date index has been provided, but it has no associated frequency information and so will be ignored when e.g. forecasting.\n",
      "  ' ignored when e.g. forecasting.', ValueWarning)\n"
     ]
    }
   ],
   "source": [
    "# Create an ARIMA model\n",
    "model = ARIMA(portfolio, order=(7, 1, 1))"
   ]
  },
  {
   "cell_type": "code",
   "execution_count": 12,
   "metadata": {},
   "outputs": [],
   "source": [
    "# Fit the model to the data\n",
    "results = model.fit()"
   ]
  },
  {
   "cell_type": "code",
   "execution_count": 13,
   "metadata": {},
   "outputs": [
    {
     "data": {
      "text/html": [
       "<table class=\"simpletable\">\n",
       "<caption>ARIMA Model Results</caption>\n",
       "<tr>\n",
       "  <th>Dep. Variable:</th> <td>D.Portfolio Return</td> <th>  No. Observations:  </th>    <td>537</td>   \n",
       "</tr>\n",
       "<tr>\n",
       "  <th>Model:</th>           <td>ARIMA(7, 1, 1)</td>   <th>  Log Likelihood     </th> <td>1481.580</td> \n",
       "</tr>\n",
       "<tr>\n",
       "  <th>Method:</th>              <td>css-mle</td>      <th>  S.D. of innovations</th>   <td>0.015</td>  \n",
       "</tr>\n",
       "<tr>\n",
       "  <th>Date:</th>           <td>Wed, 26 Aug 2020</td>  <th>  AIC                </th> <td>-2943.159</td>\n",
       "</tr>\n",
       "<tr>\n",
       "  <th>Time:</th>               <td>12:37:49</td>      <th>  BIC                </th> <td>-2900.299</td>\n",
       "</tr>\n",
       "<tr>\n",
       "  <th>Sample:</th>                 <td>1</td>         <th>  HQIC               </th> <td>-2926.393</td>\n",
       "</tr>\n",
       "<tr>\n",
       "  <th></th>                        <td> </td>         <th>                     </th>     <td> </td>    \n",
       "</tr>\n",
       "</table>\n",
       "<table class=\"simpletable\">\n",
       "<tr>\n",
       "              <td></td>                <th>coef</th>     <th>std err</th>      <th>z</th>      <th>P>|z|</th>  <th>[0.025</th>    <th>0.975]</th>  \n",
       "</tr>\n",
       "<tr>\n",
       "  <th>const</th>                    <td>    0.0006</td> <td>    0.001</td> <td>    0.802</td> <td> 0.422</td> <td>   -0.001</td> <td>    0.002</td>\n",
       "</tr>\n",
       "<tr>\n",
       "  <th>ar.L1.D.Portfolio Return</th> <td>   -0.7226</td> <td>    0.104</td> <td>   -6.918</td> <td> 0.000</td> <td>   -0.927</td> <td>   -0.518</td>\n",
       "</tr>\n",
       "<tr>\n",
       "  <th>ar.L2.D.Portfolio Return</th> <td>    0.0387</td> <td>    0.056</td> <td>    0.692</td> <td> 0.489</td> <td>   -0.071</td> <td>    0.148</td>\n",
       "</tr>\n",
       "<tr>\n",
       "  <th>ar.L3.D.Portfolio Return</th> <td>    0.1609</td> <td>    0.054</td> <td>    2.956</td> <td> 0.003</td> <td>    0.054</td> <td>    0.268</td>\n",
       "</tr>\n",
       "<tr>\n",
       "  <th>ar.L4.D.Portfolio Return</th> <td>   -0.0509</td> <td>    0.054</td> <td>   -0.951</td> <td> 0.342</td> <td>   -0.156</td> <td>    0.054</td>\n",
       "</tr>\n",
       "<tr>\n",
       "  <th>ar.L5.D.Portfolio Return</th> <td>   -0.0357</td> <td>    0.053</td> <td>   -0.675</td> <td> 0.500</td> <td>   -0.139</td> <td>    0.068</td>\n",
       "</tr>\n",
       "<tr>\n",
       "  <th>ar.L6.D.Portfolio Return</th> <td>   -0.0584</td> <td>    0.053</td> <td>   -1.108</td> <td> 0.268</td> <td>   -0.162</td> <td>    0.045</td>\n",
       "</tr>\n",
       "<tr>\n",
       "  <th>ar.L7.D.Portfolio Return</th> <td>    0.1464</td> <td>    0.051</td> <td>    2.866</td> <td> 0.004</td> <td>    0.046</td> <td>    0.246</td>\n",
       "</tr>\n",
       "<tr>\n",
       "  <th>ma.L1.D.Portfolio Return</th> <td>    0.5814</td> <td>    0.100</td> <td>    5.813</td> <td> 0.000</td> <td>    0.385</td> <td>    0.777</td>\n",
       "</tr>\n",
       "</table>\n",
       "<table class=\"simpletable\">\n",
       "<caption>Roots</caption>\n",
       "<tr>\n",
       "    <td></td>   <th>            Real</th>  <th>         Imaginary</th> <th>         Modulus</th>  <th>        Frequency</th>\n",
       "</tr>\n",
       "<tr>\n",
       "  <th>AR.1</th> <td>          -0.9989</td> <td>          -0.4365j</td> <td>           1.0901</td> <td>          -0.4344</td>\n",
       "</tr>\n",
       "<tr>\n",
       "  <th>AR.2</th> <td>          -0.9989</td> <td>          +0.4365j</td> <td>           1.0901</td> <td>           0.4344</td>\n",
       "</tr>\n",
       "<tr>\n",
       "  <th>AR.3</th> <td>          -0.5022</td> <td>          -1.2257j</td> <td>           1.3245</td> <td>          -0.3119</td>\n",
       "</tr>\n",
       "<tr>\n",
       "  <th>AR.4</th> <td>          -0.5022</td> <td>          +1.2257j</td> <td>           1.3245</td> <td>           0.3119</td>\n",
       "</tr>\n",
       "<tr>\n",
       "  <th>AR.5</th> <td>           0.9416</td> <td>          -1.1281j</td> <td>           1.4694</td> <td>          -0.1393</td>\n",
       "</tr>\n",
       "<tr>\n",
       "  <th>AR.6</th> <td>           0.9416</td> <td>          +1.1281j</td> <td>           1.4694</td> <td>           0.1393</td>\n",
       "</tr>\n",
       "<tr>\n",
       "  <th>AR.7</th> <td>           1.5178</td> <td>          -0.0000j</td> <td>           1.5178</td> <td>          -0.0000</td>\n",
       "</tr>\n",
       "<tr>\n",
       "  <th>MA.1</th> <td>          -1.7199</td> <td>          +0.0000j</td> <td>           1.7199</td> <td>           0.5000</td>\n",
       "</tr>\n",
       "</table>"
      ],
      "text/plain": [
       "<class 'statsmodels.iolib.summary.Summary'>\n",
       "\"\"\"\n",
       "                             ARIMA Model Results                              \n",
       "==============================================================================\n",
       "Dep. Variable:     D.Portfolio Return   No. Observations:                  537\n",
       "Model:                 ARIMA(7, 1, 1)   Log Likelihood                1481.580\n",
       "Method:                       css-mle   S.D. of innovations              0.015\n",
       "Date:                Wed, 26 Aug 2020   AIC                          -2943.159\n",
       "Time:                        12:37:49   BIC                          -2900.299\n",
       "Sample:                             1   HQIC                         -2926.393\n",
       "                                                                              \n",
       "============================================================================================\n",
       "                               coef    std err          z      P>|z|      [0.025      0.975]\n",
       "--------------------------------------------------------------------------------------------\n",
       "const                        0.0006      0.001      0.802      0.422      -0.001       0.002\n",
       "ar.L1.D.Portfolio Return    -0.7226      0.104     -6.918      0.000      -0.927      -0.518\n",
       "ar.L2.D.Portfolio Return     0.0387      0.056      0.692      0.489      -0.071       0.148\n",
       "ar.L3.D.Portfolio Return     0.1609      0.054      2.956      0.003       0.054       0.268\n",
       "ar.L4.D.Portfolio Return    -0.0509      0.054     -0.951      0.342      -0.156       0.054\n",
       "ar.L5.D.Portfolio Return    -0.0357      0.053     -0.675      0.500      -0.139       0.068\n",
       "ar.L6.D.Portfolio Return    -0.0584      0.053     -1.108      0.268      -0.162       0.045\n",
       "ar.L7.D.Portfolio Return     0.1464      0.051      2.866      0.004       0.046       0.246\n",
       "ma.L1.D.Portfolio Return     0.5814      0.100      5.813      0.000       0.385       0.777\n",
       "                                    Roots                                    \n",
       "=============================================================================\n",
       "                  Real          Imaginary           Modulus         Frequency\n",
       "-----------------------------------------------------------------------------\n",
       "AR.1           -0.9989           -0.4365j            1.0901           -0.4344\n",
       "AR.2           -0.9989           +0.4365j            1.0901            0.4344\n",
       "AR.3           -0.5022           -1.2257j            1.3245           -0.3119\n",
       "AR.4           -0.5022           +1.2257j            1.3245            0.3119\n",
       "AR.5            0.9416           -1.1281j            1.4694           -0.1393\n",
       "AR.6            0.9416           +1.1281j            1.4694            0.1393\n",
       "AR.7            1.5178           -0.0000j            1.5178           -0.0000\n",
       "MA.1           -1.7199           +0.0000j            1.7199            0.5000\n",
       "-----------------------------------------------------------------------------\n",
       "\"\"\""
      ]
     },
     "execution_count": 13,
     "metadata": {},
     "output_type": "execute_result"
    }
   ],
   "source": [
    "# Print the model summary\n",
    "results.summary()"
   ]
  },
  {
   "cell_type": "code",
   "execution_count": 14,
   "metadata": {},
   "outputs": [
    {
     "data": {
      "text/plain": [
       "<matplotlib.axes._subplots.AxesSubplot at 0x27a884024c8>"
      ]
     },
     "execution_count": 14,
     "metadata": {},
     "output_type": "execute_result"
    },
    {
     "data": {
      "image/png": "[encoded data removed]",
      "text/plain": [
       "<Figure size 432x288 with 1 Axes>"
      ]
     },
     "metadata": {
      "needs_background": "light"
     },
     "output_type": "display_data"
    }
   ],
   "source": [
    "# create a dataframe that holds the forecast values.\n",
    "return_forecast = pd.DataFrame(results.forecast(steps=30)[0])\n",
    "# Visualize the forecast\n",
    "return_forecast.plot(title=\"Return Forecast\")"
   ]
  },
  {
   "cell_type": "markdown",
   "metadata": {},
   "source": [
    "## Forecast Market Return "
   ]
  },
  {
   "cell_type": "code",
   "execution_count": 15,
   "metadata": {},
   "outputs": [
    {
     "data": {
      "text/html": [
       "<div>\n",
       "<style scoped>\n",
       "    .dataframe tbody tr th:only-of-type {\n",
       "        vertical-align: middle;\n",
       "    }\n",
       "\n",
       "    .dataframe tbody tr th {\n",
       "        vertical-align: top;\n",
       "    }\n",
       "\n",
       "    .dataframe thead th {\n",
       "        text-align: right;\n",
       "    }\n",
       "</style>\n",
       "<table border=\"1\" class=\"dataframe\">\n",
       "  <thead>\n",
       "    <tr style=\"text-align: right;\">\n",
       "      <th></th>\n",
       "      <th>Market Return</th>\n",
       "    </tr>\n",
       "    <tr>\n",
       "      <th>Date</th>\n",
       "      <th></th>\n",
       "    </tr>\n",
       "  </thead>\n",
       "  <tbody>\n",
       "    <tr>\n",
       "      <th>2018-07-02</th>\n",
       "      <td>1.002766</td>\n",
       "    </tr>\n",
       "    <tr>\n",
       "      <th>2018-07-03</th>\n",
       "      <td>0.998673</td>\n",
       "    </tr>\n",
       "  </tbody>\n",
       "</table>\n",
       "</div>"
      ],
      "text/plain": [
       "            Market Return\n",
       "Date                     \n",
       "2018-07-02       1.002766\n",
       "2018-07-03       0.998673"
      ]
     },
     "execution_count": 15,
     "metadata": {},
     "output_type": "execute_result"
    }
   ],
   "source": [
    "market = df[\"Market Return\"].to_frame().dropna()\n",
    "market.head(2)"
   ]
  },
  {
   "cell_type": "code",
   "execution_count": 16,
   "metadata": {},
   "outputs": [
    {
     "name": "stdout",
     "output_type": "stream",
     "text": [
      "Performing stepwise search to minimize aic\n",
      " ARIMA(1,1,1)(0,0,0)[0] intercept   : AIC=-2946.308, Time=0.54 sec\n",
      " ARIMA(0,1,0)(0,0,0)[0] intercept   : AIC=-2907.627, Time=0.14 sec\n",
      " ARIMA(1,1,0)(0,0,0)[0] intercept   : AIC=-2942.425, Time=0.23 sec\n",
      " ARIMA(0,1,1)(0,0,0)[0] intercept   : AIC=-2932.675, Time=0.22 sec\n",
      " ARIMA(0,1,0)(0,0,0)[0]             : AIC=-2909.181, Time=0.04 sec\n",
      " ARIMA(2,1,1)(0,0,0)[0] intercept   : AIC=-2951.490, Time=0.71 sec\n",
      " ARIMA(2,1,0)(0,0,0)[0] intercept   : AIC=-2952.185, Time=0.30 sec\n",
      " ARIMA(3,1,0)(0,0,0)[0] intercept   : AIC=-2953.594, Time=0.39 sec\n",
      " ARIMA(4,1,0)(0,0,0)[0] intercept   : AIC=-2960.419, Time=0.32 sec\n",
      " ARIMA(5,1,0)(0,0,0)[0] intercept   : AIC=-2960.733, Time=0.46 sec\n",
      " ARIMA(6,1,0)(0,0,0)[0] intercept   : AIC=-2965.183, Time=0.52 sec\n",
      " ARIMA(7,1,0)(0,0,0)[0] intercept   : AIC=-2989.695, Time=0.82 sec\n",
      " ARIMA(7,1,1)(0,0,0)[0] intercept   : AIC=-2999.727, Time=1.68 sec\n",
      " ARIMA(6,1,1)(0,0,0)[0] intercept   : AIC=-2989.848, Time=1.48 sec\n",
      " ARIMA(7,1,2)(0,0,0)[0] intercept   : AIC=-2999.767, Time=1.80 sec\n",
      " ARIMA(6,1,2)(0,0,0)[0] intercept   : AIC=-2983.937, Time=1.71 sec\n",
      " ARIMA(7,1,3)(0,0,0)[0] intercept   : AIC=-2984.654, Time=2.07 sec\n",
      " ARIMA(6,1,3)(0,0,0)[0] intercept   : AIC=-2984.211, Time=1.80 sec\n",
      " ARIMA(7,1,2)(0,0,0)[0]             : AIC=-3001.533, Time=1.11 sec\n",
      " ARIMA(6,1,2)(0,0,0)[0]             : AIC=-2986.820, Time=0.88 sec\n",
      " ARIMA(7,1,1)(0,0,0)[0]             : AIC=-3002.719, Time=0.92 sec\n",
      " ARIMA(6,1,1)(0,0,0)[0]             : AIC=-2994.589, Time=0.82 sec\n",
      " ARIMA(7,1,0)(0,0,0)[0]             : AIC=-2991.236, Time=0.23 sec\n",
      " ARIMA(6,1,0)(0,0,0)[0]             : AIC=-2966.523, Time=0.22 sec\n",
      "\n",
      "Best model:  ARIMA(7,1,1)(0,0,0)[0]          \n",
      "Total fit time: 19.422 seconds\n"
     ]
    }
   ],
   "source": [
    "from pmdarima.arima import auto_arima\n",
    "step_wise=auto_arima(market,\n",
    " start_p=1, start_q=1, \n",
    " max_p=7, max_q=7, \n",
    " d=1, max_d=7,\n",
    " trace=True, \n",
    " error_action='ignore', \n",
    " suppress_warnings=True, \n",
    " stepwise=True)"
   ]
  },
  {
   "cell_type": "code",
   "execution_count": 17,
   "metadata": {},
   "outputs": [
    {
     "data": {
      "text/html": [
       "<table class=\"simpletable\">\n",
       "<caption>SARIMAX Results</caption>\n",
       "<tr>\n",
       "  <th>Dep. Variable:</th>           <td>y</td>        <th>  No. Observations:  </th>    <td>538</td>   \n",
       "</tr>\n",
       "<tr>\n",
       "  <th>Model:</th>           <td>SARIMAX(7, 1, 1)</td> <th>  Log Likelihood     </th> <td>1510.359</td> \n",
       "</tr>\n",
       "<tr>\n",
       "  <th>Date:</th>            <td>Wed, 26 Aug 2020</td> <th>  AIC                </th> <td>-3002.719</td>\n",
       "</tr>\n",
       "<tr>\n",
       "  <th>Time:</th>                <td>12:38:09</td>     <th>  BIC                </th> <td>-2964.145</td>\n",
       "</tr>\n",
       "<tr>\n",
       "  <th>Sample:</th>                  <td>0</td>        <th>  HQIC               </th> <td>-2987.629</td>\n",
       "</tr>\n",
       "<tr>\n",
       "  <th></th>                      <td> - 538</td>      <th>                     </th>     <td> </td>    \n",
       "</tr>\n",
       "<tr>\n",
       "  <th>Covariance Type:</th>        <td>opg</td>       <th>                     </th>     <td> </td>    \n",
       "</tr>\n",
       "</table>\n",
       "<table class=\"simpletable\">\n",
       "<tr>\n",
       "     <td></td>       <th>coef</th>     <th>std err</th>      <th>z</th>      <th>P>|z|</th>  <th>[0.025</th>    <th>0.975]</th>  \n",
       "</tr>\n",
       "<tr>\n",
       "  <th>ar.L1</th>  <td>   -0.7080</td> <td>    0.081</td> <td>   -8.757</td> <td> 0.000</td> <td>   -0.866</td> <td>   -0.550</td>\n",
       "</tr>\n",
       "<tr>\n",
       "  <th>ar.L2</th>  <td>    0.0545</td> <td>    0.032</td> <td>    1.685</td> <td> 0.092</td> <td>   -0.009</td> <td>    0.118</td>\n",
       "</tr>\n",
       "<tr>\n",
       "  <th>ar.L3</th>  <td>    0.1549</td> <td>    0.031</td> <td>    4.936</td> <td> 0.000</td> <td>    0.093</td> <td>    0.216</td>\n",
       "</tr>\n",
       "<tr>\n",
       "  <th>ar.L4</th>  <td>   -0.0785</td> <td>    0.031</td> <td>   -2.500</td> <td> 0.012</td> <td>   -0.140</td> <td>   -0.017</td>\n",
       "</tr>\n",
       "<tr>\n",
       "  <th>ar.L5</th>  <td>   -0.0439</td> <td>    0.038</td> <td>   -1.152</td> <td> 0.249</td> <td>   -0.119</td> <td>    0.031</td>\n",
       "</tr>\n",
       "<tr>\n",
       "  <th>ar.L6</th>  <td>   -0.0409</td> <td>    0.035</td> <td>   -1.160</td> <td> 0.246</td> <td>   -0.110</td> <td>    0.028</td>\n",
       "</tr>\n",
       "<tr>\n",
       "  <th>ar.L7</th>  <td>    0.1657</td> <td>    0.034</td> <td>    4.824</td> <td> 0.000</td> <td>    0.098</td> <td>    0.233</td>\n",
       "</tr>\n",
       "<tr>\n",
       "  <th>ma.L1</th>  <td>    0.5695</td> <td>    0.082</td> <td>    6.913</td> <td> 0.000</td> <td>    0.408</td> <td>    0.731</td>\n",
       "</tr>\n",
       "<tr>\n",
       "  <th>sigma2</th> <td>    0.0002</td> <td> 6.45e-06</td> <td>   32.684</td> <td> 0.000</td> <td>    0.000</td> <td>    0.000</td>\n",
       "</tr>\n",
       "</table>\n",
       "<table class=\"simpletable\">\n",
       "<tr>\n",
       "  <th>Ljung-Box (Q):</th>          <td>34.98</td> <th>  Jarque-Bera (JB):  </th> <td>1438.93</td>\n",
       "</tr>\n",
       "<tr>\n",
       "  <th>Prob(Q):</th>                <td>0.70</td>  <th>  Prob(JB):          </th>  <td>0.00</td>  \n",
       "</tr>\n",
       "<tr>\n",
       "  <th>Heteroskedasticity (H):</th> <td>4.10</td>  <th>  Skew:              </th>  <td>-1.00</td> \n",
       "</tr>\n",
       "<tr>\n",
       "  <th>Prob(H) (two-sided):</th>    <td>0.00</td>  <th>  Kurtosis:          </th>  <td>10.76</td> \n",
       "</tr>\n",
       "</table><br/><br/>Warnings:<br/>[1] Covariance matrix calculated using the outer product of gradients (complex-step)."
      ],
      "text/plain": [
       "<class 'statsmodels.iolib.summary.Summary'>\n",
       "\"\"\"\n",
       "                               SARIMAX Results                                \n",
       "==============================================================================\n",
       "Dep. Variable:                      y   No. Observations:                  538\n",
       "Model:               SARIMAX(7, 1, 1)   Log Likelihood                1510.359\n",
       "Date:                Wed, 26 Aug 2020   AIC                          -3002.719\n",
       "Time:                        12:38:09   BIC                          -2964.145\n",
       "Sample:                             0   HQIC                         -2987.629\n",
       "                                - 538                                         \n",
       "Covariance Type:                  opg                                         \n",
       "==============================================================================\n",
       "                 coef    std err          z      P>|z|      [0.025      0.975]\n",
       "------------------------------------------------------------------------------\n",
       "ar.L1         -0.7080      0.081     -8.757      0.000      -0.866      -0.550\n",
       "ar.L2          0.0545      0.032      1.685      0.092      -0.009       0.118\n",
       "ar.L3          0.1549      0.031      4.936      0.000       0.093       0.216\n",
       "ar.L4         -0.0785      0.031     -2.500      0.012      -0.140      -0.017\n",
       "ar.L5         -0.0439      0.038     -1.152      0.249      -0.119       0.031\n",
       "ar.L6         -0.0409      0.035     -1.160      0.246      -0.110       0.028\n",
       "ar.L7          0.1657      0.034      4.824      0.000       0.098       0.233\n",
       "ma.L1          0.5695      0.082      6.913      0.000       0.408       0.731\n",
       "sigma2         0.0002   6.45e-06     32.684      0.000       0.000       0.000\n",
       "===================================================================================\n",
       "Ljung-Box (Q):                       34.98   Jarque-Bera (JB):              1438.93\n",
       "Prob(Q):                              0.70   Prob(JB):                         0.00\n",
       "Heteroskedasticity (H):               4.10   Skew:                            -1.00\n",
       "Prob(H) (two-sided):                  0.00   Kurtosis:                        10.76\n",
       "===================================================================================\n",
       "\n",
       "Warnings:\n",
       "[1] Covariance matrix calculated using the outer product of gradients (complex-step).\n",
       "\"\"\""
      ]
     },
     "execution_count": 17,
     "metadata": {},
     "output_type": "execute_result"
    }
   ],
   "source": [
    "step_wise.summary()"
   ]
  },
  {
   "cell_type": "code",
   "execution_count": 18,
   "metadata": {},
   "outputs": [
    {
     "name": "stderr",
     "output_type": "stream",
     "text": [
      "C:\\Users\\Sungwon Kim\\anaconda3\\envs\\dev\\lib\\site-packages\\statsmodels\\tsa\\base\\tsa_model.py:218: ValueWarning: A date index has been provided, but it has no associated frequency information and so will be ignored when e.g. forecasting.\n",
      "  ' ignored when e.g. forecasting.', ValueWarning)\n",
      "C:\\Users\\Sungwon Kim\\anaconda3\\envs\\dev\\lib\\site-packages\\statsmodels\\tsa\\base\\tsa_model.py:218: ValueWarning: A date index has been provided, but it has no associated frequency information and so will be ignored when e.g. forecasting.\n",
      "  ' ignored when e.g. forecasting.', ValueWarning)\n"
     ]
    }
   ],
   "source": [
    "# Create an ARIMA model\n",
    "model_1 = ARIMA(market, order=(7, 1, 1))"
   ]
  },
  {
   "cell_type": "code",
   "execution_count": 19,
   "metadata": {},
   "outputs": [],
   "source": [
    "# Fit the model to the data\n",
    "results_1 = model_1.fit()"
   ]
  },
  {
   "cell_type": "code",
   "execution_count": 20,
   "metadata": {},
   "outputs": [
    {
     "data": {
      "text/html": [
       "<table class=\"simpletable\">\n",
       "<caption>ARIMA Model Results</caption>\n",
       "<tr>\n",
       "  <th>Dep. Variable:</th>  <td>D.Market Return</td> <th>  No. Observations:  </th>    <td>537</td>   \n",
       "</tr>\n",
       "<tr>\n",
       "  <th>Model:</th>          <td>ARIMA(7, 1, 1)</td>  <th>  Log Likelihood     </th> <td>1510.616</td> \n",
       "</tr>\n",
       "<tr>\n",
       "  <th>Method:</th>             <td>css-mle</td>     <th>  S.D. of innovations</th>   <td>0.015</td>  \n",
       "</tr>\n",
       "<tr>\n",
       "  <th>Date:</th>          <td>Wed, 26 Aug 2020</td> <th>  AIC                </th> <td>-3001.232</td>\n",
       "</tr>\n",
       "<tr>\n",
       "  <th>Time:</th>              <td>12:38:12</td>     <th>  BIC                </th> <td>-2958.372</td>\n",
       "</tr>\n",
       "<tr>\n",
       "  <th>Sample:</th>                <td>1</td>        <th>  HQIC               </th> <td>-2984.465</td>\n",
       "</tr>\n",
       "<tr>\n",
       "  <th></th>                       <td> </td>        <th>                     </th>     <td> </td>    \n",
       "</tr>\n",
       "</table>\n",
       "<table class=\"simpletable\">\n",
       "<tr>\n",
       "            <td></td>               <th>coef</th>     <th>std err</th>      <th>z</th>      <th>P>|z|</th>  <th>[0.025</th>    <th>0.975]</th>  \n",
       "</tr>\n",
       "<tr>\n",
       "  <th>const</th>                 <td>    0.0005</td> <td>    0.001</td> <td>    0.717</td> <td> 0.474</td> <td>   -0.001</td> <td>    0.002</td>\n",
       "</tr>\n",
       "<tr>\n",
       "  <th>ar.L1.D.Market Return</th> <td>   -0.7104</td> <td>    0.102</td> <td>   -6.942</td> <td> 0.000</td> <td>   -0.911</td> <td>   -0.510</td>\n",
       "</tr>\n",
       "<tr>\n",
       "  <th>ar.L2.D.Market Return</th> <td>    0.0516</td> <td>    0.055</td> <td>    0.932</td> <td> 0.351</td> <td>   -0.057</td> <td>    0.160</td>\n",
       "</tr>\n",
       "<tr>\n",
       "  <th>ar.L3.D.Market Return</th> <td>    0.1529</td> <td>    0.054</td> <td>    2.824</td> <td> 0.005</td> <td>    0.047</td> <td>    0.259</td>\n",
       "</tr>\n",
       "<tr>\n",
       "  <th>ar.L4.D.Market Return</th> <td>   -0.0803</td> <td>    0.053</td> <td>   -1.521</td> <td> 0.128</td> <td>   -0.184</td> <td>    0.023</td>\n",
       "</tr>\n",
       "<tr>\n",
       "  <th>ar.L5.D.Market Return</th> <td>   -0.0454</td> <td>    0.053</td> <td>   -0.863</td> <td> 0.388</td> <td>   -0.149</td> <td>    0.058</td>\n",
       "</tr>\n",
       "<tr>\n",
       "  <th>ar.L6.D.Market Return</th> <td>   -0.0408</td> <td>    0.052</td> <td>   -0.780</td> <td> 0.435</td> <td>   -0.143</td> <td>    0.062</td>\n",
       "</tr>\n",
       "<tr>\n",
       "  <th>ar.L7.D.Market Return</th> <td>    0.1652</td> <td>    0.050</td> <td>    3.300</td> <td> 0.001</td> <td>    0.067</td> <td>    0.263</td>\n",
       "</tr>\n",
       "<tr>\n",
       "  <th>ma.L1.D.Market Return</th> <td>    0.5714</td> <td>    0.098</td> <td>    5.805</td> <td> 0.000</td> <td>    0.378</td> <td>    0.764</td>\n",
       "</tr>\n",
       "</table>\n",
       "<table class=\"simpletable\">\n",
       "<caption>Roots</caption>\n",
       "<tr>\n",
       "    <td></td>   <th>            Real</th>  <th>         Imaginary</th> <th>         Modulus</th>  <th>        Frequency</th>\n",
       "</tr>\n",
       "<tr>\n",
       "  <th>AR.1</th> <td>          -0.9961</td> <td>          -0.4352j</td> <td>           1.0870</td> <td>          -0.4344</td>\n",
       "</tr>\n",
       "<tr>\n",
       "  <th>AR.2</th> <td>          -0.9961</td> <td>          +0.4352j</td> <td>           1.0870</td> <td>           0.4344</td>\n",
       "</tr>\n",
       "<tr>\n",
       "  <th>AR.3</th> <td>          -0.5160</td> <td>          -1.2106j</td> <td>           1.3159</td> <td>          -0.3141</td>\n",
       "</tr>\n",
       "<tr>\n",
       "  <th>AR.4</th> <td>          -0.5160</td> <td>          +1.2106j</td> <td>           1.3159</td> <td>           0.3141</td>\n",
       "</tr>\n",
       "<tr>\n",
       "  <th>AR.5</th> <td>           0.8950</td> <td>          -1.0937j</td> <td>           1.4132</td> <td>          -0.1408</td>\n",
       "</tr>\n",
       "<tr>\n",
       "  <th>AR.6</th> <td>           0.8950</td> <td>          +1.0937j</td> <td>           1.4132</td> <td>           0.1408</td>\n",
       "</tr>\n",
       "<tr>\n",
       "  <th>AR.7</th> <td>           1.4811</td> <td>          -0.0000j</td> <td>           1.4811</td> <td>          -0.0000</td>\n",
       "</tr>\n",
       "<tr>\n",
       "  <th>MA.1</th> <td>          -1.7500</td> <td>          +0.0000j</td> <td>           1.7500</td> <td>           0.5000</td>\n",
       "</tr>\n",
       "</table>"
      ],
      "text/plain": [
       "<class 'statsmodels.iolib.summary.Summary'>\n",
       "\"\"\"\n",
       "                             ARIMA Model Results                              \n",
       "==============================================================================\n",
       "Dep. Variable:        D.Market Return   No. Observations:                  537\n",
       "Model:                 ARIMA(7, 1, 1)   Log Likelihood                1510.616\n",
       "Method:                       css-mle   S.D. of innovations              0.015\n",
       "Date:                Wed, 26 Aug 2020   AIC                          -3001.232\n",
       "Time:                        12:38:12   BIC                          -2958.372\n",
       "Sample:                             1   HQIC                         -2984.465\n",
       "                                                                              \n",
       "=========================================================================================\n",
       "                            coef    std err          z      P>|z|      [0.025      0.975]\n",
       "-----------------------------------------------------------------------------------------\n",
       "const                     0.0005      0.001      0.717      0.474      -0.001       0.002\n",
       "ar.L1.D.Market Return    -0.7104      0.102     -6.942      0.000      -0.911      -0.510\n",
       "ar.L2.D.Market Return     0.0516      0.055      0.932      0.351      -0.057       0.160\n",
       "ar.L3.D.Market Return     0.1529      0.054      2.824      0.005       0.047       0.259\n",
       "ar.L4.D.Market Return    -0.0803      0.053     -1.521      0.128      -0.184       0.023\n",
       "ar.L5.D.Market Return    -0.0454      0.053     -0.863      0.388      -0.149       0.058\n",
       "ar.L6.D.Market Return    -0.0408      0.052     -0.780      0.435      -0.143       0.062\n",
       "ar.L7.D.Market Return     0.1652      0.050      3.300      0.001       0.067       0.263\n",
       "ma.L1.D.Market Return     0.5714      0.098      5.805      0.000       0.378       0.764\n",
       "                                    Roots                                    \n",
       "=============================================================================\n",
       "                  Real          Imaginary           Modulus         Frequency\n",
       "-----------------------------------------------------------------------------\n",
       "AR.1           -0.9961           -0.4352j            1.0870           -0.4344\n",
       "AR.2           -0.9961           +0.4352j            1.0870            0.4344\n",
       "AR.3           -0.5160           -1.2106j            1.3159           -0.3141\n",
       "AR.4           -0.5160           +1.2106j            1.3159            0.3141\n",
       "AR.5            0.8950           -1.0937j            1.4132           -0.1408\n",
       "AR.6            0.8950           +1.0937j            1.4132            0.1408\n",
       "AR.7            1.4811           -0.0000j            1.4811           -0.0000\n",
       "MA.1           -1.7500           +0.0000j            1.7500            0.5000\n",
       "-----------------------------------------------------------------------------\n",
       "\"\"\""
      ]
     },
     "execution_count": 20,
     "metadata": {},
     "output_type": "execute_result"
    }
   ],
   "source": [
    "# Print the model summary\n",
    "results_1.summary()"
   ]
  },
  {
   "cell_type": "code",
   "execution_count": 21,
   "metadata": {
    "scrolled": true
   },
   "outputs": [
    {
     "data": {
      "text/plain": [
       "<matplotlib.axes._subplots.AxesSubplot at 0x27a884f7588>"
      ]
     },
     "execution_count": 21,
     "metadata": {},
     "output_type": "execute_result"
    },
    {
     "data": {
      "image/png": "[encoded data removed]",
      "text/plain": [
       "<Figure size 432x288 with 1 Axes>"
      ]
     },
     "metadata": {
      "needs_background": "light"
     },
     "output_type": "display_data"
    }
   ],
   "source": [
    "# create a dataframe that holds the forecast values.\n",
    "market_return_forecast = pd.DataFrame(results_1.forecast(steps=30)[0])\n",
    "\n",
    "# Visualize the forecast\n",
    "market_return_forecast.plot(title=\"Market Return Forecast\")"
   ]
  },
  {
   "cell_type": "code",
   "execution_count": 31,
   "metadata": {
    "scrolled": true
   },
   "outputs": [
    {
     "data": {
      "text/html": [
       "<div>\n",
       "<style scoped>\n",
       "    .dataframe tbody tr th:only-of-type {\n",
       "        vertical-align: middle;\n",
       "    }\n",
       "\n",
       "    .dataframe tbody tr th {\n",
       "        vertical-align: top;\n",
       "    }\n",
       "\n",
       "    .dataframe thead th {\n",
       "        text-align: right;\n",
       "    }\n",
       "</style>\n",
       "<table border=\"1\" class=\"dataframe\">\n",
       "  <thead>\n",
       "    <tr style=\"text-align: right;\">\n",
       "      <th></th>\n",
       "      <th>Market Return Forecast</th>\n",
       "      <th>Portfolio Return Forecast</th>\n",
       "    </tr>\n",
       "    <tr>\n",
       "      <th>Date</th>\n",
       "      <th></th>\n",
       "      <th></th>\n",
       "    </tr>\n",
       "  </thead>\n",
       "  <tbody>\n",
       "    <tr>\n",
       "      <th>2020-08-24</th>\n",
       "      <td>1.247800</td>\n",
       "      <td>1.293612</td>\n",
       "    </tr>\n",
       "    <tr>\n",
       "      <th>2020-08-25</th>\n",
       "      <td>1.255084</td>\n",
       "      <td>1.300404</td>\n",
       "    </tr>\n",
       "    <tr>\n",
       "      <th>2020-08-26</th>\n",
       "      <td>1.251183</td>\n",
       "      <td>1.297286</td>\n",
       "    </tr>\n",
       "    <tr>\n",
       "      <th>2020-08-27</th>\n",
       "      <td>1.254580</td>\n",
       "      <td>1.300204</td>\n",
       "    </tr>\n",
       "    <tr>\n",
       "      <th>2020-08-28</th>\n",
       "      <td>1.252888</td>\n",
       "      <td>1.299077</td>\n",
       "    </tr>\n",
       "  </tbody>\n",
       "</table>\n",
       "</div>"
      ],
      "text/plain": [
       "            Market Return Forecast  Portfolio Return Forecast\n",
       "Date                                                         \n",
       "2020-08-24                1.247800                   1.293612\n",
       "2020-08-25                1.255084                   1.300404\n",
       "2020-08-26                1.251183                   1.297286\n",
       "2020-08-27                1.254580                   1.300204\n",
       "2020-08-28                1.252888                   1.299077"
      ]
     },
     "execution_count": 31,
     "metadata": {},
     "output_type": "execute_result"
    }
   ],
   "source": [
    "# concatenate the dataframes\n",
    "forecast_df = pd.concat([market_return_forecast, return_forecast], axis=1)\n",
    "forecast_df.columns = [ \"Market Return Forecast\", \"Portfolio Return Forecast\"]\n",
    "forecast_df.index = pd.bdate_range(start='8/24/2020', periods = 30)\n",
    "forecast_df.index.names = ['Date']\n",
    "forecast_df.head()"
   ]
  },
  {
   "cell_type": "code",
   "execution_count": 23,
   "metadata": {},
   "outputs": [
    {
     "data": {
      "text/plain": [
       "<matplotlib.axes._subplots.AxesSubplot at 0x27a8d9bae88>"
      ]
     },
     "execution_count": 23,
     "metadata": {},
     "output_type": "execute_result"
    },
    {
     "data": {
      "image/png": "[encoded data removed]",
      "text/plain": [
       "<Figure size 432x288 with 1 Axes>"
      ]
     },
     "metadata": {
      "needs_background": "light"
     },
     "output_type": "display_data"
    }
   ],
   "source": [
    "forecast_df.plot()"
   ]
  },
  {
   "cell_type": "code",
   "execution_count": 24,
   "metadata": {},
   "outputs": [],
   "source": [
    "final_df = pd.concat([df, forecast_df], axis=0, sort=False)"
   ]
  },
  {
   "cell_type": "code",
   "execution_count": 25,
   "metadata": {},
   "outputs": [
    {
     "data": {
      "text/plain": [
       "<matplotlib.lines.Line2D at 0x27a8fba2308>"
      ]
     },
     "execution_count": 25,
     "metadata": {},
     "output_type": "execute_result"
    },
    {
     "data": {
      "text/plain": [
       "<Figure size 432x288 with 0 Axes>"
      ]
     },
     "metadata": {},
     "output_type": "display_data"
    },
    {
     "data": {
      "image/png": "[encoded data removed]",
      "text/plain": [
       "<Figure size 1080x432 with 1 Axes>"
      ]
     },
     "metadata": {
      "needs_background": "light"
     },
     "output_type": "display_data"
    }
   ],
   "source": [
    "plt.figure();\n",
    "final_df.plot(figsize=(15,6))\n",
    "plt.title('AVG Weighting Portfolio Actual and Prediction')\n",
    "plt.axvline(forecast_df.index[0], color='r', linestyle='--')"
   ]
  },
  {
   "cell_type": "code",
   "execution_count": 32,
   "metadata": {},
   "outputs": [],
   "source": [
    "forecast_df.to_csv(\"./Resources/forecast_arima_avg.csv\")"
   ]
  },
  {
   "cell_type": "code",
   "execution_count": null,
   "metadata": {},
   "outputs": [],
   "source": []
  },
  {
   "cell_type": "code",
   "execution_count": null,
   "metadata": {},
   "outputs": [],
   "source": []
  }
 ],
 "metadata": {
  "kernelspec": {
   "display_name": "Python 3",
   "language": "python",
   "name": "python3"
  },
  "language_info": {
   "codemirror_mode": {
    "name": "ipython",
    "version": 3
   },
   "file_extension": ".py",
   "mimetype": "text/x-python",
   "name": "python",
   "nbconvert_exporter": "python",
   "pygments_lexer": "ipython3",
   "version": "3.7.7"
  }
 },
 "nbformat": 4,
 "nbformat_minor": 4
}
